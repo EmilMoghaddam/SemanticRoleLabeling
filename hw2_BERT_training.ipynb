{
  "nbformat": 4,
  "nbformat_minor": 0,
  "metadata": {
    "colab": {
      "name": "nlp_transformer.ipynb",
      "provenance": [],
      "collapsed_sections": [],
      "machine_shape": "hm"
    },
    "kernelspec": {
      "name": "python3",
      "display_name": "Python 3"
    },
    "language_info": {
      "name": "python"
    },
    "accelerator": "GPU",
    "gpuClass": "standard",
    "widgets": {
      "application/vnd.jupyter.widget-state+json": {
        "e222b32c0ddc45f19a0ff8c7ec15e916": {
          "model_module": "@jupyter-widgets/controls",
          "model_name": "HBoxModel",
          "model_module_version": "1.5.0",
          "state": {
            "_dom_classes": [],
            "_model_module": "@jupyter-widgets/controls",
            "_model_module_version": "1.5.0",
            "_model_name": "HBoxModel",
            "_view_count": null,
            "_view_module": "@jupyter-widgets/controls",
            "_view_module_version": "1.5.0",
            "_view_name": "HBoxView",
            "box_style": "",
            "children": [
              "IPY_MODEL_52c569a1dd89469da082495d7fae0443",
              "IPY_MODEL_4901a68e10f9444fb8e417f54d66132c",
              "IPY_MODEL_b1570e4e41714fa38ab1c816658e5f94"
            ],
            "layout": "IPY_MODEL_6cc7531ccd214e7388f669e7c1dc7a2a"
          }
        },
        "52c569a1dd89469da082495d7fae0443": {
          "model_module": "@jupyter-widgets/controls",
          "model_name": "HTMLModel",
          "model_module_version": "1.5.0",
          "state": {
            "_dom_classes": [],
            "_model_module": "@jupyter-widgets/controls",
            "_model_module_version": "1.5.0",
            "_model_name": "HTMLModel",
            "_view_count": null,
            "_view_module": "@jupyter-widgets/controls",
            "_view_module_version": "1.5.0",
            "_view_name": "HTMLView",
            "description": "",
            "description_tooltip": null,
            "layout": "IPY_MODEL_6a88160715714f13ae88f99d3b9a3b80",
            "placeholder": "​",
            "style": "IPY_MODEL_457d5406b84a402ba3ba5a11a8819c45",
            "value": "Validation DataLoader 0: 100%"
          }
        },
        "4901a68e10f9444fb8e417f54d66132c": {
          "model_module": "@jupyter-widgets/controls",
          "model_name": "FloatProgressModel",
          "model_module_version": "1.5.0",
          "state": {
            "_dom_classes": [],
            "_model_module": "@jupyter-widgets/controls",
            "_model_module_version": "1.5.0",
            "_model_name": "FloatProgressModel",
            "_view_count": null,
            "_view_module": "@jupyter-widgets/controls",
            "_view_module_version": "1.5.0",
            "_view_name": "ProgressView",
            "bar_style": "success",
            "description": "",
            "description_tooltip": null,
            "layout": "IPY_MODEL_f6a7759a98c4453da7ee804633923140",
            "max": 1,
            "min": 0,
            "orientation": "horizontal",
            "style": "IPY_MODEL_e5d420efab9844a7b9ddc65c6ec8a313",
            "value": 1
          }
        },
        "b1570e4e41714fa38ab1c816658e5f94": {
          "model_module": "@jupyter-widgets/controls",
          "model_name": "HTMLModel",
          "model_module_version": "1.5.0",
          "state": {
            "_dom_classes": [],
            "_model_module": "@jupyter-widgets/controls",
            "_model_module_version": "1.5.0",
            "_model_name": "HTMLModel",
            "_view_count": null,
            "_view_module": "@jupyter-widgets/controls",
            "_view_module_version": "1.5.0",
            "_view_name": "HTMLView",
            "description": "",
            "description_tooltip": null,
            "layout": "IPY_MODEL_88b2e025a8e64547b9009744dc4117b9",
            "placeholder": "​",
            "style": "IPY_MODEL_4f5f682408f34c7db90945cba56052b1",
            "value": " 64/64 [00:09&lt;00:00,  6.88it/s]"
          }
        },
        "6cc7531ccd214e7388f669e7c1dc7a2a": {
          "model_module": "@jupyter-widgets/base",
          "model_name": "LayoutModel",
          "model_module_version": "1.2.0",
          "state": {
            "_model_module": "@jupyter-widgets/base",
            "_model_module_version": "1.2.0",
            "_model_name": "LayoutModel",
            "_view_count": null,
            "_view_module": "@jupyter-widgets/base",
            "_view_module_version": "1.2.0",
            "_view_name": "LayoutView",
            "align_content": null,
            "align_items": null,
            "align_self": null,
            "border": null,
            "bottom": null,
            "display": "inline-flex",
            "flex": null,
            "flex_flow": "row wrap",
            "grid_area": null,
            "grid_auto_columns": null,
            "grid_auto_flow": null,
            "grid_auto_rows": null,
            "grid_column": null,
            "grid_gap": null,
            "grid_row": null,
            "grid_template_areas": null,
            "grid_template_columns": null,
            "grid_template_rows": null,
            "height": null,
            "justify_content": null,
            "justify_items": null,
            "left": null,
            "margin": null,
            "max_height": null,
            "max_width": null,
            "min_height": null,
            "min_width": null,
            "object_fit": null,
            "object_position": null,
            "order": null,
            "overflow": null,
            "overflow_x": null,
            "overflow_y": null,
            "padding": null,
            "right": null,
            "top": null,
            "visibility": null,
            "width": "100%"
          }
        },
        "6a88160715714f13ae88f99d3b9a3b80": {
          "model_module": "@jupyter-widgets/base",
          "model_name": "LayoutModel",
          "model_module_version": "1.2.0",
          "state": {
            "_model_module": "@jupyter-widgets/base",
            "_model_module_version": "1.2.0",
            "_model_name": "LayoutModel",
            "_view_count": null,
            "_view_module": "@jupyter-widgets/base",
            "_view_module_version": "1.2.0",
            "_view_name": "LayoutView",
            "align_content": null,
            "align_items": null,
            "align_self": null,
            "border": null,
            "bottom": null,
            "display": null,
            "flex": null,
            "flex_flow": null,
            "grid_area": null,
            "grid_auto_columns": null,
            "grid_auto_flow": null,
            "grid_auto_rows": null,
            "grid_column": null,
            "grid_gap": null,
            "grid_row": null,
            "grid_template_areas": null,
            "grid_template_columns": null,
            "grid_template_rows": null,
            "height": null,
            "justify_content": null,
            "justify_items": null,
            "left": null,
            "margin": null,
            "max_height": null,
            "max_width": null,
            "min_height": null,
            "min_width": null,
            "object_fit": null,
            "object_position": null,
            "order": null,
            "overflow": null,
            "overflow_x": null,
            "overflow_y": null,
            "padding": null,
            "right": null,
            "top": null,
            "visibility": null,
            "width": null
          }
        },
        "457d5406b84a402ba3ba5a11a8819c45": {
          "model_module": "@jupyter-widgets/controls",
          "model_name": "DescriptionStyleModel",
          "model_module_version": "1.5.0",
          "state": {
            "_model_module": "@jupyter-widgets/controls",
            "_model_module_version": "1.5.0",
            "_model_name": "DescriptionStyleModel",
            "_view_count": null,
            "_view_module": "@jupyter-widgets/base",
            "_view_module_version": "1.2.0",
            "_view_name": "StyleView",
            "description_width": ""
          }
        },
        "f6a7759a98c4453da7ee804633923140": {
          "model_module": "@jupyter-widgets/base",
          "model_name": "LayoutModel",
          "model_module_version": "1.2.0",
          "state": {
            "_model_module": "@jupyter-widgets/base",
            "_model_module_version": "1.2.0",
            "_model_name": "LayoutModel",
            "_view_count": null,
            "_view_module": "@jupyter-widgets/base",
            "_view_module_version": "1.2.0",
            "_view_name": "LayoutView",
            "align_content": null,
            "align_items": null,
            "align_self": null,
            "border": null,
            "bottom": null,
            "display": null,
            "flex": "2",
            "flex_flow": null,
            "grid_area": null,
            "grid_auto_columns": null,
            "grid_auto_flow": null,
            "grid_auto_rows": null,
            "grid_column": null,
            "grid_gap": null,
            "grid_row": null,
            "grid_template_areas": null,
            "grid_template_columns": null,
            "grid_template_rows": null,
            "height": null,
            "justify_content": null,
            "justify_items": null,
            "left": null,
            "margin": null,
            "max_height": null,
            "max_width": null,
            "min_height": null,
            "min_width": null,
            "object_fit": null,
            "object_position": null,
            "order": null,
            "overflow": null,
            "overflow_x": null,
            "overflow_y": null,
            "padding": null,
            "right": null,
            "top": null,
            "visibility": null,
            "width": null
          }
        },
        "e5d420efab9844a7b9ddc65c6ec8a313": {
          "model_module": "@jupyter-widgets/controls",
          "model_name": "ProgressStyleModel",
          "model_module_version": "1.5.0",
          "state": {
            "_model_module": "@jupyter-widgets/controls",
            "_model_module_version": "1.5.0",
            "_model_name": "ProgressStyleModel",
            "_view_count": null,
            "_view_module": "@jupyter-widgets/base",
            "_view_module_version": "1.2.0",
            "_view_name": "StyleView",
            "bar_color": null,
            "description_width": ""
          }
        },
        "88b2e025a8e64547b9009744dc4117b9": {
          "model_module": "@jupyter-widgets/base",
          "model_name": "LayoutModel",
          "model_module_version": "1.2.0",
          "state": {
            "_model_module": "@jupyter-widgets/base",
            "_model_module_version": "1.2.0",
            "_model_name": "LayoutModel",
            "_view_count": null,
            "_view_module": "@jupyter-widgets/base",
            "_view_module_version": "1.2.0",
            "_view_name": "LayoutView",
            "align_content": null,
            "align_items": null,
            "align_self": null,
            "border": null,
            "bottom": null,
            "display": null,
            "flex": null,
            "flex_flow": null,
            "grid_area": null,
            "grid_auto_columns": null,
            "grid_auto_flow": null,
            "grid_auto_rows": null,
            "grid_column": null,
            "grid_gap": null,
            "grid_row": null,
            "grid_template_areas": null,
            "grid_template_columns": null,
            "grid_template_rows": null,
            "height": null,
            "justify_content": null,
            "justify_items": null,
            "left": null,
            "margin": null,
            "max_height": null,
            "max_width": null,
            "min_height": null,
            "min_width": null,
            "object_fit": null,
            "object_position": null,
            "order": null,
            "overflow": null,
            "overflow_x": null,
            "overflow_y": null,
            "padding": null,
            "right": null,
            "top": null,
            "visibility": null,
            "width": null
          }
        },
        "4f5f682408f34c7db90945cba56052b1": {
          "model_module": "@jupyter-widgets/controls",
          "model_name": "DescriptionStyleModel",
          "model_module_version": "1.5.0",
          "state": {
            "_model_module": "@jupyter-widgets/controls",
            "_model_module_version": "1.5.0",
            "_model_name": "DescriptionStyleModel",
            "_view_count": null,
            "_view_module": "@jupyter-widgets/base",
            "_view_module_version": "1.2.0",
            "_view_name": "StyleView",
            "description_width": ""
          }
        },
        "94fb7865b6414b8695c5ac3e6dbfc6f5": {
          "model_module": "@jupyter-widgets/controls",
          "model_name": "HBoxModel",
          "model_module_version": "1.5.0",
          "state": {
            "_dom_classes": [],
            "_model_module": "@jupyter-widgets/controls",
            "_model_module_version": "1.5.0",
            "_model_name": "HBoxModel",
            "_view_count": null,
            "_view_module": "@jupyter-widgets/controls",
            "_view_module_version": "1.5.0",
            "_view_name": "HBoxView",
            "box_style": "",
            "children": [
              "IPY_MODEL_f997def3b171498aa6a376bdf9e5329f",
              "IPY_MODEL_be63094300fc4d3baed257fefecdded8",
              "IPY_MODEL_eb9a19760e424ab6bb3556ac99122e4b"
            ],
            "layout": "IPY_MODEL_7ec7305e59624081b7dd99910ca6f633"
          }
        },
        "f997def3b171498aa6a376bdf9e5329f": {
          "model_module": "@jupyter-widgets/controls",
          "model_name": "HTMLModel",
          "model_module_version": "1.5.0",
          "state": {
            "_dom_classes": [],
            "_model_module": "@jupyter-widgets/controls",
            "_model_module_version": "1.5.0",
            "_model_name": "HTMLModel",
            "_view_count": null,
            "_view_module": "@jupyter-widgets/controls",
            "_view_module_version": "1.5.0",
            "_view_name": "HTMLView",
            "description": "",
            "description_tooltip": null,
            "layout": "IPY_MODEL_1b4a2558a9e042bfa23e226a5de0c13c",
            "placeholder": "​",
            "style": "IPY_MODEL_e72eb28f2fca4a73bd8ee6b49b8a3aa9",
            "value": "Validation DataLoader 0: 100%"
          }
        },
        "be63094300fc4d3baed257fefecdded8": {
          "model_module": "@jupyter-widgets/controls",
          "model_name": "FloatProgressModel",
          "model_module_version": "1.5.0",
          "state": {
            "_dom_classes": [],
            "_model_module": "@jupyter-widgets/controls",
            "_model_module_version": "1.5.0",
            "_model_name": "FloatProgressModel",
            "_view_count": null,
            "_view_module": "@jupyter-widgets/controls",
            "_view_module_version": "1.5.0",
            "_view_name": "ProgressView",
            "bar_style": "success",
            "description": "",
            "description_tooltip": null,
            "layout": "IPY_MODEL_e52979008bd0492b97b79e67256ab84c",
            "max": 1,
            "min": 0,
            "orientation": "horizontal",
            "style": "IPY_MODEL_9fc67c4a71fe42bf8ac4b6513bd71469",
            "value": 1
          }
        },
        "eb9a19760e424ab6bb3556ac99122e4b": {
          "model_module": "@jupyter-widgets/controls",
          "model_name": "HTMLModel",
          "model_module_version": "1.5.0",
          "state": {
            "_dom_classes": [],
            "_model_module": "@jupyter-widgets/controls",
            "_model_module_version": "1.5.0",
            "_model_name": "HTMLModel",
            "_view_count": null,
            "_view_module": "@jupyter-widgets/controls",
            "_view_module_version": "1.5.0",
            "_view_name": "HTMLView",
            "description": "",
            "description_tooltip": null,
            "layout": "IPY_MODEL_39556c9b51564ab3a3034131fe6be4a4",
            "placeholder": "​",
            "style": "IPY_MODEL_901ccff8a78c4187a48a7f03d0adf206",
            "value": " 64/64 [00:09&lt;00:00,  6.74it/s]"
          }
        },
        "7ec7305e59624081b7dd99910ca6f633": {
          "model_module": "@jupyter-widgets/base",
          "model_name": "LayoutModel",
          "model_module_version": "1.2.0",
          "state": {
            "_model_module": "@jupyter-widgets/base",
            "_model_module_version": "1.2.0",
            "_model_name": "LayoutModel",
            "_view_count": null,
            "_view_module": "@jupyter-widgets/base",
            "_view_module_version": "1.2.0",
            "_view_name": "LayoutView",
            "align_content": null,
            "align_items": null,
            "align_self": null,
            "border": null,
            "bottom": null,
            "display": "inline-flex",
            "flex": null,
            "flex_flow": "row wrap",
            "grid_area": null,
            "grid_auto_columns": null,
            "grid_auto_flow": null,
            "grid_auto_rows": null,
            "grid_column": null,
            "grid_gap": null,
            "grid_row": null,
            "grid_template_areas": null,
            "grid_template_columns": null,
            "grid_template_rows": null,
            "height": null,
            "justify_content": null,
            "justify_items": null,
            "left": null,
            "margin": null,
            "max_height": null,
            "max_width": null,
            "min_height": null,
            "min_width": null,
            "object_fit": null,
            "object_position": null,
            "order": null,
            "overflow": null,
            "overflow_x": null,
            "overflow_y": null,
            "padding": null,
            "right": null,
            "top": null,
            "visibility": null,
            "width": "100%"
          }
        },
        "1b4a2558a9e042bfa23e226a5de0c13c": {
          "model_module": "@jupyter-widgets/base",
          "model_name": "LayoutModel",
          "model_module_version": "1.2.0",
          "state": {
            "_model_module": "@jupyter-widgets/base",
            "_model_module_version": "1.2.0",
            "_model_name": "LayoutModel",
            "_view_count": null,
            "_view_module": "@jupyter-widgets/base",
            "_view_module_version": "1.2.0",
            "_view_name": "LayoutView",
            "align_content": null,
            "align_items": null,
            "align_self": null,
            "border": null,
            "bottom": null,
            "display": null,
            "flex": null,
            "flex_flow": null,
            "grid_area": null,
            "grid_auto_columns": null,
            "grid_auto_flow": null,
            "grid_auto_rows": null,
            "grid_column": null,
            "grid_gap": null,
            "grid_row": null,
            "grid_template_areas": null,
            "grid_template_columns": null,
            "grid_template_rows": null,
            "height": null,
            "justify_content": null,
            "justify_items": null,
            "left": null,
            "margin": null,
            "max_height": null,
            "max_width": null,
            "min_height": null,
            "min_width": null,
            "object_fit": null,
            "object_position": null,
            "order": null,
            "overflow": null,
            "overflow_x": null,
            "overflow_y": null,
            "padding": null,
            "right": null,
            "top": null,
            "visibility": null,
            "width": null
          }
        },
        "e72eb28f2fca4a73bd8ee6b49b8a3aa9": {
          "model_module": "@jupyter-widgets/controls",
          "model_name": "DescriptionStyleModel",
          "model_module_version": "1.5.0",
          "state": {
            "_model_module": "@jupyter-widgets/controls",
            "_model_module_version": "1.5.0",
            "_model_name": "DescriptionStyleModel",
            "_view_count": null,
            "_view_module": "@jupyter-widgets/base",
            "_view_module_version": "1.2.0",
            "_view_name": "StyleView",
            "description_width": ""
          }
        },
        "e52979008bd0492b97b79e67256ab84c": {
          "model_module": "@jupyter-widgets/base",
          "model_name": "LayoutModel",
          "model_module_version": "1.2.0",
          "state": {
            "_model_module": "@jupyter-widgets/base",
            "_model_module_version": "1.2.0",
            "_model_name": "LayoutModel",
            "_view_count": null,
            "_view_module": "@jupyter-widgets/base",
            "_view_module_version": "1.2.0",
            "_view_name": "LayoutView",
            "align_content": null,
            "align_items": null,
            "align_self": null,
            "border": null,
            "bottom": null,
            "display": null,
            "flex": "2",
            "flex_flow": null,
            "grid_area": null,
            "grid_auto_columns": null,
            "grid_auto_flow": null,
            "grid_auto_rows": null,
            "grid_column": null,
            "grid_gap": null,
            "grid_row": null,
            "grid_template_areas": null,
            "grid_template_columns": null,
            "grid_template_rows": null,
            "height": null,
            "justify_content": null,
            "justify_items": null,
            "left": null,
            "margin": null,
            "max_height": null,
            "max_width": null,
            "min_height": null,
            "min_width": null,
            "object_fit": null,
            "object_position": null,
            "order": null,
            "overflow": null,
            "overflow_x": null,
            "overflow_y": null,
            "padding": null,
            "right": null,
            "top": null,
            "visibility": null,
            "width": null
          }
        },
        "9fc67c4a71fe42bf8ac4b6513bd71469": {
          "model_module": "@jupyter-widgets/controls",
          "model_name": "ProgressStyleModel",
          "model_module_version": "1.5.0",
          "state": {
            "_model_module": "@jupyter-widgets/controls",
            "_model_module_version": "1.5.0",
            "_model_name": "ProgressStyleModel",
            "_view_count": null,
            "_view_module": "@jupyter-widgets/base",
            "_view_module_version": "1.2.0",
            "_view_name": "StyleView",
            "bar_color": null,
            "description_width": ""
          }
        },
        "39556c9b51564ab3a3034131fe6be4a4": {
          "model_module": "@jupyter-widgets/base",
          "model_name": "LayoutModel",
          "model_module_version": "1.2.0",
          "state": {
            "_model_module": "@jupyter-widgets/base",
            "_model_module_version": "1.2.0",
            "_model_name": "LayoutModel",
            "_view_count": null,
            "_view_module": "@jupyter-widgets/base",
            "_view_module_version": "1.2.0",
            "_view_name": "LayoutView",
            "align_content": null,
            "align_items": null,
            "align_self": null,
            "border": null,
            "bottom": null,
            "display": null,
            "flex": null,
            "flex_flow": null,
            "grid_area": null,
            "grid_auto_columns": null,
            "grid_auto_flow": null,
            "grid_auto_rows": null,
            "grid_column": null,
            "grid_gap": null,
            "grid_row": null,
            "grid_template_areas": null,
            "grid_template_columns": null,
            "grid_template_rows": null,
            "height": null,
            "justify_content": null,
            "justify_items": null,
            "left": null,
            "margin": null,
            "max_height": null,
            "max_width": null,
            "min_height": null,
            "min_width": null,
            "object_fit": null,
            "object_position": null,
            "order": null,
            "overflow": null,
            "overflow_x": null,
            "overflow_y": null,
            "padding": null,
            "right": null,
            "top": null,
            "visibility": null,
            "width": null
          }
        },
        "901ccff8a78c4187a48a7f03d0adf206": {
          "model_module": "@jupyter-widgets/controls",
          "model_name": "DescriptionStyleModel",
          "model_module_version": "1.5.0",
          "state": {
            "_model_module": "@jupyter-widgets/controls",
            "_model_module_version": "1.5.0",
            "_model_name": "DescriptionStyleModel",
            "_view_count": null,
            "_view_module": "@jupyter-widgets/base",
            "_view_module_version": "1.2.0",
            "_view_name": "StyleView",
            "description_width": ""
          }
        },
        "749520fa70c24e0faa806e407b171af2": {
          "model_module": "@jupyter-widgets/controls",
          "model_name": "HBoxModel",
          "model_module_version": "1.5.0",
          "state": {
            "_dom_classes": [],
            "_model_module": "@jupyter-widgets/controls",
            "_model_module_version": "1.5.0",
            "_model_name": "HBoxModel",
            "_view_count": null,
            "_view_module": "@jupyter-widgets/controls",
            "_view_module_version": "1.5.0",
            "_view_name": "HBoxView",
            "box_style": "",
            "children": [
              "IPY_MODEL_d308180121524010b60aa64ee38d4675",
              "IPY_MODEL_2e0caa65c5184a20af1b9a4b88fee1c4",
              "IPY_MODEL_2bf25db02b96404d8f95697553300b61"
            ],
            "layout": "IPY_MODEL_da7c0ae1225e44c6aeda72833e175ca8"
          }
        },
        "d308180121524010b60aa64ee38d4675": {
          "model_module": "@jupyter-widgets/controls",
          "model_name": "HTMLModel",
          "model_module_version": "1.5.0",
          "state": {
            "_dom_classes": [],
            "_model_module": "@jupyter-widgets/controls",
            "_model_module_version": "1.5.0",
            "_model_name": "HTMLModel",
            "_view_count": null,
            "_view_module": "@jupyter-widgets/controls",
            "_view_module_version": "1.5.0",
            "_view_name": "HTMLView",
            "description": "",
            "description_tooltip": null,
            "layout": "IPY_MODEL_1ffac7634aa64899abf32c94cd808fe7",
            "placeholder": "​",
            "style": "IPY_MODEL_de236b4bd3f940dbaa350c2778b7397d",
            "value": "Validation DataLoader 0: 100%"
          }
        },
        "2e0caa65c5184a20af1b9a4b88fee1c4": {
          "model_module": "@jupyter-widgets/controls",
          "model_name": "FloatProgressModel",
          "model_module_version": "1.5.0",
          "state": {
            "_dom_classes": [],
            "_model_module": "@jupyter-widgets/controls",
            "_model_module_version": "1.5.0",
            "_model_name": "FloatProgressModel",
            "_view_count": null,
            "_view_module": "@jupyter-widgets/controls",
            "_view_module_version": "1.5.0",
            "_view_name": "ProgressView",
            "bar_style": "success",
            "description": "",
            "description_tooltip": null,
            "layout": "IPY_MODEL_50e5ff049329417b8caf89a35a7117fb",
            "max": 1,
            "min": 0,
            "orientation": "horizontal",
            "style": "IPY_MODEL_5b7801f0647844f3ac644af0d5c5e6ec",
            "value": 1
          }
        },
        "2bf25db02b96404d8f95697553300b61": {
          "model_module": "@jupyter-widgets/controls",
          "model_name": "HTMLModel",
          "model_module_version": "1.5.0",
          "state": {
            "_dom_classes": [],
            "_model_module": "@jupyter-widgets/controls",
            "_model_module_version": "1.5.0",
            "_model_name": "HTMLModel",
            "_view_count": null,
            "_view_module": "@jupyter-widgets/controls",
            "_view_module_version": "1.5.0",
            "_view_name": "HTMLView",
            "description": "",
            "description_tooltip": null,
            "layout": "IPY_MODEL_a14cca10e99c4ba18d9ed52a50a12c9e",
            "placeholder": "​",
            "style": "IPY_MODEL_98e6e055e8f14e7ba8cddd5e163d70b3",
            "value": " 64/64 [00:12&lt;00:00,  5.21it/s]"
          }
        },
        "da7c0ae1225e44c6aeda72833e175ca8": {
          "model_module": "@jupyter-widgets/base",
          "model_name": "LayoutModel",
          "model_module_version": "1.2.0",
          "state": {
            "_model_module": "@jupyter-widgets/base",
            "_model_module_version": "1.2.0",
            "_model_name": "LayoutModel",
            "_view_count": null,
            "_view_module": "@jupyter-widgets/base",
            "_view_module_version": "1.2.0",
            "_view_name": "LayoutView",
            "align_content": null,
            "align_items": null,
            "align_self": null,
            "border": null,
            "bottom": null,
            "display": "inline-flex",
            "flex": null,
            "flex_flow": "row wrap",
            "grid_area": null,
            "grid_auto_columns": null,
            "grid_auto_flow": null,
            "grid_auto_rows": null,
            "grid_column": null,
            "grid_gap": null,
            "grid_row": null,
            "grid_template_areas": null,
            "grid_template_columns": null,
            "grid_template_rows": null,
            "height": null,
            "justify_content": null,
            "justify_items": null,
            "left": null,
            "margin": null,
            "max_height": null,
            "max_width": null,
            "min_height": null,
            "min_width": null,
            "object_fit": null,
            "object_position": null,
            "order": null,
            "overflow": null,
            "overflow_x": null,
            "overflow_y": null,
            "padding": null,
            "right": null,
            "top": null,
            "visibility": null,
            "width": "100%"
          }
        },
        "1ffac7634aa64899abf32c94cd808fe7": {
          "model_module": "@jupyter-widgets/base",
          "model_name": "LayoutModel",
          "model_module_version": "1.2.0",
          "state": {
            "_model_module": "@jupyter-widgets/base",
            "_model_module_version": "1.2.0",
            "_model_name": "LayoutModel",
            "_view_count": null,
            "_view_module": "@jupyter-widgets/base",
            "_view_module_version": "1.2.0",
            "_view_name": "LayoutView",
            "align_content": null,
            "align_items": null,
            "align_self": null,
            "border": null,
            "bottom": null,
            "display": null,
            "flex": null,
            "flex_flow": null,
            "grid_area": null,
            "grid_auto_columns": null,
            "grid_auto_flow": null,
            "grid_auto_rows": null,
            "grid_column": null,
            "grid_gap": null,
            "grid_row": null,
            "grid_template_areas": null,
            "grid_template_columns": null,
            "grid_template_rows": null,
            "height": null,
            "justify_content": null,
            "justify_items": null,
            "left": null,
            "margin": null,
            "max_height": null,
            "max_width": null,
            "min_height": null,
            "min_width": null,
            "object_fit": null,
            "object_position": null,
            "order": null,
            "overflow": null,
            "overflow_x": null,
            "overflow_y": null,
            "padding": null,
            "right": null,
            "top": null,
            "visibility": null,
            "width": null
          }
        },
        "de236b4bd3f940dbaa350c2778b7397d": {
          "model_module": "@jupyter-widgets/controls",
          "model_name": "DescriptionStyleModel",
          "model_module_version": "1.5.0",
          "state": {
            "_model_module": "@jupyter-widgets/controls",
            "_model_module_version": "1.5.0",
            "_model_name": "DescriptionStyleModel",
            "_view_count": null,
            "_view_module": "@jupyter-widgets/base",
            "_view_module_version": "1.2.0",
            "_view_name": "StyleView",
            "description_width": ""
          }
        },
        "50e5ff049329417b8caf89a35a7117fb": {
          "model_module": "@jupyter-widgets/base",
          "model_name": "LayoutModel",
          "model_module_version": "1.2.0",
          "state": {
            "_model_module": "@jupyter-widgets/base",
            "_model_module_version": "1.2.0",
            "_model_name": "LayoutModel",
            "_view_count": null,
            "_view_module": "@jupyter-widgets/base",
            "_view_module_version": "1.2.0",
            "_view_name": "LayoutView",
            "align_content": null,
            "align_items": null,
            "align_self": null,
            "border": null,
            "bottom": null,
            "display": null,
            "flex": "2",
            "flex_flow": null,
            "grid_area": null,
            "grid_auto_columns": null,
            "grid_auto_flow": null,
            "grid_auto_rows": null,
            "grid_column": null,
            "grid_gap": null,
            "grid_row": null,
            "grid_template_areas": null,
            "grid_template_columns": null,
            "grid_template_rows": null,
            "height": null,
            "justify_content": null,
            "justify_items": null,
            "left": null,
            "margin": null,
            "max_height": null,
            "max_width": null,
            "min_height": null,
            "min_width": null,
            "object_fit": null,
            "object_position": null,
            "order": null,
            "overflow": null,
            "overflow_x": null,
            "overflow_y": null,
            "padding": null,
            "right": null,
            "top": null,
            "visibility": null,
            "width": null
          }
        },
        "5b7801f0647844f3ac644af0d5c5e6ec": {
          "model_module": "@jupyter-widgets/controls",
          "model_name": "ProgressStyleModel",
          "model_module_version": "1.5.0",
          "state": {
            "_model_module": "@jupyter-widgets/controls",
            "_model_module_version": "1.5.0",
            "_model_name": "ProgressStyleModel",
            "_view_count": null,
            "_view_module": "@jupyter-widgets/base",
            "_view_module_version": "1.2.0",
            "_view_name": "StyleView",
            "bar_color": null,
            "description_width": ""
          }
        },
        "a14cca10e99c4ba18d9ed52a50a12c9e": {
          "model_module": "@jupyter-widgets/base",
          "model_name": "LayoutModel",
          "model_module_version": "1.2.0",
          "state": {
            "_model_module": "@jupyter-widgets/base",
            "_model_module_version": "1.2.0",
            "_model_name": "LayoutModel",
            "_view_count": null,
            "_view_module": "@jupyter-widgets/base",
            "_view_module_version": "1.2.0",
            "_view_name": "LayoutView",
            "align_content": null,
            "align_items": null,
            "align_self": null,
            "border": null,
            "bottom": null,
            "display": null,
            "flex": null,
            "flex_flow": null,
            "grid_area": null,
            "grid_auto_columns": null,
            "grid_auto_flow": null,
            "grid_auto_rows": null,
            "grid_column": null,
            "grid_gap": null,
            "grid_row": null,
            "grid_template_areas": null,
            "grid_template_columns": null,
            "grid_template_rows": null,
            "height": null,
            "justify_content": null,
            "justify_items": null,
            "left": null,
            "margin": null,
            "max_height": null,
            "max_width": null,
            "min_height": null,
            "min_width": null,
            "object_fit": null,
            "object_position": null,
            "order": null,
            "overflow": null,
            "overflow_x": null,
            "overflow_y": null,
            "padding": null,
            "right": null,
            "top": null,
            "visibility": null,
            "width": null
          }
        },
        "98e6e055e8f14e7ba8cddd5e163d70b3": {
          "model_module": "@jupyter-widgets/controls",
          "model_name": "DescriptionStyleModel",
          "model_module_version": "1.5.0",
          "state": {
            "_model_module": "@jupyter-widgets/controls",
            "_model_module_version": "1.5.0",
            "_model_name": "DescriptionStyleModel",
            "_view_count": null,
            "_view_module": "@jupyter-widgets/base",
            "_view_module_version": "1.2.0",
            "_view_name": "StyleView",
            "description_width": ""
          }
        },
        "afa8d87a3307433da7d30d96a1c731c0": {
          "model_module": "@jupyter-widgets/controls",
          "model_name": "HBoxModel",
          "model_module_version": "1.5.0",
          "state": {
            "_dom_classes": [],
            "_model_module": "@jupyter-widgets/controls",
            "_model_module_version": "1.5.0",
            "_model_name": "HBoxModel",
            "_view_count": null,
            "_view_module": "@jupyter-widgets/controls",
            "_view_module_version": "1.5.0",
            "_view_name": "HBoxView",
            "box_style": "",
            "children": [
              "IPY_MODEL_9592ec1f291f4880a32b1d35558b81f9",
              "IPY_MODEL_69600ab646424d4bb790fcf4cb2579a5",
              "IPY_MODEL_3bac000fcae140ccb54237154342b894"
            ],
            "layout": "IPY_MODEL_bad826538f21461cb084957afd27797a"
          }
        },
        "9592ec1f291f4880a32b1d35558b81f9": {
          "model_module": "@jupyter-widgets/controls",
          "model_name": "HTMLModel",
          "model_module_version": "1.5.0",
          "state": {
            "_dom_classes": [],
            "_model_module": "@jupyter-widgets/controls",
            "_model_module_version": "1.5.0",
            "_model_name": "HTMLModel",
            "_view_count": null,
            "_view_module": "@jupyter-widgets/controls",
            "_view_module_version": "1.5.0",
            "_view_name": "HTMLView",
            "description": "",
            "description_tooltip": null,
            "layout": "IPY_MODEL_3ad32c71b1f5407195636275b2c6989d",
            "placeholder": "​",
            "style": "IPY_MODEL_47d6ff39cc644fbbb8b52adb274166c7",
            "value": "Validation DataLoader 0: 100%"
          }
        },
        "69600ab646424d4bb790fcf4cb2579a5": {
          "model_module": "@jupyter-widgets/controls",
          "model_name": "FloatProgressModel",
          "model_module_version": "1.5.0",
          "state": {
            "_dom_classes": [],
            "_model_module": "@jupyter-widgets/controls",
            "_model_module_version": "1.5.0",
            "_model_name": "FloatProgressModel",
            "_view_count": null,
            "_view_module": "@jupyter-widgets/controls",
            "_view_module_version": "1.5.0",
            "_view_name": "ProgressView",
            "bar_style": "success",
            "description": "",
            "description_tooltip": null,
            "layout": "IPY_MODEL_29dd5f55c1e64985af719bd6c6118a29",
            "max": 1,
            "min": 0,
            "orientation": "horizontal",
            "style": "IPY_MODEL_b0f9f84846374ed08bb986be7a510395",
            "value": 1
          }
        },
        "3bac000fcae140ccb54237154342b894": {
          "model_module": "@jupyter-widgets/controls",
          "model_name": "HTMLModel",
          "model_module_version": "1.5.0",
          "state": {
            "_dom_classes": [],
            "_model_module": "@jupyter-widgets/controls",
            "_model_module_version": "1.5.0",
            "_model_name": "HTMLModel",
            "_view_count": null,
            "_view_module": "@jupyter-widgets/controls",
            "_view_module_version": "1.5.0",
            "_view_name": "HTMLView",
            "description": "",
            "description_tooltip": null,
            "layout": "IPY_MODEL_259e377be70041f082b0f54140414a4d",
            "placeholder": "​",
            "style": "IPY_MODEL_a7474745395b46be8a31baaf654bd2fa",
            "value": " 64/64 [00:12&lt;00:00,  5.23it/s]"
          }
        },
        "bad826538f21461cb084957afd27797a": {
          "model_module": "@jupyter-widgets/base",
          "model_name": "LayoutModel",
          "model_module_version": "1.2.0",
          "state": {
            "_model_module": "@jupyter-widgets/base",
            "_model_module_version": "1.2.0",
            "_model_name": "LayoutModel",
            "_view_count": null,
            "_view_module": "@jupyter-widgets/base",
            "_view_module_version": "1.2.0",
            "_view_name": "LayoutView",
            "align_content": null,
            "align_items": null,
            "align_self": null,
            "border": null,
            "bottom": null,
            "display": "inline-flex",
            "flex": null,
            "flex_flow": "row wrap",
            "grid_area": null,
            "grid_auto_columns": null,
            "grid_auto_flow": null,
            "grid_auto_rows": null,
            "grid_column": null,
            "grid_gap": null,
            "grid_row": null,
            "grid_template_areas": null,
            "grid_template_columns": null,
            "grid_template_rows": null,
            "height": null,
            "justify_content": null,
            "justify_items": null,
            "left": null,
            "margin": null,
            "max_height": null,
            "max_width": null,
            "min_height": null,
            "min_width": null,
            "object_fit": null,
            "object_position": null,
            "order": null,
            "overflow": null,
            "overflow_x": null,
            "overflow_y": null,
            "padding": null,
            "right": null,
            "top": null,
            "visibility": null,
            "width": "100%"
          }
        },
        "3ad32c71b1f5407195636275b2c6989d": {
          "model_module": "@jupyter-widgets/base",
          "model_name": "LayoutModel",
          "model_module_version": "1.2.0",
          "state": {
            "_model_module": "@jupyter-widgets/base",
            "_model_module_version": "1.2.0",
            "_model_name": "LayoutModel",
            "_view_count": null,
            "_view_module": "@jupyter-widgets/base",
            "_view_module_version": "1.2.0",
            "_view_name": "LayoutView",
            "align_content": null,
            "align_items": null,
            "align_self": null,
            "border": null,
            "bottom": null,
            "display": null,
            "flex": null,
            "flex_flow": null,
            "grid_area": null,
            "grid_auto_columns": null,
            "grid_auto_flow": null,
            "grid_auto_rows": null,
            "grid_column": null,
            "grid_gap": null,
            "grid_row": null,
            "grid_template_areas": null,
            "grid_template_columns": null,
            "grid_template_rows": null,
            "height": null,
            "justify_content": null,
            "justify_items": null,
            "left": null,
            "margin": null,
            "max_height": null,
            "max_width": null,
            "min_height": null,
            "min_width": null,
            "object_fit": null,
            "object_position": null,
            "order": null,
            "overflow": null,
            "overflow_x": null,
            "overflow_y": null,
            "padding": null,
            "right": null,
            "top": null,
            "visibility": null,
            "width": null
          }
        },
        "47d6ff39cc644fbbb8b52adb274166c7": {
          "model_module": "@jupyter-widgets/controls",
          "model_name": "DescriptionStyleModel",
          "model_module_version": "1.5.0",
          "state": {
            "_model_module": "@jupyter-widgets/controls",
            "_model_module_version": "1.5.0",
            "_model_name": "DescriptionStyleModel",
            "_view_count": null,
            "_view_module": "@jupyter-widgets/base",
            "_view_module_version": "1.2.0",
            "_view_name": "StyleView",
            "description_width": ""
          }
        },
        "29dd5f55c1e64985af719bd6c6118a29": {
          "model_module": "@jupyter-widgets/base",
          "model_name": "LayoutModel",
          "model_module_version": "1.2.0",
          "state": {
            "_model_module": "@jupyter-widgets/base",
            "_model_module_version": "1.2.0",
            "_model_name": "LayoutModel",
            "_view_count": null,
            "_view_module": "@jupyter-widgets/base",
            "_view_module_version": "1.2.0",
            "_view_name": "LayoutView",
            "align_content": null,
            "align_items": null,
            "align_self": null,
            "border": null,
            "bottom": null,
            "display": null,
            "flex": "2",
            "flex_flow": null,
            "grid_area": null,
            "grid_auto_columns": null,
            "grid_auto_flow": null,
            "grid_auto_rows": null,
            "grid_column": null,
            "grid_gap": null,
            "grid_row": null,
            "grid_template_areas": null,
            "grid_template_columns": null,
            "grid_template_rows": null,
            "height": null,
            "justify_content": null,
            "justify_items": null,
            "left": null,
            "margin": null,
            "max_height": null,
            "max_width": null,
            "min_height": null,
            "min_width": null,
            "object_fit": null,
            "object_position": null,
            "order": null,
            "overflow": null,
            "overflow_x": null,
            "overflow_y": null,
            "padding": null,
            "right": null,
            "top": null,
            "visibility": null,
            "width": null
          }
        },
        "b0f9f84846374ed08bb986be7a510395": {
          "model_module": "@jupyter-widgets/controls",
          "model_name": "ProgressStyleModel",
          "model_module_version": "1.5.0",
          "state": {
            "_model_module": "@jupyter-widgets/controls",
            "_model_module_version": "1.5.0",
            "_model_name": "ProgressStyleModel",
            "_view_count": null,
            "_view_module": "@jupyter-widgets/base",
            "_view_module_version": "1.2.0",
            "_view_name": "StyleView",
            "bar_color": null,
            "description_width": ""
          }
        },
        "259e377be70041f082b0f54140414a4d": {
          "model_module": "@jupyter-widgets/base",
          "model_name": "LayoutModel",
          "model_module_version": "1.2.0",
          "state": {
            "_model_module": "@jupyter-widgets/base",
            "_model_module_version": "1.2.0",
            "_model_name": "LayoutModel",
            "_view_count": null,
            "_view_module": "@jupyter-widgets/base",
            "_view_module_version": "1.2.0",
            "_view_name": "LayoutView",
            "align_content": null,
            "align_items": null,
            "align_self": null,
            "border": null,
            "bottom": null,
            "display": null,
            "flex": null,
            "flex_flow": null,
            "grid_area": null,
            "grid_auto_columns": null,
            "grid_auto_flow": null,
            "grid_auto_rows": null,
            "grid_column": null,
            "grid_gap": null,
            "grid_row": null,
            "grid_template_areas": null,
            "grid_template_columns": null,
            "grid_template_rows": null,
            "height": null,
            "justify_content": null,
            "justify_items": null,
            "left": null,
            "margin": null,
            "max_height": null,
            "max_width": null,
            "min_height": null,
            "min_width": null,
            "object_fit": null,
            "object_position": null,
            "order": null,
            "overflow": null,
            "overflow_x": null,
            "overflow_y": null,
            "padding": null,
            "right": null,
            "top": null,
            "visibility": null,
            "width": null
          }
        },
        "a7474745395b46be8a31baaf654bd2fa": {
          "model_module": "@jupyter-widgets/controls",
          "model_name": "DescriptionStyleModel",
          "model_module_version": "1.5.0",
          "state": {
            "_model_module": "@jupyter-widgets/controls",
            "_model_module_version": "1.5.0",
            "_model_name": "DescriptionStyleModel",
            "_view_count": null,
            "_view_module": "@jupyter-widgets/base",
            "_view_module_version": "1.2.0",
            "_view_name": "StyleView",
            "description_width": ""
          }
        },
        "cd61033b9a8545f7a82b0d8f87ada2a6": {
          "model_module": "@jupyter-widgets/controls",
          "model_name": "HBoxModel",
          "model_module_version": "1.5.0",
          "state": {
            "_dom_classes": [],
            "_model_module": "@jupyter-widgets/controls",
            "_model_module_version": "1.5.0",
            "_model_name": "HBoxModel",
            "_view_count": null,
            "_view_module": "@jupyter-widgets/controls",
            "_view_module_version": "1.5.0",
            "_view_name": "HBoxView",
            "box_style": "",
            "children": [
              "IPY_MODEL_bff787d9a70b40b5bbe3211139896c3c",
              "IPY_MODEL_6cc773fd765d45c39628315e1e030be5",
              "IPY_MODEL_63ee74b0b12b4cd5b037118f5fff65be"
            ],
            "layout": "IPY_MODEL_d0984951f0e24588a34881193b073103"
          }
        },
        "bff787d9a70b40b5bbe3211139896c3c": {
          "model_module": "@jupyter-widgets/controls",
          "model_name": "HTMLModel",
          "model_module_version": "1.5.0",
          "state": {
            "_dom_classes": [],
            "_model_module": "@jupyter-widgets/controls",
            "_model_module_version": "1.5.0",
            "_model_name": "HTMLModel",
            "_view_count": null,
            "_view_module": "@jupyter-widgets/controls",
            "_view_module_version": "1.5.0",
            "_view_name": "HTMLView",
            "description": "",
            "description_tooltip": null,
            "layout": "IPY_MODEL_4265cace86e341e88c0e658f334c9aa5",
            "placeholder": "​",
            "style": "IPY_MODEL_7fbb44514836499795c153f0766cfcb4",
            "value": "Validation DataLoader 0: 100%"
          }
        },
        "6cc773fd765d45c39628315e1e030be5": {
          "model_module": "@jupyter-widgets/controls",
          "model_name": "FloatProgressModel",
          "model_module_version": "1.5.0",
          "state": {
            "_dom_classes": [],
            "_model_module": "@jupyter-widgets/controls",
            "_model_module_version": "1.5.0",
            "_model_name": "FloatProgressModel",
            "_view_count": null,
            "_view_module": "@jupyter-widgets/controls",
            "_view_module_version": "1.5.0",
            "_view_name": "ProgressView",
            "bar_style": "success",
            "description": "",
            "description_tooltip": null,
            "layout": "IPY_MODEL_d576b25ab7354b1bb8734462fe0945d4",
            "max": 1,
            "min": 0,
            "orientation": "horizontal",
            "style": "IPY_MODEL_d139d3c7cd7e426faf5ff0bab4da754a",
            "value": 1
          }
        },
        "63ee74b0b12b4cd5b037118f5fff65be": {
          "model_module": "@jupyter-widgets/controls",
          "model_name": "HTMLModel",
          "model_module_version": "1.5.0",
          "state": {
            "_dom_classes": [],
            "_model_module": "@jupyter-widgets/controls",
            "_model_module_version": "1.5.0",
            "_model_name": "HTMLModel",
            "_view_count": null,
            "_view_module": "@jupyter-widgets/controls",
            "_view_module_version": "1.5.0",
            "_view_name": "HTMLView",
            "description": "",
            "description_tooltip": null,
            "layout": "IPY_MODEL_87204bd5b2e94232ac46117005f066d7",
            "placeholder": "​",
            "style": "IPY_MODEL_f7b48eebe7d44b98aab7a70ea9c95ffe",
            "value": " 63/63 [00:11&lt;00:00,  5.59it/s]"
          }
        },
        "d0984951f0e24588a34881193b073103": {
          "model_module": "@jupyter-widgets/base",
          "model_name": "LayoutModel",
          "model_module_version": "1.2.0",
          "state": {
            "_model_module": "@jupyter-widgets/base",
            "_model_module_version": "1.2.0",
            "_model_name": "LayoutModel",
            "_view_count": null,
            "_view_module": "@jupyter-widgets/base",
            "_view_module_version": "1.2.0",
            "_view_name": "LayoutView",
            "align_content": null,
            "align_items": null,
            "align_self": null,
            "border": null,
            "bottom": null,
            "display": "inline-flex",
            "flex": null,
            "flex_flow": "row wrap",
            "grid_area": null,
            "grid_auto_columns": null,
            "grid_auto_flow": null,
            "grid_auto_rows": null,
            "grid_column": null,
            "grid_gap": null,
            "grid_row": null,
            "grid_template_areas": null,
            "grid_template_columns": null,
            "grid_template_rows": null,
            "height": null,
            "justify_content": null,
            "justify_items": null,
            "left": null,
            "margin": null,
            "max_height": null,
            "max_width": null,
            "min_height": null,
            "min_width": null,
            "object_fit": null,
            "object_position": null,
            "order": null,
            "overflow": null,
            "overflow_x": null,
            "overflow_y": null,
            "padding": null,
            "right": null,
            "top": null,
            "visibility": null,
            "width": "100%"
          }
        },
        "4265cace86e341e88c0e658f334c9aa5": {
          "model_module": "@jupyter-widgets/base",
          "model_name": "LayoutModel",
          "model_module_version": "1.2.0",
          "state": {
            "_model_module": "@jupyter-widgets/base",
            "_model_module_version": "1.2.0",
            "_model_name": "LayoutModel",
            "_view_count": null,
            "_view_module": "@jupyter-widgets/base",
            "_view_module_version": "1.2.0",
            "_view_name": "LayoutView",
            "align_content": null,
            "align_items": null,
            "align_self": null,
            "border": null,
            "bottom": null,
            "display": null,
            "flex": null,
            "flex_flow": null,
            "grid_area": null,
            "grid_auto_columns": null,
            "grid_auto_flow": null,
            "grid_auto_rows": null,
            "grid_column": null,
            "grid_gap": null,
            "grid_row": null,
            "grid_template_areas": null,
            "grid_template_columns": null,
            "grid_template_rows": null,
            "height": null,
            "justify_content": null,
            "justify_items": null,
            "left": null,
            "margin": null,
            "max_height": null,
            "max_width": null,
            "min_height": null,
            "min_width": null,
            "object_fit": null,
            "object_position": null,
            "order": null,
            "overflow": null,
            "overflow_x": null,
            "overflow_y": null,
            "padding": null,
            "right": null,
            "top": null,
            "visibility": null,
            "width": null
          }
        },
        "7fbb44514836499795c153f0766cfcb4": {
          "model_module": "@jupyter-widgets/controls",
          "model_name": "DescriptionStyleModel",
          "model_module_version": "1.5.0",
          "state": {
            "_model_module": "@jupyter-widgets/controls",
            "_model_module_version": "1.5.0",
            "_model_name": "DescriptionStyleModel",
            "_view_count": null,
            "_view_module": "@jupyter-widgets/base",
            "_view_module_version": "1.2.0",
            "_view_name": "StyleView",
            "description_width": ""
          }
        },
        "d576b25ab7354b1bb8734462fe0945d4": {
          "model_module": "@jupyter-widgets/base",
          "model_name": "LayoutModel",
          "model_module_version": "1.2.0",
          "state": {
            "_model_module": "@jupyter-widgets/base",
            "_model_module_version": "1.2.0",
            "_model_name": "LayoutModel",
            "_view_count": null,
            "_view_module": "@jupyter-widgets/base",
            "_view_module_version": "1.2.0",
            "_view_name": "LayoutView",
            "align_content": null,
            "align_items": null,
            "align_self": null,
            "border": null,
            "bottom": null,
            "display": null,
            "flex": "2",
            "flex_flow": null,
            "grid_area": null,
            "grid_auto_columns": null,
            "grid_auto_flow": null,
            "grid_auto_rows": null,
            "grid_column": null,
            "grid_gap": null,
            "grid_row": null,
            "grid_template_areas": null,
            "grid_template_columns": null,
            "grid_template_rows": null,
            "height": null,
            "justify_content": null,
            "justify_items": null,
            "left": null,
            "margin": null,
            "max_height": null,
            "max_width": null,
            "min_height": null,
            "min_width": null,
            "object_fit": null,
            "object_position": null,
            "order": null,
            "overflow": null,
            "overflow_x": null,
            "overflow_y": null,
            "padding": null,
            "right": null,
            "top": null,
            "visibility": null,
            "width": null
          }
        },
        "d139d3c7cd7e426faf5ff0bab4da754a": {
          "model_module": "@jupyter-widgets/controls",
          "model_name": "ProgressStyleModel",
          "model_module_version": "1.5.0",
          "state": {
            "_model_module": "@jupyter-widgets/controls",
            "_model_module_version": "1.5.0",
            "_model_name": "ProgressStyleModel",
            "_view_count": null,
            "_view_module": "@jupyter-widgets/base",
            "_view_module_version": "1.2.0",
            "_view_name": "StyleView",
            "bar_color": null,
            "description_width": ""
          }
        },
        "87204bd5b2e94232ac46117005f066d7": {
          "model_module": "@jupyter-widgets/base",
          "model_name": "LayoutModel",
          "model_module_version": "1.2.0",
          "state": {
            "_model_module": "@jupyter-widgets/base",
            "_model_module_version": "1.2.0",
            "_model_name": "LayoutModel",
            "_view_count": null,
            "_view_module": "@jupyter-widgets/base",
            "_view_module_version": "1.2.0",
            "_view_name": "LayoutView",
            "align_content": null,
            "align_items": null,
            "align_self": null,
            "border": null,
            "bottom": null,
            "display": null,
            "flex": null,
            "flex_flow": null,
            "grid_area": null,
            "grid_auto_columns": null,
            "grid_auto_flow": null,
            "grid_auto_rows": null,
            "grid_column": null,
            "grid_gap": null,
            "grid_row": null,
            "grid_template_areas": null,
            "grid_template_columns": null,
            "grid_template_rows": null,
            "height": null,
            "justify_content": null,
            "justify_items": null,
            "left": null,
            "margin": null,
            "max_height": null,
            "max_width": null,
            "min_height": null,
            "min_width": null,
            "object_fit": null,
            "object_position": null,
            "order": null,
            "overflow": null,
            "overflow_x": null,
            "overflow_y": null,
            "padding": null,
            "right": null,
            "top": null,
            "visibility": null,
            "width": null
          }
        },
        "f7b48eebe7d44b98aab7a70ea9c95ffe": {
          "model_module": "@jupyter-widgets/controls",
          "model_name": "DescriptionStyleModel",
          "model_module_version": "1.5.0",
          "state": {
            "_model_module": "@jupyter-widgets/controls",
            "_model_module_version": "1.5.0",
            "_model_name": "DescriptionStyleModel",
            "_view_count": null,
            "_view_module": "@jupyter-widgets/base",
            "_view_module_version": "1.2.0",
            "_view_name": "StyleView",
            "description_width": ""
          }
        },
        "97426658971b4461afed638ab9186295": {
          "model_module": "@jupyter-widgets/controls",
          "model_name": "HBoxModel",
          "model_module_version": "1.5.0",
          "state": {
            "_dom_classes": [],
            "_model_module": "@jupyter-widgets/controls",
            "_model_module_version": "1.5.0",
            "_model_name": "HBoxModel",
            "_view_count": null,
            "_view_module": "@jupyter-widgets/controls",
            "_view_module_version": "1.5.0",
            "_view_name": "HBoxView",
            "box_style": "",
            "children": [
              "IPY_MODEL_54bc83b169d54d0880a318bc99e151f9",
              "IPY_MODEL_7e59c28c6a7245ee98b13a886f97114d",
              "IPY_MODEL_e22012e32aa54ae89052f8c271f4ea61"
            ],
            "layout": "IPY_MODEL_3f4ed7de54894116adf5f2eac2d4e802"
          }
        },
        "54bc83b169d54d0880a318bc99e151f9": {
          "model_module": "@jupyter-widgets/controls",
          "model_name": "HTMLModel",
          "model_module_version": "1.5.0",
          "state": {
            "_dom_classes": [],
            "_model_module": "@jupyter-widgets/controls",
            "_model_module_version": "1.5.0",
            "_model_name": "HTMLModel",
            "_view_count": null,
            "_view_module": "@jupyter-widgets/controls",
            "_view_module_version": "1.5.0",
            "_view_name": "HTMLView",
            "description": "",
            "description_tooltip": null,
            "layout": "IPY_MODEL_b914f2fa4fa04669801c70e80e7bfd55",
            "placeholder": "​",
            "style": "IPY_MODEL_40c6f464959a43178d41036db2b9ba45",
            "value": "Validation DataLoader 0: 100%"
          }
        },
        "7e59c28c6a7245ee98b13a886f97114d": {
          "model_module": "@jupyter-widgets/controls",
          "model_name": "FloatProgressModel",
          "model_module_version": "1.5.0",
          "state": {
            "_dom_classes": [],
            "_model_module": "@jupyter-widgets/controls",
            "_model_module_version": "1.5.0",
            "_model_name": "FloatProgressModel",
            "_view_count": null,
            "_view_module": "@jupyter-widgets/controls",
            "_view_module_version": "1.5.0",
            "_view_name": "ProgressView",
            "bar_style": "success",
            "description": "",
            "description_tooltip": null,
            "layout": "IPY_MODEL_d0fb0109733c4779a2dba87fd4d5098f",
            "max": 1,
            "min": 0,
            "orientation": "horizontal",
            "style": "IPY_MODEL_3abd2cdef561446a98f4f2d2d294a0e2",
            "value": 1
          }
        },
        "e22012e32aa54ae89052f8c271f4ea61": {
          "model_module": "@jupyter-widgets/controls",
          "model_name": "HTMLModel",
          "model_module_version": "1.5.0",
          "state": {
            "_dom_classes": [],
            "_model_module": "@jupyter-widgets/controls",
            "_model_module_version": "1.5.0",
            "_model_name": "HTMLModel",
            "_view_count": null,
            "_view_module": "@jupyter-widgets/controls",
            "_view_module_version": "1.5.0",
            "_view_name": "HTMLView",
            "description": "",
            "description_tooltip": null,
            "layout": "IPY_MODEL_697146c075844961a4dbe6d4cf6bd941",
            "placeholder": "​",
            "style": "IPY_MODEL_375a79fb13c24e5ea134ba2c722aa9ed",
            "value": " 63/63 [00:13&lt;00:00,  4.71it/s]"
          }
        },
        "3f4ed7de54894116adf5f2eac2d4e802": {
          "model_module": "@jupyter-widgets/base",
          "model_name": "LayoutModel",
          "model_module_version": "1.2.0",
          "state": {
            "_model_module": "@jupyter-widgets/base",
            "_model_module_version": "1.2.0",
            "_model_name": "LayoutModel",
            "_view_count": null,
            "_view_module": "@jupyter-widgets/base",
            "_view_module_version": "1.2.0",
            "_view_name": "LayoutView",
            "align_content": null,
            "align_items": null,
            "align_self": null,
            "border": null,
            "bottom": null,
            "display": "inline-flex",
            "flex": null,
            "flex_flow": "row wrap",
            "grid_area": null,
            "grid_auto_columns": null,
            "grid_auto_flow": null,
            "grid_auto_rows": null,
            "grid_column": null,
            "grid_gap": null,
            "grid_row": null,
            "grid_template_areas": null,
            "grid_template_columns": null,
            "grid_template_rows": null,
            "height": null,
            "justify_content": null,
            "justify_items": null,
            "left": null,
            "margin": null,
            "max_height": null,
            "max_width": null,
            "min_height": null,
            "min_width": null,
            "object_fit": null,
            "object_position": null,
            "order": null,
            "overflow": null,
            "overflow_x": null,
            "overflow_y": null,
            "padding": null,
            "right": null,
            "top": null,
            "visibility": null,
            "width": "100%"
          }
        },
        "b914f2fa4fa04669801c70e80e7bfd55": {
          "model_module": "@jupyter-widgets/base",
          "model_name": "LayoutModel",
          "model_module_version": "1.2.0",
          "state": {
            "_model_module": "@jupyter-widgets/base",
            "_model_module_version": "1.2.0",
            "_model_name": "LayoutModel",
            "_view_count": null,
            "_view_module": "@jupyter-widgets/base",
            "_view_module_version": "1.2.0",
            "_view_name": "LayoutView",
            "align_content": null,
            "align_items": null,
            "align_self": null,
            "border": null,
            "bottom": null,
            "display": null,
            "flex": null,
            "flex_flow": null,
            "grid_area": null,
            "grid_auto_columns": null,
            "grid_auto_flow": null,
            "grid_auto_rows": null,
            "grid_column": null,
            "grid_gap": null,
            "grid_row": null,
            "grid_template_areas": null,
            "grid_template_columns": null,
            "grid_template_rows": null,
            "height": null,
            "justify_content": null,
            "justify_items": null,
            "left": null,
            "margin": null,
            "max_height": null,
            "max_width": null,
            "min_height": null,
            "min_width": null,
            "object_fit": null,
            "object_position": null,
            "order": null,
            "overflow": null,
            "overflow_x": null,
            "overflow_y": null,
            "padding": null,
            "right": null,
            "top": null,
            "visibility": null,
            "width": null
          }
        },
        "40c6f464959a43178d41036db2b9ba45": {
          "model_module": "@jupyter-widgets/controls",
          "model_name": "DescriptionStyleModel",
          "model_module_version": "1.5.0",
          "state": {
            "_model_module": "@jupyter-widgets/controls",
            "_model_module_version": "1.5.0",
            "_model_name": "DescriptionStyleModel",
            "_view_count": null,
            "_view_module": "@jupyter-widgets/base",
            "_view_module_version": "1.2.0",
            "_view_name": "StyleView",
            "description_width": ""
          }
        },
        "d0fb0109733c4779a2dba87fd4d5098f": {
          "model_module": "@jupyter-widgets/base",
          "model_name": "LayoutModel",
          "model_module_version": "1.2.0",
          "state": {
            "_model_module": "@jupyter-widgets/base",
            "_model_module_version": "1.2.0",
            "_model_name": "LayoutModel",
            "_view_count": null,
            "_view_module": "@jupyter-widgets/base",
            "_view_module_version": "1.2.0",
            "_view_name": "LayoutView",
            "align_content": null,
            "align_items": null,
            "align_self": null,
            "border": null,
            "bottom": null,
            "display": null,
            "flex": "2",
            "flex_flow": null,
            "grid_area": null,
            "grid_auto_columns": null,
            "grid_auto_flow": null,
            "grid_auto_rows": null,
            "grid_column": null,
            "grid_gap": null,
            "grid_row": null,
            "grid_template_areas": null,
            "grid_template_columns": null,
            "grid_template_rows": null,
            "height": null,
            "justify_content": null,
            "justify_items": null,
            "left": null,
            "margin": null,
            "max_height": null,
            "max_width": null,
            "min_height": null,
            "min_width": null,
            "object_fit": null,
            "object_position": null,
            "order": null,
            "overflow": null,
            "overflow_x": null,
            "overflow_y": null,
            "padding": null,
            "right": null,
            "top": null,
            "visibility": null,
            "width": null
          }
        },
        "3abd2cdef561446a98f4f2d2d294a0e2": {
          "model_module": "@jupyter-widgets/controls",
          "model_name": "ProgressStyleModel",
          "model_module_version": "1.5.0",
          "state": {
            "_model_module": "@jupyter-widgets/controls",
            "_model_module_version": "1.5.0",
            "_model_name": "ProgressStyleModel",
            "_view_count": null,
            "_view_module": "@jupyter-widgets/base",
            "_view_module_version": "1.2.0",
            "_view_name": "StyleView",
            "bar_color": null,
            "description_width": ""
          }
        },
        "697146c075844961a4dbe6d4cf6bd941": {
          "model_module": "@jupyter-widgets/base",
          "model_name": "LayoutModel",
          "model_module_version": "1.2.0",
          "state": {
            "_model_module": "@jupyter-widgets/base",
            "_model_module_version": "1.2.0",
            "_model_name": "LayoutModel",
            "_view_count": null,
            "_view_module": "@jupyter-widgets/base",
            "_view_module_version": "1.2.0",
            "_view_name": "LayoutView",
            "align_content": null,
            "align_items": null,
            "align_self": null,
            "border": null,
            "bottom": null,
            "display": null,
            "flex": null,
            "flex_flow": null,
            "grid_area": null,
            "grid_auto_columns": null,
            "grid_auto_flow": null,
            "grid_auto_rows": null,
            "grid_column": null,
            "grid_gap": null,
            "grid_row": null,
            "grid_template_areas": null,
            "grid_template_columns": null,
            "grid_template_rows": null,
            "height": null,
            "justify_content": null,
            "justify_items": null,
            "left": null,
            "margin": null,
            "max_height": null,
            "max_width": null,
            "min_height": null,
            "min_width": null,
            "object_fit": null,
            "object_position": null,
            "order": null,
            "overflow": null,
            "overflow_x": null,
            "overflow_y": null,
            "padding": null,
            "right": null,
            "top": null,
            "visibility": null,
            "width": null
          }
        },
        "375a79fb13c24e5ea134ba2c722aa9ed": {
          "model_module": "@jupyter-widgets/controls",
          "model_name": "DescriptionStyleModel",
          "model_module_version": "1.5.0",
          "state": {
            "_model_module": "@jupyter-widgets/controls",
            "_model_module_version": "1.5.0",
            "_model_name": "DescriptionStyleModel",
            "_view_count": null,
            "_view_module": "@jupyter-widgets/base",
            "_view_module_version": "1.2.0",
            "_view_name": "StyleView",
            "description_width": ""
          }
        },
        "e09611f930a943a9806981d4d0cc4794": {
          "model_module": "@jupyter-widgets/controls",
          "model_name": "HBoxModel",
          "model_module_version": "1.5.0",
          "state": {
            "_dom_classes": [],
            "_model_module": "@jupyter-widgets/controls",
            "_model_module_version": "1.5.0",
            "_model_name": "HBoxModel",
            "_view_count": null,
            "_view_module": "@jupyter-widgets/controls",
            "_view_module_version": "1.5.0",
            "_view_name": "HBoxView",
            "box_style": "",
            "children": [
              "IPY_MODEL_ff53c4bfae9d4d6782f59ea31bd84c25",
              "IPY_MODEL_1c2ea98e91ef4cddbecf29eaf6caa2cb",
              "IPY_MODEL_7b46c4547be3400bb4863671846524f2"
            ],
            "layout": "IPY_MODEL_f9857ceee5244ef38d404cbe6b14feeb"
          }
        },
        "ff53c4bfae9d4d6782f59ea31bd84c25": {
          "model_module": "@jupyter-widgets/controls",
          "model_name": "HTMLModel",
          "model_module_version": "1.5.0",
          "state": {
            "_dom_classes": [],
            "_model_module": "@jupyter-widgets/controls",
            "_model_module_version": "1.5.0",
            "_model_name": "HTMLModel",
            "_view_count": null,
            "_view_module": "@jupyter-widgets/controls",
            "_view_module_version": "1.5.0",
            "_view_name": "HTMLView",
            "description": "",
            "description_tooltip": null,
            "layout": "IPY_MODEL_d827e234c06a4d399ff561eff95001f8",
            "placeholder": "​",
            "style": "IPY_MODEL_d7debccfef4347d1a49b82b925712874",
            "value": "Validation DataLoader 0: 100%"
          }
        },
        "1c2ea98e91ef4cddbecf29eaf6caa2cb": {
          "model_module": "@jupyter-widgets/controls",
          "model_name": "FloatProgressModel",
          "model_module_version": "1.5.0",
          "state": {
            "_dom_classes": [],
            "_model_module": "@jupyter-widgets/controls",
            "_model_module_version": "1.5.0",
            "_model_name": "FloatProgressModel",
            "_view_count": null,
            "_view_module": "@jupyter-widgets/controls",
            "_view_module_version": "1.5.0",
            "_view_name": "ProgressView",
            "bar_style": "success",
            "description": "",
            "description_tooltip": null,
            "layout": "IPY_MODEL_ee453787686d4f29b341b39e260aa9c5",
            "max": 1,
            "min": 0,
            "orientation": "horizontal",
            "style": "IPY_MODEL_dc2335bd002647a3a38a4b73c6d2414c",
            "value": 1
          }
        },
        "7b46c4547be3400bb4863671846524f2": {
          "model_module": "@jupyter-widgets/controls",
          "model_name": "HTMLModel",
          "model_module_version": "1.5.0",
          "state": {
            "_dom_classes": [],
            "_model_module": "@jupyter-widgets/controls",
            "_model_module_version": "1.5.0",
            "_model_name": "HTMLModel",
            "_view_count": null,
            "_view_module": "@jupyter-widgets/controls",
            "_view_module_version": "1.5.0",
            "_view_name": "HTMLView",
            "description": "",
            "description_tooltip": null,
            "layout": "IPY_MODEL_c55905c889ee4df98c061f0aa7c05da1",
            "placeholder": "​",
            "style": "IPY_MODEL_7098bd9b856c4eb094f8c0e32295c188",
            "value": " 64/64 [00:17&lt;00:00,  3.70it/s]"
          }
        },
        "f9857ceee5244ef38d404cbe6b14feeb": {
          "model_module": "@jupyter-widgets/base",
          "model_name": "LayoutModel",
          "model_module_version": "1.2.0",
          "state": {
            "_model_module": "@jupyter-widgets/base",
            "_model_module_version": "1.2.0",
            "_model_name": "LayoutModel",
            "_view_count": null,
            "_view_module": "@jupyter-widgets/base",
            "_view_module_version": "1.2.0",
            "_view_name": "LayoutView",
            "align_content": null,
            "align_items": null,
            "align_self": null,
            "border": null,
            "bottom": null,
            "display": "inline-flex",
            "flex": null,
            "flex_flow": "row wrap",
            "grid_area": null,
            "grid_auto_columns": null,
            "grid_auto_flow": null,
            "grid_auto_rows": null,
            "grid_column": null,
            "grid_gap": null,
            "grid_row": null,
            "grid_template_areas": null,
            "grid_template_columns": null,
            "grid_template_rows": null,
            "height": null,
            "justify_content": null,
            "justify_items": null,
            "left": null,
            "margin": null,
            "max_height": null,
            "max_width": null,
            "min_height": null,
            "min_width": null,
            "object_fit": null,
            "object_position": null,
            "order": null,
            "overflow": null,
            "overflow_x": null,
            "overflow_y": null,
            "padding": null,
            "right": null,
            "top": null,
            "visibility": null,
            "width": "100%"
          }
        },
        "d827e234c06a4d399ff561eff95001f8": {
          "model_module": "@jupyter-widgets/base",
          "model_name": "LayoutModel",
          "model_module_version": "1.2.0",
          "state": {
            "_model_module": "@jupyter-widgets/base",
            "_model_module_version": "1.2.0",
            "_model_name": "LayoutModel",
            "_view_count": null,
            "_view_module": "@jupyter-widgets/base",
            "_view_module_version": "1.2.0",
            "_view_name": "LayoutView",
            "align_content": null,
            "align_items": null,
            "align_self": null,
            "border": null,
            "bottom": null,
            "display": null,
            "flex": null,
            "flex_flow": null,
            "grid_area": null,
            "grid_auto_columns": null,
            "grid_auto_flow": null,
            "grid_auto_rows": null,
            "grid_column": null,
            "grid_gap": null,
            "grid_row": null,
            "grid_template_areas": null,
            "grid_template_columns": null,
            "grid_template_rows": null,
            "height": null,
            "justify_content": null,
            "justify_items": null,
            "left": null,
            "margin": null,
            "max_height": null,
            "max_width": null,
            "min_height": null,
            "min_width": null,
            "object_fit": null,
            "object_position": null,
            "order": null,
            "overflow": null,
            "overflow_x": null,
            "overflow_y": null,
            "padding": null,
            "right": null,
            "top": null,
            "visibility": null,
            "width": null
          }
        },
        "d7debccfef4347d1a49b82b925712874": {
          "model_module": "@jupyter-widgets/controls",
          "model_name": "DescriptionStyleModel",
          "model_module_version": "1.5.0",
          "state": {
            "_model_module": "@jupyter-widgets/controls",
            "_model_module_version": "1.5.0",
            "_model_name": "DescriptionStyleModel",
            "_view_count": null,
            "_view_module": "@jupyter-widgets/base",
            "_view_module_version": "1.2.0",
            "_view_name": "StyleView",
            "description_width": ""
          }
        },
        "ee453787686d4f29b341b39e260aa9c5": {
          "model_module": "@jupyter-widgets/base",
          "model_name": "LayoutModel",
          "model_module_version": "1.2.0",
          "state": {
            "_model_module": "@jupyter-widgets/base",
            "_model_module_version": "1.2.0",
            "_model_name": "LayoutModel",
            "_view_count": null,
            "_view_module": "@jupyter-widgets/base",
            "_view_module_version": "1.2.0",
            "_view_name": "LayoutView",
            "align_content": null,
            "align_items": null,
            "align_self": null,
            "border": null,
            "bottom": null,
            "display": null,
            "flex": "2",
            "flex_flow": null,
            "grid_area": null,
            "grid_auto_columns": null,
            "grid_auto_flow": null,
            "grid_auto_rows": null,
            "grid_column": null,
            "grid_gap": null,
            "grid_row": null,
            "grid_template_areas": null,
            "grid_template_columns": null,
            "grid_template_rows": null,
            "height": null,
            "justify_content": null,
            "justify_items": null,
            "left": null,
            "margin": null,
            "max_height": null,
            "max_width": null,
            "min_height": null,
            "min_width": null,
            "object_fit": null,
            "object_position": null,
            "order": null,
            "overflow": null,
            "overflow_x": null,
            "overflow_y": null,
            "padding": null,
            "right": null,
            "top": null,
            "visibility": null,
            "width": null
          }
        },
        "dc2335bd002647a3a38a4b73c6d2414c": {
          "model_module": "@jupyter-widgets/controls",
          "model_name": "ProgressStyleModel",
          "model_module_version": "1.5.0",
          "state": {
            "_model_module": "@jupyter-widgets/controls",
            "_model_module_version": "1.5.0",
            "_model_name": "ProgressStyleModel",
            "_view_count": null,
            "_view_module": "@jupyter-widgets/base",
            "_view_module_version": "1.2.0",
            "_view_name": "StyleView",
            "bar_color": null,
            "description_width": ""
          }
        },
        "c55905c889ee4df98c061f0aa7c05da1": {
          "model_module": "@jupyter-widgets/base",
          "model_name": "LayoutModel",
          "model_module_version": "1.2.0",
          "state": {
            "_model_module": "@jupyter-widgets/base",
            "_model_module_version": "1.2.0",
            "_model_name": "LayoutModel",
            "_view_count": null,
            "_view_module": "@jupyter-widgets/base",
            "_view_module_version": "1.2.0",
            "_view_name": "LayoutView",
            "align_content": null,
            "align_items": null,
            "align_self": null,
            "border": null,
            "bottom": null,
            "display": null,
            "flex": null,
            "flex_flow": null,
            "grid_area": null,
            "grid_auto_columns": null,
            "grid_auto_flow": null,
            "grid_auto_rows": null,
            "grid_column": null,
            "grid_gap": null,
            "grid_row": null,
            "grid_template_areas": null,
            "grid_template_columns": null,
            "grid_template_rows": null,
            "height": null,
            "justify_content": null,
            "justify_items": null,
            "left": null,
            "margin": null,
            "max_height": null,
            "max_width": null,
            "min_height": null,
            "min_width": null,
            "object_fit": null,
            "object_position": null,
            "order": null,
            "overflow": null,
            "overflow_x": null,
            "overflow_y": null,
            "padding": null,
            "right": null,
            "top": null,
            "visibility": null,
            "width": null
          }
        },
        "7098bd9b856c4eb094f8c0e32295c188": {
          "model_module": "@jupyter-widgets/controls",
          "model_name": "DescriptionStyleModel",
          "model_module_version": "1.5.0",
          "state": {
            "_model_module": "@jupyter-widgets/controls",
            "_model_module_version": "1.5.0",
            "_model_name": "DescriptionStyleModel",
            "_view_count": null,
            "_view_module": "@jupyter-widgets/base",
            "_view_module_version": "1.2.0",
            "_view_name": "StyleView",
            "description_width": ""
          }
        },
        "8068d8c6e31b4de381d9d83eadbfd244": {
          "model_module": "@jupyter-widgets/controls",
          "model_name": "HBoxModel",
          "model_module_version": "1.5.0",
          "state": {
            "_dom_classes": [],
            "_model_module": "@jupyter-widgets/controls",
            "_model_module_version": "1.5.0",
            "_model_name": "HBoxModel",
            "_view_count": null,
            "_view_module": "@jupyter-widgets/controls",
            "_view_module_version": "1.5.0",
            "_view_name": "HBoxView",
            "box_style": "",
            "children": [
              "IPY_MODEL_500b93f96184487fbb1f54dd76fb0bf3",
              "IPY_MODEL_3dbf426291c044dca3a9ba57202d4976",
              "IPY_MODEL_bbf4ded910054f819b8a1fc29144bf49"
            ],
            "layout": "IPY_MODEL_373ce972e45b4d1686236beebe4a2563"
          }
        },
        "500b93f96184487fbb1f54dd76fb0bf3": {
          "model_module": "@jupyter-widgets/controls",
          "model_name": "HTMLModel",
          "model_module_version": "1.5.0",
          "state": {
            "_dom_classes": [],
            "_model_module": "@jupyter-widgets/controls",
            "_model_module_version": "1.5.0",
            "_model_name": "HTMLModel",
            "_view_count": null,
            "_view_module": "@jupyter-widgets/controls",
            "_view_module_version": "1.5.0",
            "_view_name": "HTMLView",
            "description": "",
            "description_tooltip": null,
            "layout": "IPY_MODEL_80131b3d58b04921b4b557abcf00abc6",
            "placeholder": "​",
            "style": "IPY_MODEL_a9523ad182294a26ba3c4bd3416d7d18",
            "value": "Validation DataLoader 0: 100%"
          }
        },
        "3dbf426291c044dca3a9ba57202d4976": {
          "model_module": "@jupyter-widgets/controls",
          "model_name": "FloatProgressModel",
          "model_module_version": "1.5.0",
          "state": {
            "_dom_classes": [],
            "_model_module": "@jupyter-widgets/controls",
            "_model_module_version": "1.5.0",
            "_model_name": "FloatProgressModel",
            "_view_count": null,
            "_view_module": "@jupyter-widgets/controls",
            "_view_module_version": "1.5.0",
            "_view_name": "ProgressView",
            "bar_style": "success",
            "description": "",
            "description_tooltip": null,
            "layout": "IPY_MODEL_34bd474196424903bc8601d0bc01fc87",
            "max": 1,
            "min": 0,
            "orientation": "horizontal",
            "style": "IPY_MODEL_a22bb11d32a544499bfd3b4727af18c0",
            "value": 1
          }
        },
        "bbf4ded910054f819b8a1fc29144bf49": {
          "model_module": "@jupyter-widgets/controls",
          "model_name": "HTMLModel",
          "model_module_version": "1.5.0",
          "state": {
            "_dom_classes": [],
            "_model_module": "@jupyter-widgets/controls",
            "_model_module_version": "1.5.0",
            "_model_name": "HTMLModel",
            "_view_count": null,
            "_view_module": "@jupyter-widgets/controls",
            "_view_module_version": "1.5.0",
            "_view_name": "HTMLView",
            "description": "",
            "description_tooltip": null,
            "layout": "IPY_MODEL_f9aa90631e4d45cabcc22763d2d3d4ee",
            "placeholder": "​",
            "style": "IPY_MODEL_3c206e5c17354fa387609a3fc6ce75f2",
            "value": " 64/64 [00:18&lt;00:00,  3.49it/s]"
          }
        },
        "373ce972e45b4d1686236beebe4a2563": {
          "model_module": "@jupyter-widgets/base",
          "model_name": "LayoutModel",
          "model_module_version": "1.2.0",
          "state": {
            "_model_module": "@jupyter-widgets/base",
            "_model_module_version": "1.2.0",
            "_model_name": "LayoutModel",
            "_view_count": null,
            "_view_module": "@jupyter-widgets/base",
            "_view_module_version": "1.2.0",
            "_view_name": "LayoutView",
            "align_content": null,
            "align_items": null,
            "align_self": null,
            "border": null,
            "bottom": null,
            "display": "inline-flex",
            "flex": null,
            "flex_flow": "row wrap",
            "grid_area": null,
            "grid_auto_columns": null,
            "grid_auto_flow": null,
            "grid_auto_rows": null,
            "grid_column": null,
            "grid_gap": null,
            "grid_row": null,
            "grid_template_areas": null,
            "grid_template_columns": null,
            "grid_template_rows": null,
            "height": null,
            "justify_content": null,
            "justify_items": null,
            "left": null,
            "margin": null,
            "max_height": null,
            "max_width": null,
            "min_height": null,
            "min_width": null,
            "object_fit": null,
            "object_position": null,
            "order": null,
            "overflow": null,
            "overflow_x": null,
            "overflow_y": null,
            "padding": null,
            "right": null,
            "top": null,
            "visibility": null,
            "width": "100%"
          }
        },
        "80131b3d58b04921b4b557abcf00abc6": {
          "model_module": "@jupyter-widgets/base",
          "model_name": "LayoutModel",
          "model_module_version": "1.2.0",
          "state": {
            "_model_module": "@jupyter-widgets/base",
            "_model_module_version": "1.2.0",
            "_model_name": "LayoutModel",
            "_view_count": null,
            "_view_module": "@jupyter-widgets/base",
            "_view_module_version": "1.2.0",
            "_view_name": "LayoutView",
            "align_content": null,
            "align_items": null,
            "align_self": null,
            "border": null,
            "bottom": null,
            "display": null,
            "flex": null,
            "flex_flow": null,
            "grid_area": null,
            "grid_auto_columns": null,
            "grid_auto_flow": null,
            "grid_auto_rows": null,
            "grid_column": null,
            "grid_gap": null,
            "grid_row": null,
            "grid_template_areas": null,
            "grid_template_columns": null,
            "grid_template_rows": null,
            "height": null,
            "justify_content": null,
            "justify_items": null,
            "left": null,
            "margin": null,
            "max_height": null,
            "max_width": null,
            "min_height": null,
            "min_width": null,
            "object_fit": null,
            "object_position": null,
            "order": null,
            "overflow": null,
            "overflow_x": null,
            "overflow_y": null,
            "padding": null,
            "right": null,
            "top": null,
            "visibility": null,
            "width": null
          }
        },
        "a9523ad182294a26ba3c4bd3416d7d18": {
          "model_module": "@jupyter-widgets/controls",
          "model_name": "DescriptionStyleModel",
          "model_module_version": "1.5.0",
          "state": {
            "_model_module": "@jupyter-widgets/controls",
            "_model_module_version": "1.5.0",
            "_model_name": "DescriptionStyleModel",
            "_view_count": null,
            "_view_module": "@jupyter-widgets/base",
            "_view_module_version": "1.2.0",
            "_view_name": "StyleView",
            "description_width": ""
          }
        },
        "34bd474196424903bc8601d0bc01fc87": {
          "model_module": "@jupyter-widgets/base",
          "model_name": "LayoutModel",
          "model_module_version": "1.2.0",
          "state": {
            "_model_module": "@jupyter-widgets/base",
            "_model_module_version": "1.2.0",
            "_model_name": "LayoutModel",
            "_view_count": null,
            "_view_module": "@jupyter-widgets/base",
            "_view_module_version": "1.2.0",
            "_view_name": "LayoutView",
            "align_content": null,
            "align_items": null,
            "align_self": null,
            "border": null,
            "bottom": null,
            "display": null,
            "flex": "2",
            "flex_flow": null,
            "grid_area": null,
            "grid_auto_columns": null,
            "grid_auto_flow": null,
            "grid_auto_rows": null,
            "grid_column": null,
            "grid_gap": null,
            "grid_row": null,
            "grid_template_areas": null,
            "grid_template_columns": null,
            "grid_template_rows": null,
            "height": null,
            "justify_content": null,
            "justify_items": null,
            "left": null,
            "margin": null,
            "max_height": null,
            "max_width": null,
            "min_height": null,
            "min_width": null,
            "object_fit": null,
            "object_position": null,
            "order": null,
            "overflow": null,
            "overflow_x": null,
            "overflow_y": null,
            "padding": null,
            "right": null,
            "top": null,
            "visibility": null,
            "width": null
          }
        },
        "a22bb11d32a544499bfd3b4727af18c0": {
          "model_module": "@jupyter-widgets/controls",
          "model_name": "ProgressStyleModel",
          "model_module_version": "1.5.0",
          "state": {
            "_model_module": "@jupyter-widgets/controls",
            "_model_module_version": "1.5.0",
            "_model_name": "ProgressStyleModel",
            "_view_count": null,
            "_view_module": "@jupyter-widgets/base",
            "_view_module_version": "1.2.0",
            "_view_name": "StyleView",
            "bar_color": null,
            "description_width": ""
          }
        },
        "f9aa90631e4d45cabcc22763d2d3d4ee": {
          "model_module": "@jupyter-widgets/base",
          "model_name": "LayoutModel",
          "model_module_version": "1.2.0",
          "state": {
            "_model_module": "@jupyter-widgets/base",
            "_model_module_version": "1.2.0",
            "_model_name": "LayoutModel",
            "_view_count": null,
            "_view_module": "@jupyter-widgets/base",
            "_view_module_version": "1.2.0",
            "_view_name": "LayoutView",
            "align_content": null,
            "align_items": null,
            "align_self": null,
            "border": null,
            "bottom": null,
            "display": null,
            "flex": null,
            "flex_flow": null,
            "grid_area": null,
            "grid_auto_columns": null,
            "grid_auto_flow": null,
            "grid_auto_rows": null,
            "grid_column": null,
            "grid_gap": null,
            "grid_row": null,
            "grid_template_areas": null,
            "grid_template_columns": null,
            "grid_template_rows": null,
            "height": null,
            "justify_content": null,
            "justify_items": null,
            "left": null,
            "margin": null,
            "max_height": null,
            "max_width": null,
            "min_height": null,
            "min_width": null,
            "object_fit": null,
            "object_position": null,
            "order": null,
            "overflow": null,
            "overflow_x": null,
            "overflow_y": null,
            "padding": null,
            "right": null,
            "top": null,
            "visibility": null,
            "width": null
          }
        },
        "3c206e5c17354fa387609a3fc6ce75f2": {
          "model_module": "@jupyter-widgets/controls",
          "model_name": "DescriptionStyleModel",
          "model_module_version": "1.5.0",
          "state": {
            "_model_module": "@jupyter-widgets/controls",
            "_model_module_version": "1.5.0",
            "_model_name": "DescriptionStyleModel",
            "_view_count": null,
            "_view_module": "@jupyter-widgets/base",
            "_view_module_version": "1.2.0",
            "_view_name": "StyleView",
            "description_width": ""
          }
        }
      }
    }
  },
  "cells": [
    {
      "cell_type": "markdown",
      "source": [
        "### NLP Transformer"
      ],
      "metadata": {
        "id": "pmr9FkUY-tkU"
      }
    },
    {
      "cell_type": "code",
      "source": [
        "!pip install --quiet 'pytorch-lightning==1.6.2'\n",
        "!pip --quiet install transformers\n",
        "!pip install --quiet datasets\n",
        "!pip install --quiet seqeval\n",
        "!pip install --quiet bidict\n"
      ],
      "metadata": {
        "id": "tzzdPXJaN_kE"
      },
      "execution_count": 2,
      "outputs": []
    },
    {
      "cell_type": "code",
      "execution_count": 3,
      "metadata": {
        "colab": {
          "base_uri": "https://localhost:8080/"
        },
        "id": "tIq5o_24-g8r",
        "outputId": "67f365e2-41b9-4283-fdf5-2c48570d2361"
      },
      "outputs": [
        {
          "output_type": "stream",
          "name": "stderr",
          "text": [
            "Global seed set to 42\n"
          ]
        },
        {
          "output_type": "stream",
          "name": "stdout",
          "text": [
            "/content\n"
          ]
        }
      ],
      "source": [
        "# import stuff\n",
        "from pathlib import Path\n",
        "from typing import Any, Tuple\n",
        "from typing import Dict, Iterator, List, Union, Optional\n",
        "import os\n",
        "\n",
        "\n",
        "from datasets import load_metric\n",
        "\n",
        "import numpy as np\n",
        "\n",
        "import torch\n",
        "from torch.utils.data import DataLoader, Dataset, random_split\n",
        "from torch.nn.utils.rnn import pad_sequence, pack_padded_sequence, pad_packed_sequence\n",
        "from torch.autograd import Variable\n",
        "\n",
        "import torch.optim as optim\n",
        "import torch.nn as nn\n",
        "\n",
        "\n",
        "from transformers import BertTokenizerFast, BertModel\n",
        "from seqeval.metrics import accuracy_score, classification_report, f1_score, precision_score, recall_score\n",
        "\n",
        "\n",
        "import pickle\n",
        "import pandas as pd\n",
        "\n",
        "import matplotlib.pyplot as plt\n",
        "import seaborn as sns\n",
        "import sklearn\n",
        "from sklearn.metrics import confusion_matrix\n",
        "import bisect\n",
        "import random\n",
        "import json\n",
        "import bidict\n",
        "\n",
        "\n",
        "import torch.nn as nn\n",
        "import torch.nn.functional as F\n",
        "from torch.optim import Adam\n",
        "\n",
        "\n",
        "import pytorch_lightning as pl\n",
        "\n",
        "from pytorch_lightning import Trainer, seed_everything\n",
        "from pytorch_lightning.callbacks import EarlyStopping\n",
        "from pytorch_lightning.callbacks.progress import TQDMProgressBar\n",
        "from pytorch_lightning import loggers\n",
        "from torch.optim.lr_scheduler import ExponentialLR, CosineAnnealingLR\n",
        "from pytorch_lightning import LightningDataModule\n",
        "from pytorch_lightning.core import datamodule\n",
        "from pytorch_lightning.callbacks import LearningRateMonitor\n",
        "from pytorch_lightning.callbacks import ModelCheckpoint\n",
        "\n",
        "\n",
        "from argparse import ArgumentParser\n",
        "\n",
        "seed_everything(42, workers=True)\n",
        "\n",
        "\n",
        "import random\n",
        "\n",
        "\n",
        "import pprint\n",
        "pp = pprint.PrettyPrinter(indent=4)\n",
        "\n",
        "import os\n",
        "print(os.getcwd())"
      ]
    },
    {
      "cell_type": "code",
      "source": [
        "device = torch.device(\"cuda:0\") if torch.cuda.is_available() else torch.device(\"cpu\")\n",
        "if torch.cuda.is_available():\n",
        "  print(torch.cuda.device_count())\n",
        "\n",
        "if torch.cuda.is_available():\n",
        "  device = torch.device(\"cuda\")\n",
        "else:\n",
        "  device = torch.device(\"cpu\")"
      ],
      "metadata": {
        "id": "eIu-qSZDAFVY",
        "colab": {
          "base_uri": "https://localhost:8080/"
        },
        "outputId": "9d3451d1-c388-4303-9a27-cddb7cbcfaec"
      },
      "execution_count": 4,
      "outputs": [
        {
          "output_type": "stream",
          "name": "stdout",
          "text": [
            "1\n"
          ]
        }
      ]
    },
    {
      "cell_type": "code",
      "source": [
        "from google.colab import drive\n",
        "drive.mount('/content/drive')"
      ],
      "metadata": {
        "id": "c0wrVQWrAVga",
        "colab": {
          "base_uri": "https://localhost:8080/"
        },
        "outputId": "c0429f77-6630-49cf-d8f8-3a997af09e46"
      },
      "execution_count": 5,
      "outputs": [
        {
          "output_type": "stream",
          "name": "stdout",
          "text": [
            "Drive already mounted at /content/drive; to attempt to forcibly remount, call drive.mount(\"/content/drive\", force_remount=True).\n"
          ]
        }
      ]
    },
    {
      "cell_type": "code",
      "source": [
        "import warnings\n",
        "warnings.filterwarnings(\"ignore\", category=UserWarning)"
      ],
      "metadata": {
        "id": "_59FckPnkt_D"
      },
      "execution_count": 6,
      "outputs": []
    },
    {
      "cell_type": "code",
      "source": [
        "fr = '/content/drive/MyDrive/data_hw2/FR'\n",
        "en = '/content/drive/MyDrive/data_hw2/EN'\n",
        "es = '/content/drive/MyDrive/data_hw2/ES'"
      ],
      "metadata": {
        "id": "W4PH2zUiBoYi"
      },
      "execution_count": 7,
      "outputs": []
    },
    {
      "cell_type": "markdown",
      "source": [
        "### Data Module"
      ],
      "metadata": {
        "id": "c99gYVEyIO35"
      }
    },
    {
      "cell_type": "code",
      "source": [
        "class implementDataset(Dataset):\n",
        "\n",
        "  def __init__(self, df):\n",
        "      self.df = df\n",
        "\n",
        "  def __len__(self):\n",
        "    return len(self.df)\n",
        "  \n",
        "  def __getitem__(self,idx):\n",
        "    return self.df.loc[idx]"
      ],
      "metadata": {
        "id": "L4TFDpsHE3Z0"
      },
      "execution_count": 8,
      "outputs": []
    },
    {
      "cell_type": "code",
      "source": [
        "NUM_WORKERS = 4\n",
        "class MyDataModule(LightningDataModule):\n",
        "\n",
        "    def __init__(self, data_dir, batch_size):\n",
        "      \n",
        "        super().__init__()\n",
        "\n",
        "        self.train_dir = data_dir + '/train.json'\n",
        "        self.val_dir = data_dir + '/dev.json'\n",
        "        self.batch_size = batch_size\n",
        "\n",
        "    def prepare_data(self):\n",
        "        return \n",
        "\n",
        "    def setup(self, stage=None):\n",
        "        \n",
        "        self.train = pd.read_json(self.train_dir, orient = 'index').dropna(axis = 0).reset_index(drop = True)\n",
        "        self.val = pd.read_json(self.val_dir, orient = 'index').dropna(axis = 0).reset_index(drop = True)\n",
        "\n",
        "        self.train = implementDataset(self.train)\n",
        "        self.val = implementDataset(self.val)\n",
        "        return \n",
        "\n",
        "    def train_dataloader(self):\n",
        "        return DataLoader(self.train, batch_size=self.batch_size, num_workers = NUM_WORKERS, collate_fn=collate_fn)\n",
        "\n",
        "    def val_dataloader(self):\n",
        "        return DataLoader(self.val, batch_size=self.batch_size, num_workers = NUM_WORKERS, collate_fn=collate_fn)\n",
        "\n",
        "    def test_dataloader(self):\n",
        "        return DataLoader(self.val, batch_size=self.batch_size, num_workers = NUM_WORKERS, collate_fn=collate_fn)\n",
        "\n",
        "    def predict_dataloader(self):\n",
        "        return DataLoader(self.val, batch_size=self.batch_size, num_workers = NUM_WORKERS, collate_fn=collate_fn)\n"
      ],
      "metadata": {
        "id": "D8SjUpzVDsRc"
      },
      "execution_count": 9,
      "outputs": []
    },
    {
      "cell_type": "code",
      "source": [
        "class MyDataModule2(LightningDataModule):\n",
        "\n",
        "    def __init__(self, data_dir, batch_size):\n",
        "      \n",
        "        super().__init__()\n",
        "\n",
        "        self.train_dir = data_dir + '/train.json'\n",
        "        self.val_dir = data_dir + '/dev.json'\n",
        "        self.batch_size = batch_size\n",
        "\n",
        "    def prepare_data(self):\n",
        "        return \n",
        "\n",
        "    def setup(self, stage=None):\n",
        "        \n",
        "        self.train = pd.read_json(self.train_dir, orient = 'index').dropna(axis = 0).reset_index(drop = True)\n",
        "        self.val = pd.read_json(self.val_dir, orient = 'index').dropna(axis = 0).reset_index(drop = True)\n",
        "\n",
        "        self.train = implementDataset(self.train)\n",
        "        self.val = implementDataset(self.val)\n",
        "        return \n",
        "\n",
        "    def train_dataloader(self):\n",
        "        return DataLoader(self.train, batch_size=self.batch_size, num_workers = NUM_WORKERS, collate_fn=collate_fn2)\n",
        "\n",
        "    def val_dataloader(self):\n",
        "        return DataLoader(self.val, batch_size=self.batch_size, num_workers = NUM_WORKERS, collate_fn=collate_fn2)\n",
        "\n",
        "    def test_dataloader(self):\n",
        "        return DataLoader(self.val, batch_size=self.batch_size, num_workers = NUM_WORKERS, collate_fn=collate_fn2)\n",
        "\n",
        "    def predict_dataloader(self):\n",
        "        return DataLoader(self.val, batch_size=self.batch_size, num_workers = NUM_WORKERS, collate_fn=collate_fn2)"
      ],
      "metadata": {
        "id": "N41J29G5mLsP"
      },
      "execution_count": 10,
      "outputs": []
    },
    {
      "cell_type": "code",
      "source": [
        "df_train = pd.read_json('/content/drive/MyDrive/data_hw2/EN/train.json', orient = 'index').reset_index(drop = True)\n",
        "len(df_train)\n",
        "df_train.head()"
      ],
      "metadata": {
        "id": "UFA7JdbLFvlc",
        "colab": {
          "base_uri": "https://localhost:8080/",
          "height": 337
        },
        "outputId": "81be520c-8e3c-4566-ecc7-b66721d07287"
      },
      "execution_count": 11,
      "outputs": [
        {
          "output_type": "execute_result",
          "data": {
            "text/plain": [
              "                                    dependency_heads  \\\n",
              "0     [3, 3, 0, 8, 7, 7, 8, 3, 10, 8, 13, 13, 10, 3]   \n",
              "1  [4, 1, 4, 0, 9, 8, 8, 9, 4, 11, 9, 13, 11, 13,...   \n",
              "2  [3, 3, 7, 3, 6, 7, 0, 11, 10, 11, 7, 11, 12, 1...   \n",
              "3  [2, 3, 0, 8, 7, 7, 8, 3, 11, 11, 8, 13, 11, 13...   \n",
              "4  [0, 1, 1, 5, 3, 7, 3, 9, 3, 13, 13, 13, 3, 16,...   \n",
              "\n",
              "                                dependency_relations  \\\n",
              "0  [nsubj, advmod, root, mark, det, amod, nsubj, ...   \n",
              "1  [advmod, punct, nsubj, root, mark, det, compou...   \n",
              "2  [case, det, obl, punct, det, nsubj, root, mark...   \n",
              "3  [det, nsubj, root, mark, det, compound, nsubj,...   \n",
              "4  [root, punct, obj, punct, conj, punct, conj, p...   \n",
              "\n",
              "                                              lemmas  \\\n",
              "0  [member, also, ask, whether, all, social, grou...   \n",
              "1  [finally, ,, member, ask, whether, the, Trinid...   \n",
              "2  [in, this, regard, ,, the, committee, recommen...   \n",
              "3  [the, committee, recommend, that, the, State, ...   \n",
              "4  [abstain, :, Argentina, ,, Bahamas, ,, Barbado...   \n",
              "\n",
              "                                            pos_tags  \\\n",
              "0  [NOUN, ADV, VERB, SCONJ, DET, ADJ, NOUN, VERB,...   \n",
              "1  [ADV, PUNCT, NOUN, VERB, SCONJ, DET, PROPN, NO...   \n",
              "2  [ADP, DET, NOUN, PUNCT, DET, PROPN, VERB, SCON...   \n",
              "3  [DET, PROPN, VERB, SCONJ, DET, PROPN, NOUN, VE...   \n",
              "4  [VERB, PUNCT, PROPN, PUNCT, PROPN, PUNCT, PROP...   \n",
              "\n",
              "                                          predicates  \\\n",
              "0  [_, _, ASK_REQUEST, _, _, _, _, BENEFIT_EXPLOI...   \n",
              "1  [_, _, _, ASK_REQUEST, _, _, _, _, PLAN_SCHEDU...   \n",
              "2  [_, _, _, _, _, _, PROPOSE, _, _, _, TAKE-INTO...   \n",
              "3  [_, _, PROPOSE, _, _, _, _, SHOW, _, _, _, _, ...   \n",
              "4  [ABSTAIN_AVOID_REFRAIN, _, _, _, _, _, _, _, _...   \n",
              "\n",
              "                                               roles  \\\n",
              "0  {'2': ['agent', '_', '_', 'theme', '_', '_', '...   \n",
              "1  {'3': ['_', '_', 'agent', '_', 'theme', '_', '...   \n",
              "2  {'6': ['_', '_', '_', '_', '_', 'agent', '_', ...   \n",
              "3  {'2': ['_', 'agent', '_', 'topic', '_', '_', '...   \n",
              "4  {'0': ['_', '_', 'agent', '_', '_', '_', '_', ...   \n",
              "\n",
              "                                               words  \n",
              "0  [Members, also, asked, whether, all, social, g...  \n",
              "1  [Finally, ,, members, asked, whether, the, Tri...  \n",
              "2  [In, this, regard, ,, the, Committee, recommen...  \n",
              "3  [The, Committee, recommends, that, the, State,...  \n",
              "4  [Abstaining, :, Argentina, ,, Bahamas, ,, Barb...  "
            ],
            "text/html": [
              "\n",
              "  <div id=\"df-b5201306-416f-4ea2-aa46-b98fdbe8078f\">\n",
              "    <div class=\"colab-df-container\">\n",
              "      <div>\n",
              "<style scoped>\n",
              "    .dataframe tbody tr th:only-of-type {\n",
              "        vertical-align: middle;\n",
              "    }\n",
              "\n",
              "    .dataframe tbody tr th {\n",
              "        vertical-align: top;\n",
              "    }\n",
              "\n",
              "    .dataframe thead th {\n",
              "        text-align: right;\n",
              "    }\n",
              "</style>\n",
              "<table border=\"1\" class=\"dataframe\">\n",
              "  <thead>\n",
              "    <tr style=\"text-align: right;\">\n",
              "      <th></th>\n",
              "      <th>dependency_heads</th>\n",
              "      <th>dependency_relations</th>\n",
              "      <th>lemmas</th>\n",
              "      <th>pos_tags</th>\n",
              "      <th>predicates</th>\n",
              "      <th>roles</th>\n",
              "      <th>words</th>\n",
              "    </tr>\n",
              "  </thead>\n",
              "  <tbody>\n",
              "    <tr>\n",
              "      <th>0</th>\n",
              "      <td>[3, 3, 0, 8, 7, 7, 8, 3, 10, 8, 13, 13, 10, 3]</td>\n",
              "      <td>[nsubj, advmod, root, mark, det, amod, nsubj, ...</td>\n",
              "      <td>[member, also, ask, whether, all, social, grou...</td>\n",
              "      <td>[NOUN, ADV, VERB, SCONJ, DET, ADJ, NOUN, VERB,...</td>\n",
              "      <td>[_, _, ASK_REQUEST, _, _, _, _, BENEFIT_EXPLOI...</td>\n",
              "      <td>{'2': ['agent', '_', '_', 'theme', '_', '_', '...</td>\n",
              "      <td>[Members, also, asked, whether, all, social, g...</td>\n",
              "    </tr>\n",
              "    <tr>\n",
              "      <th>1</th>\n",
              "      <td>[4, 1, 4, 0, 9, 8, 8, 9, 4, 11, 9, 13, 11, 13,...</td>\n",
              "      <td>[advmod, punct, nsubj, root, mark, det, compou...</td>\n",
              "      <td>[finally, ,, member, ask, whether, the, Trinid...</td>\n",
              "      <td>[ADV, PUNCT, NOUN, VERB, SCONJ, DET, PROPN, NO...</td>\n",
              "      <td>[_, _, _, ASK_REQUEST, _, _, _, _, PLAN_SCHEDU...</td>\n",
              "      <td>{'3': ['_', '_', 'agent', '_', 'theme', '_', '...</td>\n",
              "      <td>[Finally, ,, members, asked, whether, the, Tri...</td>\n",
              "    </tr>\n",
              "    <tr>\n",
              "      <th>2</th>\n",
              "      <td>[3, 3, 7, 3, 6, 7, 0, 11, 10, 11, 7, 11, 12, 1...</td>\n",
              "      <td>[case, det, obl, punct, det, nsubj, root, mark...</td>\n",
              "      <td>[in, this, regard, ,, the, committee, recommen...</td>\n",
              "      <td>[ADP, DET, NOUN, PUNCT, DET, PROPN, VERB, SCON...</td>\n",
              "      <td>[_, _, _, _, _, _, PROPOSE, _, _, _, TAKE-INTO...</td>\n",
              "      <td>{'6': ['_', '_', '_', '_', '_', 'agent', '_', ...</td>\n",
              "      <td>[In, this, regard, ,, the, Committee, recommen...</td>\n",
              "    </tr>\n",
              "    <tr>\n",
              "      <th>3</th>\n",
              "      <td>[2, 3, 0, 8, 7, 7, 8, 3, 11, 11, 8, 13, 11, 13...</td>\n",
              "      <td>[det, nsubj, root, mark, det, compound, nsubj,...</td>\n",
              "      <td>[the, committee, recommend, that, the, State, ...</td>\n",
              "      <td>[DET, PROPN, VERB, SCONJ, DET, PROPN, NOUN, VE...</td>\n",
              "      <td>[_, _, PROPOSE, _, _, _, _, SHOW, _, _, _, _, ...</td>\n",
              "      <td>{'2': ['_', 'agent', '_', 'topic', '_', '_', '...</td>\n",
              "      <td>[The, Committee, recommends, that, the, State,...</td>\n",
              "    </tr>\n",
              "    <tr>\n",
              "      <th>4</th>\n",
              "      <td>[0, 1, 1, 5, 3, 7, 3, 9, 3, 13, 13, 13, 3, 16,...</td>\n",
              "      <td>[root, punct, obj, punct, conj, punct, conj, p...</td>\n",
              "      <td>[abstain, :, Argentina, ,, Bahamas, ,, Barbado...</td>\n",
              "      <td>[VERB, PUNCT, PROPN, PUNCT, PROPN, PUNCT, PROP...</td>\n",
              "      <td>[ABSTAIN_AVOID_REFRAIN, _, _, _, _, _, _, _, _...</td>\n",
              "      <td>{'0': ['_', '_', 'agent', '_', '_', '_', '_', ...</td>\n",
              "      <td>[Abstaining, :, Argentina, ,, Bahamas, ,, Barb...</td>\n",
              "    </tr>\n",
              "  </tbody>\n",
              "</table>\n",
              "</div>\n",
              "      <button class=\"colab-df-convert\" onclick=\"convertToInteractive('df-b5201306-416f-4ea2-aa46-b98fdbe8078f')\"\n",
              "              title=\"Convert this dataframe to an interactive table.\"\n",
              "              style=\"display:none;\">\n",
              "        \n",
              "  <svg xmlns=\"http://www.w3.org/2000/svg\" height=\"24px\"viewBox=\"0 0 24 24\"\n",
              "       width=\"24px\">\n",
              "    <path d=\"M0 0h24v24H0V0z\" fill=\"none\"/>\n",
              "    <path d=\"M18.56 5.44l.94 2.06.94-2.06 2.06-.94-2.06-.94-.94-2.06-.94 2.06-2.06.94zm-11 1L8.5 8.5l.94-2.06 2.06-.94-2.06-.94L8.5 2.5l-.94 2.06-2.06.94zm10 10l.94 2.06.94-2.06 2.06-.94-2.06-.94-.94-2.06-.94 2.06-2.06.94z\"/><path d=\"M17.41 7.96l-1.37-1.37c-.4-.4-.92-.59-1.43-.59-.52 0-1.04.2-1.43.59L10.3 9.45l-7.72 7.72c-.78.78-.78 2.05 0 2.83L4 21.41c.39.39.9.59 1.41.59.51 0 1.02-.2 1.41-.59l7.78-7.78 2.81-2.81c.8-.78.8-2.07 0-2.86zM5.41 20L4 18.59l7.72-7.72 1.47 1.35L5.41 20z\"/>\n",
              "  </svg>\n",
              "      </button>\n",
              "      \n",
              "  <style>\n",
              "    .colab-df-container {\n",
              "      display:flex;\n",
              "      flex-wrap:wrap;\n",
              "      gap: 12px;\n",
              "    }\n",
              "\n",
              "    .colab-df-convert {\n",
              "      background-color: #E8F0FE;\n",
              "      border: none;\n",
              "      border-radius: 50%;\n",
              "      cursor: pointer;\n",
              "      display: none;\n",
              "      fill: #1967D2;\n",
              "      height: 32px;\n",
              "      padding: 0 0 0 0;\n",
              "      width: 32px;\n",
              "    }\n",
              "\n",
              "    .colab-df-convert:hover {\n",
              "      background-color: #E2EBFA;\n",
              "      box-shadow: 0px 1px 2px rgba(60, 64, 67, 0.3), 0px 1px 3px 1px rgba(60, 64, 67, 0.15);\n",
              "      fill: #174EA6;\n",
              "    }\n",
              "\n",
              "    [theme=dark] .colab-df-convert {\n",
              "      background-color: #3B4455;\n",
              "      fill: #D2E3FC;\n",
              "    }\n",
              "\n",
              "    [theme=dark] .colab-df-convert:hover {\n",
              "      background-color: #434B5C;\n",
              "      box-shadow: 0px 1px 3px 1px rgba(0, 0, 0, 0.15);\n",
              "      filter: drop-shadow(0px 1px 2px rgba(0, 0, 0, 0.3));\n",
              "      fill: #FFFFFF;\n",
              "    }\n",
              "  </style>\n",
              "\n",
              "      <script>\n",
              "        const buttonEl =\n",
              "          document.querySelector('#df-b5201306-416f-4ea2-aa46-b98fdbe8078f button.colab-df-convert');\n",
              "        buttonEl.style.display =\n",
              "          google.colab.kernel.accessAllowed ? 'block' : 'none';\n",
              "\n",
              "        async function convertToInteractive(key) {\n",
              "          const element = document.querySelector('#df-b5201306-416f-4ea2-aa46-b98fdbe8078f');\n",
              "          const dataTable =\n",
              "            await google.colab.kernel.invokeFunction('convertToInteractive',\n",
              "                                                     [key], {});\n",
              "          if (!dataTable) return;\n",
              "\n",
              "          const docLinkHtml = 'Like what you see? Visit the ' +\n",
              "            '<a target=\"_blank\" href=https://colab.research.google.com/notebooks/data_table.ipynb>data table notebook</a>'\n",
              "            + ' to learn more about interactive tables.';\n",
              "          element.innerHTML = '';\n",
              "          dataTable['output_type'] = 'display_data';\n",
              "          await google.colab.output.renderOutput(dataTable, element);\n",
              "          const docLink = document.createElement('div');\n",
              "          docLink.innerHTML = docLinkHtml;\n",
              "          element.appendChild(docLink);\n",
              "        }\n",
              "      </script>\n",
              "    </div>\n",
              "  </div>\n",
              "  "
            ]
          },
          "metadata": {},
          "execution_count": 11
        }
      ]
    },
    {
      "cell_type": "markdown",
      "source": [
        "### Numerical mapping of labels, pos-tags etc..."
      ],
      "metadata": {
        "id": "xr9jfVAEiYFH"
      }
    },
    {
      "cell_type": "code",
      "source": [
        "assert(1 == 2)  # prevents unintentional running of function\n",
        "\n",
        "roles_set = set()\n",
        "dr_set = set()\n",
        "tags_set = set()\n",
        "\n",
        "#### !!!!! dropna!!!!!!!\n",
        "for row in df_train['roles'].dropna():\n",
        "    for key, lst in row.items():\n",
        "        for string in lst:\n",
        "            roles_set.add(string)\n",
        "\n",
        "for row in df_train['dependency_relations']:\n",
        "    for item in row:\n",
        "        dr_set.add(item)\n",
        "\n",
        "for row in df_train['pos_tags']:\n",
        "    for item in row:\n",
        "        tags_set.add(item)\n",
        "\n",
        "\n",
        "\n",
        "roles_ = {i: val for i, val in enumerate(roles_set)}\n",
        "roles_dict = {v: k for k, v in roles_.items()}\n",
        "\n",
        "dr_ = {i+1: val for i, val in enumerate(dr_set)}\n",
        "dr = {v: k for k, v in dr_.items()}\n",
        "\n",
        "tags_ = {i+1: val for i, val in enumerate(tags_set)}\n",
        "tags = {v: k for k, v in tags_.items()}"
      ],
      "metadata": {
        "id": "SqKIcD94p_Qh"
      },
      "execution_count": null,
      "outputs": []
    },
    {
      "cell_type": "code",
      "source": [
        "assert(1 == 2) # prevents unintentional running of function\n",
        "a_file = open('/content/drive/MyDrive/nlp_pickled_dicts/roles_', \"wb\")\n",
        "pickle.dump(roles_, a_file)\n",
        "a_file.close()\n",
        "\n",
        "a_file = open('/content/drive/MyDrive/nlp_pickled_dicts/roles_dict', \"wb\")\n",
        "pickle.dump(roles_dict, a_file)\n",
        "a_file.close()\n",
        "\n",
        "a_file = open('/content/drive/MyDrive/nlp_pickled_dicts/dr_', \"wb\")\n",
        "pickle.dump(dr_, a_file)\n",
        "a_file.close()\n",
        "\n",
        "a_file = open('/content/drive/MyDrive/nlp_pickled_dicts/dr', \"wb\")\n",
        "pickle.dump(dr, a_file)\n",
        "a_file.close()\n",
        "\n",
        "a_file = open('/content/drive/MyDrive/nlp_pickled_dicts/tags_', \"wb\")\n",
        "pickle.dump(tags_, a_file)\n",
        "a_file.close()\n",
        "\n",
        "a_file = open('/content/drive/MyDrive/nlp_pickled_dicts/tags', \"wb\")\n",
        "pickle.dump(tags, a_file)\n",
        "a_file.close()"
      ],
      "metadata": {
        "id": "dVsEl5daMpNn"
      },
      "execution_count": null,
      "outputs": []
    },
    {
      "cell_type": "code",
      "source": [
        "with open('/content/drive/MyDrive/nlp_pickled_dicts/roles_', 'rb') as f:\n",
        "    roles_ = pickle.load(f)\n",
        "\n",
        "with open('/content/drive/MyDrive/nlp_pickled_dicts/roles_dict', 'rb') as f:\n",
        "    roles_dict = pickle.load(f)\n",
        "\n",
        "with open('/content/drive/MyDrive/nlp_pickled_dicts/dr_', 'rb') as f:\n",
        "    dr_ = pickle.load(f)\n",
        "\n",
        "with open('/content/drive/MyDrive/nlp_pickled_dicts/dr', 'rb') as f:\n",
        "    dr = pickle.load(f)\n",
        "\n",
        "with open('/content/drive/MyDrive/nlp_pickled_dicts/tags_', 'rb') as f:\n",
        "    tags_ = pickle.load(f)\n",
        "\n",
        "with open('/content/drive/MyDrive/nlp_pickled_dicts/tags', 'rb') as f:\n",
        "   tags  = pickle.load(f)"
      ],
      "metadata": {
        "id": "ECOqwuKOO00_"
      },
      "execution_count": 12,
      "outputs": []
    },
    {
      "cell_type": "code",
      "source": [
        "dh_vals = set()\n",
        "for lst in df_train.dependency_heads:\n",
        "    for nums in lst:\n",
        "        dh_vals.add(nums)\n",
        "\n",
        "sorted_dh = sorted(dh_vals)\n",
        "\n",
        "number_dict = {a: a for a in sorted_dh}\n"
      ],
      "metadata": {
        "id": "1YPe_hWAFCbO"
      },
      "execution_count": 13,
      "outputs": []
    },
    {
      "cell_type": "code",
      "source": [
        "all_dicts = {}\n",
        "inverse_dicts = {}\n",
        "\n",
        "all_dicts['dependency_heads'] = number_dict\n",
        "all_dicts['dependency_relations'] = dr\n",
        "all_dicts['pos_tags'] = tags\n",
        "all_dicts['roles'] = roles_dict"
      ],
      "metadata": {
        "id": "PSdhdcmmXbXC"
      },
      "execution_count": 14,
      "outputs": []
    },
    {
      "cell_type": "code",
      "source": [
        "predicates = set()\n",
        "\n",
        "for row in df_train['predicates']:\n",
        "    for string in row:\n",
        "            predicates.add(string)"
      ],
      "metadata": {
        "id": "TGl5o5cuqOQG"
      },
      "execution_count": 15,
      "outputs": []
    },
    {
      "cell_type": "code",
      "source": [
        "dist_classes = {key: 0 for key, value in roles_dict.items()}\n",
        "\n",
        "sum = 0\n",
        "for row in df_train['roles'].dropna():\n",
        "    for key, lst in row.items():\n",
        "        for string in lst:\n",
        "            dist_classes[string] += 1\n",
        "            sum += 1\n",
        "\n",
        "dist_classes = {key: (value/sum) for key, value in dist_classes.items()}\n",
        "\n",
        "keys =  list(dist_classes.keys())\n",
        "vals = [float(dist_classes[k]) for k in keys]\n",
        "print(keys[18], round(vals[18], 3), 'percent null class')\n",
        "del keys[18]\n",
        "del vals[18]\n",
        "keys = [str(item[:8]) for item in keys]\n",
        "fig, ax = plt.subplots(figsize=(30, 7))\n",
        "ax = sns.barplot(x=keys, y=vals)\n",
        "ax.set(xlabel='Class frequency', ylabel='Count', title = 'Distribution of classes')\n",
        "plt.savefig('DistributionOfClasses.png')\n",
        "plt.show()"
      ],
      "metadata": {
        "colab": {
          "base_uri": "https://localhost:8080/",
          "height": 475
        },
        "id": "gRD14i1hahGm",
        "outputId": "8070a15d-6776-421c-d8ad-32575ed5b56f"
      },
      "execution_count": 19,
      "outputs": [
        {
          "output_type": "stream",
          "name": "stdout",
          "text": [
            "_ 0.947 percent null class\n"
          ]
        },
        {
          "output_type": "display_data",
          "data": {
            "text/plain": [
              "<Figure size 2160x504 with 1 Axes>"
            ],
            "image/png": "[encoded data removed]"
          },
          "metadata": {
            "needs_background": "light"
          }
        }
      ]
    },
    {
      "cell_type": "markdown",
      "source": [
        "# Collate function"
      ],
      "metadata": {
        "id": "YG-n1hqUrFoF"
      }
    },
    {
      "cell_type": "code",
      "source": [
        "def collate_helper_function(batch, string):\n",
        "    \n",
        "    map = all_dicts[string]\n",
        "    \n",
        "    x = [row[string] for row in batch]\n",
        "    x = [[map.get(label) for label in sample] for sample in x]\n",
        "    x = [torch.as_tensor(sample) for sample in x]\n",
        "\n",
        "    x = pad_sequence(x, padding_value = 0, )\n",
        "\n",
        "    x = torch.swapaxes(x, 0, 1) \n",
        "    #x = F.one_hot(x, num_classes=len(map))\n",
        "\n",
        "    return x"
      ],
      "metadata": {
        "id": "i3ugsQoxE3xp"
      },
      "execution_count": 16,
      "outputs": []
    },
    {
      "cell_type": "code",
      "source": [
        "# expands the batch and swaps axis so batch is first\n",
        "def expand_word_ids(words, count_targets):\n",
        "    batch_size = np.sum(count_targets)\n",
        "\n",
        "    new_word_ids = []\n",
        "\n",
        "    j = 0\n",
        "    for i, count in enumerate(count_targets):\n",
        "        for c in range(count):\n",
        "            new_word_ids.append(words.word_ids(i))\n",
        "            j += 1\n",
        "\n",
        "    return new_word_ids\n",
        "\n",
        "def expand_batch_tokens(tensor_dict, count_targets):\n",
        "\n",
        "    batch_size = np.sum(count_targets)\n",
        "\n",
        "    for key, tensor in tensor_dict.items():\n",
        "        \n",
        "        b, l = tensor.shape\n",
        "        new_tensor = torch.Tensor(batch_size, l).type_as(tensor)\n",
        "\n",
        "        j = 0\n",
        "        for i, count in enumerate(count_targets):\n",
        "            for c in range(count):\n",
        "                new_tensor[j] = tensor[i]\n",
        "                j += 1\n",
        "\n",
        "        tensor_dict[key] = new_tensor\n",
        "\n",
        "    return tensor_dict\n",
        "\n",
        "def expand_batch_2D(tensor, count_targets):\n",
        "    \n",
        "    batch_size = np.sum(count_targets)\n",
        "    \n",
        "    b, l = tensor.shape\n",
        "\n",
        "    new_tensor = torch.Tensor(batch_size, l).type_as(tensor)\n",
        "\n",
        "    j = 0\n",
        "    for i, count in enumerate(count_targets):\n",
        "        for c in range(count):\n",
        "            new_tensor[j] = tensor[i]\n",
        "            j += 1\n",
        "\n",
        "    return new_tensor"
      ],
      "metadata": {
        "id": "9HOvnFAngHDe"
      },
      "execution_count": 17,
      "outputs": []
    },
    {
      "cell_type": "code",
      "source": [
        "def allign(word_ids, x, value, pad):\n",
        "\n",
        "    batch_size, length = x.shape\n",
        "    new_length = len(word_ids[0])\n",
        "\n",
        "    new_x = torch.Tensor(batch_size, new_length).type_as(x)\n",
        "\n",
        "    for b in range(batch_size):\n",
        "\n",
        "          \n",
        "        j = -1\n",
        "        for i in range(new_length):\n",
        "\n",
        "            if(word_ids[b][i] == None):\n",
        "                new_x[b][i] = value\n",
        "\n",
        "            elif(word_ids[b][i] != word_ids[b][i-1]):\n",
        "                j += 1\n",
        "                new_x[b][i] = x[b][j]\n",
        "            else:\n",
        "\n",
        "                new_x[b][i] = value if pad else x[b][j]\n",
        "             \n",
        "    return new_x"
      ],
      "metadata": {
        "id": "-x6UN8XHdmBn"
      },
      "execution_count": 18,
      "outputs": []
    },
    {
      "cell_type": "code",
      "source": [
        "def word_ids_equal_predicate(x, word_ids, keys):\n",
        "\n",
        "    batch_size , sequence_length = x.shape\n",
        "    \n",
        "    for i in range(batch_size):\n",
        "        for j in range(sequence_length):\n",
        "            x[i][j] = (word_ids[i][j] == keys[i])\n",
        "\n",
        "    return x\n",
        "    "
      ],
      "metadata": {
        "id": "nl2MA72WMIfY"
      },
      "execution_count": 19,
      "outputs": []
    },
    {
      "cell_type": "code",
      "source": [
        "def collate_fn(batch):\n",
        "    \n",
        "    #\n",
        "    binary_mask = pad_sequence([torch.ones(len(row['words'])) for row in batch], padding_value = 0)\n",
        "    binary_mask = torch.swapaxes(binary_mask, 0, 1)\n",
        "\n",
        "    # words and lemmas \n",
        "    words = [row['words'] for row in batch]\n",
        "    words = tokenizer( words, return_tensors=\"pt\", padding=True, is_split_into_words=True, add_special_tokens=True) ## So sequence length is equal to output length\n",
        "\n",
        "    lemmas = [row['lemmas'] for row in batch]\n",
        "    lemmas = tokenizer( lemmas, return_tensors=\"pt\", padding=True, is_split_into_words=True, add_special_tokens=True)\n",
        "\n",
        "   \n",
        "    # roles and predicates : \n",
        "\n",
        "    targets, keys, count_keys = [], [], []\n",
        "\n",
        "    roles = [row['roles'] for row in batch]\n",
        "\n",
        "    for dict_ in roles:\n",
        "        \n",
        "        count_keys.append(len(dict_))\n",
        "        for key, list_ in dict_.items():\n",
        "\n",
        "            list_ = [roles_dict.get(label) for label in list_]\n",
        "            list_ = torch.as_tensor(list_)\n",
        "            targets.append(list_)\n",
        "            keys.append(int(key))\n",
        "\n",
        "    targets = pad_sequence(targets, padding_value = 0)\n",
        "    targets = torch.swapaxes(targets, 0, 1)\n",
        "    \n",
        "    batch_size, sequence_length = targets.shape\n",
        "\n",
        "    # creating binary vector indicating where keys are\n",
        "    keys_one_hot = F.one_hot(torch.as_tensor(keys), sequence_length) # defined max sequence length\n",
        "    \n",
        "    dependency_heads = collate_helper_function(batch, 'dependency_heads')\n",
        "    dependency_relations = collate_helper_function(batch, 'dependency_relations')\n",
        "    pos_tags = collate_helper_function(batch, 'pos_tags')\n",
        "    \n",
        "\n",
        "    # Expand batch vertically \n",
        "    dependency_relations = expand_batch_2D(dependency_relations, count_keys)\n",
        "    dependency_heads = expand_batch_2D(dependency_heads, count_keys)\n",
        "    pos_tags = expand_batch_2D(pos_tags, count_keys)\n",
        "\n",
        "    words = expand_batch_tokens(words, count_keys)\n",
        "    lemmas = expand_batch_tokens(lemmas, count_keys)\n",
        "\n",
        "    binary_mask = expand_batch_2D(binary_mask, count_keys)\n",
        "    word_ids = expand_word_ids(words, count_keys)  ### used to allign\n",
        "\n",
        "    # Expanding horizontally to match with subwords -- zero and -100 are pad tokens\n",
        "\n",
        "\n",
        "    targets = allign(word_ids, targets, -100, True)\n",
        "    binary_mask = allign(word_ids, binary_mask, 0, True)\n",
        "\n",
        "    dependency_relations = allign(word_ids, dependency_relations, 0, False)\n",
        "    dependency_heads = allign(word_ids, dependency_heads, 0, False)\n",
        "    pos_tags = allign(word_ids, pos_tags, 0, False)\n",
        "    keys_one_hot = allign(word_ids, keys_one_hot, 0, False)\n",
        "\n",
        "    # indicate position of predicate\n",
        "    words['token_type_ids'] = word_ids_equal_predicate(words['token_type_ids'], word_ids, keys)\n",
        "\n",
        "    return {\"words\": words, 'dependency_relations': dependency_relations, 'dependency_heads': dependency_heads, 'lemmas': lemmas, 'pos_tags': pos_tags, 'keys': keys_one_hot, 'targets' : targets, 'count_keys' : count_keys, 'binary_mask': binary_mask, 'word_ids': word_ids}"
      ],
      "metadata": {
        "id": "pfxEkOL0Ixt0"
      },
      "execution_count": 20,
      "outputs": []
    },
    {
      "cell_type": "code",
      "source": [
        "def collate_fn2(batch):\n",
        "    \n",
        "    #\n",
        "    binary_mask = pad_sequence([torch.ones(len(row['words'])) for row in batch], padding_value = 0)\n",
        "    binary_mask = torch.swapaxes(binary_mask, 0, 1)\n",
        "\n",
        "    # words and lemmas \n",
        "    words = [row['words'] for row in batch]\n",
        "    words = tokenizer( words, return_tensors=\"pt\", padding=True, is_split_into_words=True, add_special_tokens=True) ## So sequence length is equal to output length\n",
        "\n",
        "    lemmas = [row['lemmas'] for row in batch]\n",
        "    lemmas = tokenizer( lemmas, return_tensors=\"pt\", padding=True, is_split_into_words=True, add_special_tokens=True)\n",
        "\n",
        "   \n",
        "    # roles and predicates : \n",
        "\n",
        "    targets, keys, count_keys = [], [], []\n",
        "\n",
        "    roles = [row['roles'] for row in batch]\n",
        "\n",
        "    for dict_ in roles:\n",
        "        \n",
        "        count_keys.append(len(dict_))\n",
        "        for key, list_ in dict_.items():\n",
        "\n",
        "            list_ = [roles_dict.get(label, 18) for label in list_]\n",
        "            list_ = torch.as_tensor(list_)\n",
        "            targets.append(list_)\n",
        "            keys.append(int(key))\n",
        "\n",
        "    targets = pad_sequence(targets, padding_value = 0)\n",
        "    targets = torch.swapaxes(targets, 0, 1)\n",
        "    \n",
        "    batch_size, sequence_length = targets.shape\n",
        "\n",
        "    # creating binary vector indicating where keys are\n",
        "    keys_one_hot = F.one_hot(torch.as_tensor(keys), sequence_length) # defined max sequence length\n",
        "    \n",
        "    words = expand_batch_tokens(words, count_keys)\n",
        "    lemmas = expand_batch_tokens(lemmas, count_keys)\n",
        "\n",
        "    binary_mask = expand_batch_2D(binary_mask, count_keys)\n",
        "    word_ids = expand_word_ids(words, count_keys)  ### used to allign\n",
        "\n",
        "    # Expanding horizontally to match with subwords -- zero and -100 are pad tokens\n",
        "\n",
        "\n",
        "    targets = allign(word_ids, targets, -100, True)\n",
        "    binary_mask = allign(word_ids, binary_mask, 0, True)\n",
        "\n",
        "    keys_one_hot = allign(word_ids, keys_one_hot, 0, False)\n",
        "\n",
        "    # indicate position of predicate\n",
        "    words['token_type_ids'] = word_ids_equal_predicate(words['token_type_ids'], word_ids, keys)\n",
        "\n",
        "    return {\"words\": words, 'lemmas': lemmas, 'keys': keys_one_hot, 'targets' : targets, 'count_keys' : count_keys, 'binary_mask': binary_mask, 'word_ids': word_ids}"
      ],
      "metadata": {
        "id": "jScd0q1Imlnt"
      },
      "execution_count": 21,
      "outputs": []
    },
    {
      "cell_type": "code",
      "source": [
        "for index, row in df_train.iterrows():\n",
        "    \n",
        "    keys = row['roles'].keys()\n",
        "    \n",
        "    for key in keys:\n",
        "        print(row.words[int(key)])\n",
        "    if index > 2:\n",
        "         break\n"
      ],
      "metadata": {
        "colab": {
          "base_uri": "https://localhost:8080/"
        },
        "id": "F_ppg_Wtzpqt",
        "outputId": "44c47f83-152e-4d0b-c981-1158b463981b"
      },
      "execution_count": 23,
      "outputs": [
        {
          "output_type": "stream",
          "name": "stdout",
          "text": [
            "asked\n",
            "enjoyed\n",
            "asked\n",
            "intended\n",
            "make\n",
            "establish\n",
            "facilitate\n",
            "recommends\n",
            "consider\n",
            "undertaking\n",
            "disseminate\n",
            "concerning\n",
            "recommends\n",
            "show\n",
            "preventing\n",
            "committed\n",
            "take\n",
            "ensure\n",
            "subjected\n"
          ]
        }
      ]
    },
    {
      "cell_type": "code",
      "source": [
        "lengths = []\n",
        "for row in df_train['words']:\n",
        "    lengths.append(len(row))\n",
        "\n",
        "\n",
        "ax = sns.displot(lengths)\n",
        "ax.set(xlabel='Sentence length', ylabel='Count', title = 'Distribution of sentence lengths')\n",
        "plt.show()"
      ],
      "metadata": {
        "colab": {
          "base_uri": "https://localhost:8080/",
          "height": 399
        },
        "id": "tti_hta9yvYq",
        "outputId": "17715496-beac-456a-9d8c-34c14ceecafa"
      },
      "execution_count": 24,
      "outputs": [
        {
          "output_type": "display_data",
          "data": {
            "text/plain": [
              "<Figure size 360x360 with 1 Axes>"
            ],
            "image/png": "[encoded data removed]"
          },
          "metadata": {
            "needs_background": "light"
          }
        }
      ]
    },
    {
      "cell_type": "code",
      "source": [
        "tokenizer = BertTokenizerFast.from_pretrained('bert-base-multilingual-cased')"
      ],
      "metadata": {
        "id": "0AmERw-H9obk"
      },
      "execution_count": 25,
      "outputs": []
    },
    {
      "cell_type": "code",
      "source": [
        "class FocalLoss(nn.modules.loss._WeightedLoss):\n",
        "    def __init__(self, weight=None, gamma=2,reduction='mean'):\n",
        "        super(FocalLoss, self).__init__(weight,reduction=reduction)\n",
        "        self.gamma = gamma\n",
        "        self.weight = weight #weight parameter will act as the alpha parameter to balance class weights\n",
        "\n",
        "    def forward(self, input, target):\n",
        "\n",
        "        ce_loss = F.cross_entropy(input.view(-1, 27), target.view(-1), ignore_index=-100, reduction=self.reduction, weight=self.weight)\n",
        "        pt = torch.exp(-ce_loss)\n",
        "        focal_loss = ((1 - pt) ** self.gamma * ce_loss).mean()\n",
        "        return focal_loss"
      ],
      "metadata": {
        "id": "OinOeXeSFngD"
      },
      "execution_count": null,
      "outputs": []
    },
    {
      "cell_type": "markdown",
      "source": [
        "### **Pytorch Lightning Module**"
      ],
      "metadata": {
        "id": "g72mJ0qHkS9H"
      }
    },
    {
      "cell_type": "code",
      "source": [
        "class Trans(pl.LightningModule):\n",
        "    def __init__(self,\n",
        "                  model_name = \"bert-base-multilingual-cased\",\n",
        "                  num_labels = len(all_dicts['roles'])\n",
        "                 ):\n",
        "\n",
        "        super().__init__()\n",
        "\n",
        "        # Chose model\n",
        "        self.model = Sequential_model(model_name, num_labels)\n",
        "        #self.model = Sequential_gru(model_name, num_labels)\n",
        "        #self.model = Sequential_encoderHead(model_name, num_labels)\n",
        "\n",
        "        self.lr = 2.29e-06\n",
        "        self.weight_decay = 0\n",
        "        #self.loss_fn= FocalLoss()\n",
        "        self.class_weights = torch.ones(27).to(device)\n",
        "        #self.class_weights[18] = 0.05\n",
        "\n",
        "        self.last_labels = None\n",
        "        self.last_preds = None\n",
        "\n",
        "    def forward(self, b):\n",
        "        return self.model(b)\n",
        "\n",
        "\n",
        "    def training_step(self, batch, batch_idx):\n",
        "        \n",
        "        targets = batch.pop('targets')\n",
        "        output = self(batch)\n",
        "        loss = self.loss_fn(output, targets)\n",
        "\n",
        "        self.log(\"train_loss\", loss, on_step=True, on_epoch=True, prog_bar=True, logger=True)\n",
        "        return {'loss': loss, 'output': output, 'targets': targets}\n",
        "\n",
        "    def validation_step(self, batch, batch_idx):\n",
        "        \n",
        "        targets = batch.pop('targets')\n",
        "        output = self(batch)\n",
        "        loss = self.loss_fn(output, targets)\n",
        "\n",
        "        self.log(\"Validation_loss\", loss, on_step=True, on_epoch=True, prog_bar=True, logger=True)\n",
        "        return {'loss': loss, 'output': output, 'targets': targets}\n",
        "\n",
        "    def predict_step(self, batch, batch_idx):\n",
        "        return self(batch)\n",
        "\n",
        "    def test_step(self, batch, batch_idx):\n",
        "        \n",
        "        targets = batch.pop('targets')\n",
        "        output = self(batch)\n",
        "        \n",
        "        return {'output': output, 'targets': targets}\n",
        "\n",
        "    def testing_epoch_end(self, test_step_outputs):\n",
        "        print('test_epoch_end')\n",
        "        return test_step_outputs\n",
        "\n",
        "\n",
        "    def validation_epoch_end(self, val_step_outputs):\n",
        "\n",
        "        self.logg_fn(val_step_outputs)\n",
        "        \n",
        "        identification = self.evaluate_argument_identification(self.last_labels, self.last_preds)\n",
        "        classification = self.evaluate_argument_classification(self.last_labels, self.last_preds)\n",
        "\n",
        "        for key, value in identification.items():\n",
        "            self.log('Validation_identification_' + key, round(value, 3))\n",
        "        \n",
        "        for key, value in classification.items():\n",
        "            self.log('Validation_classification_' + key, round(value, 3))\n",
        "    \n",
        "    def training_epoch_end(self, train_step_outputs):\n",
        "\n",
        "        self.logg_fn(train_step_outputs)\n",
        "\n",
        "        identification = self.evaluate_argument_identification(self.last_labels, self.last_preds)\n",
        "        classification = self.evaluate_argument_classification(self.last_labels, self.last_preds)\n",
        "\n",
        "        for key, value in identification.items():\n",
        "            self.log('Training_identification_' + key, round(value, 3))\n",
        "        \n",
        "        for key, value in classification.items():\n",
        "            self.log('Training_classification_' + key, round(value, 3))\n",
        "\n",
        "    def loss_fn(self, y_hat, targets):\n",
        "        return F.cross_entropy(y_hat.view(-1, 27), targets.view(-1), ignore_index=-100, weight = self.class_weights)\n",
        "\n",
        "    def logg_fn(self, x):\n",
        "        predictions, labels = [], []\n",
        "\n",
        "        for obj in x:\n",
        "\n",
        "            output = obj['output']\n",
        "            targets = obj['targets'].cpu().numpy()\n",
        "\n",
        "            output_argmax = torch.argmax(output.detach().cpu(), dim = 2).numpy()\n",
        "\n",
        "            \n",
        "            true_predictions = [\n",
        "                    [roles_[p] for (p, l) in zip(pred, gold_label) if l != -100]\n",
        "                    for pred, gold_label in zip(output_argmax, targets)\n",
        "                ]\n",
        "            \n",
        "            true_labels = [\n",
        "                    [roles_[l] for (p, l) in zip(pred, gold_label) if l != -100]\n",
        "                    for pred, gold_label in zip(output_argmax, targets)\n",
        "                ]\n",
        "            predictions += true_predictions\n",
        "            labels += true_labels\n",
        "        \n",
        "        self.last_labels = labels\n",
        "        self.last_preds = predictions\n",
        "        \n",
        "        return \n",
        "        return {\"accuary\": accuracy_score(labels, predictions),\n",
        "                \"precision\": precision_score(labels, predictions),\n",
        "                \"recal\": recall_score(labels, predictions),\n",
        "                \"f1\": f1_score(labels, predictions)}\n",
        "\n",
        "    def evaluate_argument_identification(self, labels, predictions, null_tag=\"_\"):\n",
        "        true_positives, false_positives, false_negatives = 0, 0, 0\n",
        "        for i in range(len(labels)):\n",
        "            gold = labels[i]\n",
        "            pred = predictions[i]\n",
        "            for r_g, r_p in zip(gold, pred):\n",
        "                if r_g != null_tag and r_p != null_tag:\n",
        "                    true_positives += 1\n",
        "                elif r_g != null_tag and r_p == null_tag:\n",
        "                    false_negatives += 1\n",
        "                elif r_g == null_tag and r_p != null_tag:\n",
        "                    false_positives += 1\n",
        "\n",
        "        precision = true_positives / (true_positives + false_positives)\n",
        "        recall = true_positives / (true_positives + false_negatives)\n",
        "        f1 = 2 * (precision * recall) / (precision + recall)\n",
        "        return {\n",
        "            \"true_positives\": true_positives,\n",
        "            \"false_positives\": false_positives,\n",
        "            \"false_negatives\": false_negatives,\n",
        "            \"precision\": precision,\n",
        "            \"recall\": recall,\n",
        "            \"f1\": f1,\n",
        "        }\n",
        "    \n",
        "    def evaluate_argument_classification(self, labels, predictions, null_tag=\"_\"):\n",
        "        true_positives, false_positives, false_negatives = 0, 0, 0\n",
        "        \n",
        "        for i in range(len(labels)):\n",
        "            gold = labels[i]\n",
        "            pred = predictions[i]\n",
        "            for r_g, r_p in zip(gold, pred):\n",
        "                if r_g != null_tag and r_p != null_tag:\n",
        "                    if r_g == r_p:\n",
        "                        true_positives += 1\n",
        "                    else:\n",
        "                        false_positives += 1\n",
        "                        false_negatives += 1\n",
        "                elif r_g != null_tag and r_p == null_tag:\n",
        "                    false_negatives += 1\n",
        "                elif r_g == null_tag and r_p != null_tag:\n",
        "                    false_positives += 1\n",
        "\n",
        "        precision = true_positives / (true_positives + false_positives)\n",
        "        recall = true_positives / (true_positives + false_negatives)\n",
        "        f1 = 2 * (precision * recall) / (precision + recall)\n",
        "        return {\n",
        "            \"true_positives\": true_positives,\n",
        "            \"false_positives\": false_positives,\n",
        "            \"false_negatives\": false_negatives,\n",
        "            \"precision\": precision,\n",
        "            \"recall\": recall,\n",
        "            \"f1\": f1,\n",
        "        }\n",
        "\n",
        "    def configure_optimizers(self):\n",
        "        \n",
        "       \n",
        "        model_params = {\n",
        "            \"params\": self.model.parameters(),\n",
        "            \"lr\": self.lr,\n",
        "            \"weight_decay\": self.weight_decay,\n",
        "        }\n",
        "\n",
        "        optimizer = Adam(self.model.parameters(), lr=self.lr)\n",
        "\n",
        "        scheduler = {\n",
        "        'scheduler': ExponentialLR(optimizer = optimizer, gamma = 0.99),\n",
        "        'interval': 'step',  # called after each training step\n",
        "        'name' : 'penus'\n",
        "        }\n",
        "\n",
        "        return optimizer\n"
      ],
      "metadata": {
        "id": "3jVF_agWGaA3"
      },
      "execution_count": 26,
      "outputs": []
    },
    {
      "cell_type": "markdown",
      "source": [
        "## **Model architectures**"
      ],
      "metadata": {
        "id": "u4NdRjY9XmCr"
      }
    },
    {
      "cell_type": "code",
      "source": [
        "class Sequential_model(torch.nn.Module):\n",
        "\n",
        "    def __init__(self, model_name = \"bert-base-multilingual-cased\", num_labels = len(all_dicts['roles'])):\n",
        "\n",
        "        super().__init__()\n",
        "        self.model_name = model_name\n",
        "        self.num_labels = num_labels\n",
        "\n",
        "        self.trans = BertModel.from_pretrained(self.model_name)\n",
        "            \n",
        "        self.classifier = torch.nn.Linear(\n",
        "            self.trans.config.hidden_size, \n",
        "            num_labels, \n",
        "            bias=True\n",
        "        )\n",
        "        \n",
        "    def forward(self, batch):\n",
        "        \n",
        "        x = batch['words']\n",
        "        \n",
        "        x = self.trans(**x)\n",
        "\n",
        "        out, pooled = x.values()\n",
        "\n",
        "        x = self.classifier(out)\n",
        "\n",
        "        return x"
      ],
      "metadata": {
        "id": "kQ0hj43jOxFX"
      },
      "execution_count": 27,
      "outputs": []
    },
    {
      "cell_type": "code",
      "source": [
        "class Sequential_encoderHead(torch.nn.Module):\n",
        "\n",
        "    def __init__(self, model_name = \"bert-base-multilingual-cased\", num_labels = len(all_dicts['roles'])):\n",
        "\n",
        "        super().__init__()\n",
        "        self.model_name = model_name\n",
        "        self.num_labels = num_labels\n",
        "        self.trans = BertModel.from_pretrained(self.model_name)\n",
        "\n",
        "        l1, l2, l3 = len(all_dicts['dependency_heads']), len(all_dicts['pos_tags']), len(all_dicts['dependency_relations'])\n",
        "        d1, d2, d3 = 30, 30, 30 # hyperparameters \n",
        "        d_key = 6\n",
        "\n",
        "        self.embedding_heads = torch.nn.Embedding(l1 + 1, d1, padding_idx = 0) \n",
        "        self.embedding_tags = torch.nn.Embedding(l2 + 1, d2, padding_idx = 0) \n",
        "        self.embedding_relations = torch.nn.Embedding(l3 + 1, d3, padding_idx = 0)\n",
        "        #self.embedding_keys = torch.nn.Embedding(2, d_key, padding_idx = 0)\n",
        "\n",
        "        dim = d1 + d2 + self.trans.config.hidden_size \n",
        "\n",
        "        self.encoderHead = torch.nn.TransformerEncoderLayer(d_model = dim, nhead = 3, dropout=0.1, batch_first = True, )\n",
        "\n",
        "        self.classifier = torch.nn.Linear(\n",
        "            dim, \n",
        "            num_labels, \n",
        "            bias=True\n",
        "        )\n",
        "\n",
        "    def forward(self, batch):\n",
        "        \n",
        "        x = batch['words']\n",
        "\n",
        "        tags = self.embedding_tags(batch['pos_tags'])\n",
        "        rel = self.embedding_relations(batch['dependency_relations'])\n",
        "\n",
        "        output, pooled = self.trans(**x).values()\n",
        "\n",
        "        x_cat = torch.cat((output, rel, tags), 2)\n",
        "\n",
        "        encoded_x = self.encoderHead(x_cat)\n",
        "\n",
        "\n",
        "        x = self.classifier(encoded_x)\n",
        "\n",
        "        return x"
      ],
      "metadata": {
        "id": "tHq-v_r3zi6I"
      },
      "execution_count": 28,
      "outputs": []
    },
    {
      "cell_type": "code",
      "source": [
        "class Sequential_gru(torch.nn.Module):\n",
        "\n",
        "    def __init__(self, model_name = \"bert-base-multilingual-cased\", num_labels = len(all_dicts['roles'])):\n",
        "\n",
        "        super().__init__()\n",
        "        self.model_name = model_name\n",
        "        self.num_labels = num_labels\n",
        "        self.trans = BertModel.from_pretrained(self.model_name)\n",
        "\n",
        "        l1, l2, l3 = len(all_dicts['dependency_heads']), len(all_dicts['pos_tags']), len(all_dicts['dependency_relations'])\n",
        "        d1, d2, d3 = 30, 30, 30 # hyperparameters \n",
        "\n",
        "        self.projection_dim = 200\n",
        "\n",
        "        self.embedding_heads = torch.nn.Embedding(l1 + 1, d1, padding_idx = 0) \n",
        "        self.embedding_tags = torch.nn.Embedding(l2 + 1, d2, padding_idx = 0) \n",
        "        self.embedding_relations = torch.nn.Embedding(l3 + 1, d3, padding_idx = 0)\n",
        "\n",
        "\n",
        "        dim = d1 + d2 + self.trans.config.hidden_size \n",
        "\n",
        "        self.mlp = torch.nn.Linear(\n",
        "            dim, \n",
        "            self.projection_dim, \n",
        "            bias=True\n",
        "        )\n",
        "\n",
        "        self.gru = torch.nn.GRU(input_size = self.projection_dim, hidden_size= self.projection_dim, num_layers = 1, batch_first = True, bidirectional = True)\n",
        "\n",
        "        self.classifier = torch.nn.Linear(\n",
        "            self.projection_dim * 2, \n",
        "            num_labels, \n",
        "            bias=True\n",
        "        )\n",
        "\n",
        "    def forward(self, batch):\n",
        "        \n",
        "        x = batch['words']\n",
        "\n",
        "        tags = self.embedding_tags(batch['pos_tags'])\n",
        "        rel = self.embedding_relations(batch['dependency_relations'])\n",
        "   \n",
        "        output, pooled = self.trans(**x).values()\n",
        "\n",
        "        x_cat = torch.cat((output, rel, tags), 2)\n",
        "\n",
        "        projected = self.mlp(x_cat)\n",
        "\n",
        "        out, h  = self.gru(projected)\n",
        "\n",
        "        x = self.classifier(out)\n",
        "\n",
        "        return x"
      ],
      "metadata": {
        "id": "E3esHa-K0igD"
      },
      "execution_count": 29,
      "outputs": []
    },
    {
      "cell_type": "markdown",
      "source": [
        "# **Training**"
      ],
      "metadata": {
        "id": "nZcNO77in3Af"
      }
    },
    {
      "cell_type": "code",
      "source": [
        "logger = loggers.TensorBoardLogger('lightning_logs/', name=\"my_model\")\n",
        "from pytorch_lightning.loggers import CSVLogger\n",
        "logger_cvs = CSVLogger('lightning_logs/', name=\"cvs_name\")\n",
        "\n",
        "checkpoint_callback = ModelCheckpoint(\n",
        "    monitor='Validation_f1',\n",
        "    dirpath='/content/drive/MyDrive/nlp_checkpoints',\n",
        "    filename='new_model_2-{epoch:02d}-{Validation_f1:.2f}',\n",
        "    save_top_k=1,\n",
        "    mode = 'max'\n",
        "    )\n",
        "\n",
        "model = Trans().load_from_checkpoint(checkpoint_path='/content/drive/MyDrive/nlp_checkpoints/base_model-epoch=19-Validation_f1=0.79.ckpt')\n",
        "\n",
        "\n",
        "trainer = Trainer(accelerator=\"auto\", max_epochs = 20, auto_lr_find= True, gradient_clip_val=0.5, logger = [logger,logger_cvs], callbacks=[checkpoint_callback])\n",
        "dev = Trainer(accelerator=\"auto\", max_epochs = 1, fast_dev_run=True, )\n",
        "\n",
        "#model = Trans()\n",
        "module = MyDataModule(en, 16)"
      ],
      "metadata": {
        "id": "3gP_e2KPel5T"
      },
      "execution_count": null,
      "outputs": []
    },
    {
      "cell_type": "code",
      "source": [
        "trainer.fit(model, module)"
      ],
      "metadata": {
        "id": "owmzdFg1iw_f"
      },
      "execution_count": null,
      "outputs": []
    },
    {
      "cell_type": "code",
      "source": [
        "output = trainer.validate(model,module)"
      ],
      "metadata": {
        "colab": {
          "base_uri": "https://localhost:8080/",
          "height": 362,
          "referenced_widgets": [
            "e222b32c0ddc45f19a0ff8c7ec15e916",
            "52c569a1dd89469da082495d7fae0443",
            "4901a68e10f9444fb8e417f54d66132c",
            "b1570e4e41714fa38ab1c816658e5f94",
            "6cc7531ccd214e7388f669e7c1dc7a2a",
            "6a88160715714f13ae88f99d3b9a3b80",
            "457d5406b84a402ba3ba5a11a8819c45",
            "f6a7759a98c4453da7ee804633923140",
            "e5d420efab9844a7b9ddc65c6ec8a313",
            "88b2e025a8e64547b9009744dc4117b9",
            "4f5f682408f34c7db90945cba56052b1"
          ]
        },
        "id": "f4_ndVIOTbjA",
        "outputId": "c9139f0c-d079-4e88-c11b-92d79c56614d"
      },
      "execution_count": null,
      "outputs": [
        {
          "output_type": "stream",
          "name": "stderr",
          "text": [
            "LOCAL_RANK: 0 - CUDA_VISIBLE_DEVICES: [0]\n"
          ]
        },
        {
          "output_type": "display_data",
          "data": {
            "text/plain": [
              "Validation: 0it [00:00, ?it/s]"
            ],
            "application/vnd.jupyter.widget-view+json": {
              "version_major": 2,
              "version_minor": 0,
              "model_id": "e222b32c0ddc45f19a0ff8c7ec15e916"
            }
          },
          "metadata": {}
        },
        {
          "output_type": "stream",
          "name": "stdout",
          "text": [
            "────────────────────────────────────────────────────────────────────────────────────────────────────────────────────────\n",
            "             Validate metric                           DataLoader 0\n",
            "────────────────────────────────────────────────────────────────────────────────────────────────────────────────────────\n",
            "      Validation_classification_f1                  0.8209999799728394\n",
            "Validation_classification_false_negatives                  903.0\n",
            "Validation_classification_false_positives                  887.0\n",
            "   Validation_classification_precision              0.8220000267028809\n",
            "    Validation_classification_recall                0.8199999928474426\n",
            "Validation_classification_true_positives                  4110.0\n",
            "      Validation_identification_f1                  0.9010000228881836\n",
            "Validation_identification_false_negatives                  503.0\n",
            "Validation_identification_false_positives                  487.0\n",
            "   Validation_identification_precision               0.902999997138977\n",
            "    Validation_identification_recall                0.8999999761581421\n",
            "Validation_identification_true_positives                  4510.0\n",
            "          Validation_loss_epoch                    0.058287300169467926\n",
            "────────────────────────────────────────────────────────────────────────────────────────────────────────────────────────\n"
          ]
        }
      ]
    },
    {
      "cell_type": "code",
      "source": [
        "from google.colab import files\n",
        "files.download('/content/lightning_logs/cvs_name/version_1/metrics.csv')"
      ],
      "metadata": {
        "id": "Xv0GMBPvScRk"
      },
      "execution_count": null,
      "outputs": []
    },
    {
      "cell_type": "markdown",
      "source": [
        "## Saving and loading the transformer weights"
      ],
      "metadata": {
        "id": "Cq08mFJGCPXq"
      }
    },
    {
      "cell_type": "code",
      "source": [
        "trainer.fit(model, module)\n",
        "output = trainer.validate(model,module)\n",
        "PATH = '/content/drive/MyDrive/nlp_models_weights/base_state_dict.pt'\n",
        "torch.save(model.model.state_dict(), PATH)"
      ],
      "metadata": {
        "id": "VScxIY8Fpkhc"
      },
      "execution_count": null,
      "outputs": []
    },
    {
      "cell_type": "code",
      "source": [
        "PATH = '/content/drive/MyDrive/nlp_models_weights/new_state_dict_model.pt'\n",
        "\n",
        "#model = Trans().load_from_checkpoint(checkpoint_path='/content/drive/MyDrive/nlp_checkpoints/model_simple-epoch=24-Validation_f1=0.87.ckpt')\n",
        "\n",
        "#torch.save(model.model.state_dict(), PATH)\n",
        "\n",
        "\n",
        "#model = Sequential_model()\n",
        "#model.load_state_dict(torch.load(PATH))\n",
        "#model.eval()\n",
        "\n"
      ],
      "metadata": {
        "id": "qJDBqaksr7pL"
      },
      "execution_count": null,
      "outputs": []
    },
    {
      "cell_type": "code",
      "source": [
        "save_classifier_path = '/content/drive/MyDrive/nlp_classifier_weight/20_classifier_weight.pt'\n",
        "save_bert_path = '/content/drive/MyDrive/nlp_model_bert'\n",
        "\n",
        "#torch.save(model.model.classifier.state_dict(), save_classifier_path)\n",
        "#model.model.trans.save_pretrained(save_bert_path)"
      ],
      "metadata": {
        "id": "fpKOUBCaBDCU"
      },
      "execution_count": null,
      "outputs": []
    },
    {
      "cell_type": "code",
      "source": [
        "class LoadModel(torch.nn.Module):\n",
        "\n",
        "    def __init__(self, model_path = None, classifier_state_dict = None ,  num_labels = 27):\n",
        "\n",
        "        super().__init__()\n",
        "\n",
        "        self.num_labels = num_labels\n",
        "\n",
        "        self.trans = BertModel.from_pretrained(model_path)\n",
        "            \n",
        "        self.classifier = torch.nn.Linear(\n",
        "            self.trans.config.hidden_size, \n",
        "            num_labels, \n",
        "            bias=True\n",
        "        )\n",
        "        self.classifier.load_state_dict(torch.load(classifier_state_dict))\n",
        "\n",
        "        \n",
        "    def forward(self, batch):\n",
        "        \n",
        "        x = batch['words']\n",
        "        \n",
        "        x = self.trans(**x)\n",
        "\n",
        "        out, pooled = x.values()\n",
        "\n",
        "        x = self.classifier(out)\n",
        "\n",
        "        return x"
      ],
      "metadata": {
        "id": "8LWg811XHq9P"
      },
      "execution_count": null,
      "outputs": []
    },
    {
      "cell_type": "code",
      "source": [
        "loaded_model = LoadModel(save_bert_path, save_classifier_path, 27)"
      ],
      "metadata": {
        "id": "fAnlLpmMyWhT"
      },
      "execution_count": null,
      "outputs": []
    },
    {
      "cell_type": "code",
      "source": [
        "model_2 = Trans()\n",
        "model_2.model = loaded_model\n",
        "output = trainer.validate(model_2,module)"
      ],
      "metadata": {
        "colab": {
          "base_uri": "https://localhost:8080/",
          "height": 434,
          "referenced_widgets": [
            "94fb7865b6414b8695c5ac3e6dbfc6f5",
            "f997def3b171498aa6a376bdf9e5329f",
            "be63094300fc4d3baed257fefecdded8",
            "eb9a19760e424ab6bb3556ac99122e4b",
            "7ec7305e59624081b7dd99910ca6f633",
            "1b4a2558a9e042bfa23e226a5de0c13c",
            "e72eb28f2fca4a73bd8ee6b49b8a3aa9",
            "e52979008bd0492b97b79e67256ab84c",
            "9fc67c4a71fe42bf8ac4b6513bd71469",
            "39556c9b51564ab3a3034131fe6be4a4",
            "901ccff8a78c4187a48a7f03d0adf206"
          ]
        },
        "id": "3nHaL0TJBRCv",
        "outputId": "da67e119-c926-434a-b199-50d03a069023"
      },
      "execution_count": null,
      "outputs": [
        {
          "output_type": "stream",
          "name": "stderr",
          "text": [
            "Some weights of the model checkpoint at bert-base-multilingual-cased were not used when initializing BertModel: ['cls.predictions.decoder.weight', 'cls.predictions.transform.LayerNorm.bias', 'cls.predictions.transform.dense.weight', 'cls.predictions.transform.dense.bias', 'cls.seq_relationship.bias', 'cls.seq_relationship.weight', 'cls.predictions.transform.LayerNorm.weight', 'cls.predictions.bias']\n",
            "- This IS expected if you are initializing BertModel from the checkpoint of a model trained on another task or with another architecture (e.g. initializing a BertForSequenceClassification model from a BertForPreTraining model).\n",
            "- This IS NOT expected if you are initializing BertModel from the checkpoint of a model that you expect to be exactly identical (initializing a BertForSequenceClassification model from a BertForSequenceClassification model).\n",
            "LOCAL_RANK: 0 - CUDA_VISIBLE_DEVICES: [0]\n"
          ]
        },
        {
          "output_type": "display_data",
          "data": {
            "text/plain": [
              "Validation: 0it [00:00, ?it/s]"
            ],
            "application/vnd.jupyter.widget-view+json": {
              "version_major": 2,
              "version_minor": 0,
              "model_id": "94fb7865b6414b8695c5ac3e6dbfc6f5"
            }
          },
          "metadata": {}
        },
        {
          "output_type": "stream",
          "name": "stdout",
          "text": [
            "────────────────────────────────────────────────────────────────────────────────────────────────────────────────────────\n",
            "             Validate metric                           DataLoader 0\n",
            "────────────────────────────────────────────────────────────────────────────────────────────────────────────────────────\n",
            "      Validation_classification_f1                  0.8209999799728394\n",
            "Validation_classification_false_negatives                  903.0\n",
            "Validation_classification_false_positives                  887.0\n",
            "   Validation_classification_precision              0.8220000267028809\n",
            "    Validation_classification_recall                0.8199999928474426\n",
            "Validation_classification_true_positives                  4110.0\n",
            "      Validation_identification_f1                  0.9010000228881836\n",
            "Validation_identification_false_negatives                  503.0\n",
            "Validation_identification_false_positives                  487.0\n",
            "   Validation_identification_precision               0.902999997138977\n",
            "    Validation_identification_recall                0.8999999761581421\n",
            "Validation_identification_true_positives                  4510.0\n",
            "          Validation_loss_epoch                    0.058287300169467926\n",
            "────────────────────────────────────────────────────────────────────────────────────────────────────────────────────────\n"
          ]
        }
      ]
    },
    {
      "cell_type": "markdown",
      "source": [
        "Language models - saving and loading"
      ],
      "metadata": {
        "id": "lI3owt2xgYki"
      }
    },
    {
      "cell_type": "code",
      "source": [
        "french = MyDataModule2(fr, 16)\n",
        "spanish = MyDataModule2(es, 16)\n",
        "\n",
        "PATH = '/content/drive/MyDrive/nlp_models_weights/spanish_model.pt'\n",
        "\n",
        "model = Trans().load_from_checkpoint(checkpoint_path='/content/drive/MyDrive/nlp_checkpoints/spanish_model_2-epoch=14-Validation_f1=0.54.ckpt')\n",
        "trainer.validate(model, spanish)\n",
        "torch.save(model.model.state_dict(), PATH)\n",
        "\n",
        "\n",
        "\n",
        "\n",
        "PATH = '/content/drive/MyDrive/nlp_models_weights/french_model.pt'\n",
        "\n",
        "model = Trans().load_from_checkpoint(checkpoint_path='/content/drive/MyDrive/nlp_checkpoints/french_model_2-epoch=14-Validation_f1=0.66.ckpt')\n",
        "trainer.validate(model,french)\n",
        "\n",
        "torch.save(model.model.state_dict(), PATH)"
      ],
      "metadata": {
        "id": "5BUzzsl9AMyL"
      },
      "execution_count": null,
      "outputs": []
    },
    {
      "cell_type": "markdown",
      "source": [
        "## **Spanish and French**"
      ],
      "metadata": {
        "id": "NuXloSAVgZbG"
      }
    },
    {
      "cell_type": "code",
      "source": [
        "\n",
        "french = MyDataModule2(fr, 16)\n",
        "spanish = MyDataModule2(es, 16)\n",
        "\n",
        "checkpoint_callback_es = ModelCheckpoint(\n",
        "    monitor='Validation_f1',\n",
        "    dirpath='/content/drive/MyDrive/nlp_checkpoints',\n",
        "    filename='spanish_model-{epoch:02d}-{Validation_f1:.2f}',\n",
        "    save_top_k=1,\n",
        "    mode = 'max'\n",
        "    )\n",
        "checkpoint_callback_es_2 = ModelCheckpoint(\n",
        "    monitor='Validation_f1',\n",
        "    dirpath='/content/drive/MyDrive/nlp_checkpoints',\n",
        "    filename='spanish_model_2-{epoch:02d}-{Validation_f1:.2f}',\n",
        "    save_top_k=1,\n",
        "    mode = 'max'\n",
        "    )\n",
        "checkpoint_callback_fr = ModelCheckpoint(\n",
        "    monitor='Validation_f1',\n",
        "    dirpath='/content/drive/MyDrive/nlp_checkpoints',\n",
        "    filename='french_model-{epoch:02d}-{Validation_f1:.2f}',\n",
        "    save_top_k=1,\n",
        "    mode = 'max'\n",
        "    )\n",
        "checkpoint_callback_fr_2 = ModelCheckpoint(\n",
        "    monitor='Validation_f1',\n",
        "    dirpath='/content/drive/MyDrive/nlp_checkpoints',\n",
        "    filename='french_model_2-{epoch:02d}-{Validation_f1:.2f}',\n",
        "    save_top_k=1,\n",
        "    mode = 'max'\n",
        "    )"
      ],
      "metadata": {
        "id": "kbmOWB1rglcU"
      },
      "execution_count": null,
      "outputs": []
    },
    {
      "cell_type": "code",
      "source": [
        "model = Trans()\n",
        "trainer = Trainer(accelerator=\"auto\", max_epochs = 15, auto_lr_find= True, gradient_clip_val=0.5, logger = [logger,logger_cvs], callbacks=[checkpoint_callback_fr])\n",
        "trainer.fit(model,french)"
      ],
      "metadata": {
        "id": "r_NGnMIEPvxA"
      },
      "execution_count": null,
      "outputs": []
    },
    {
      "cell_type": "code",
      "source": [
        "model = Trans()\n",
        "trainer = Trainer(accelerator=\"auto\", max_epochs = 15, auto_lr_find= True, gradient_clip_val=0.5, logger = [logger,logger_cvs], callbacks=[checkpoint_callback_es])\n",
        "trainer.fit(model,spanish)"
      ],
      "metadata": {
        "id": "O-F6JUHckzkP"
      },
      "execution_count": null,
      "outputs": []
    },
    {
      "cell_type": "code",
      "source": [
        "model = Trans().load_from_checkpoint(checkpoint_path='/content/drive/MyDrive/nlp_checkpoints/base_model-epoch=19-Validation_f1=0.79.ckpt')\n",
        "trainer = Trainer(accelerator=\"auto\", max_epochs = 15, auto_lr_find= True, gradient_clip_val=0.5, logger = [logger,logger_cvs], callbacks=[checkpoint_callback_fr_2])\n",
        "trainer.fit(model,french)\n"
      ],
      "metadata": {
        "id": "KPQN0_yJkg-5"
      },
      "execution_count": null,
      "outputs": []
    },
    {
      "cell_type": "code",
      "source": [
        "model = Trans().load_from_checkpoint(checkpoint_path='/content/drive/MyDrive/nlp_checkpoints/base_model-epoch=19-Validation_f1=0.79.ckpt')\n",
        "trainer = Trainer(accelerator=\"auto\", max_epochs = 15, auto_lr_find= True, gradient_clip_val=0.5, logger = [logger,logger_cvs], callbacks=[checkpoint_callback_es_2])\n",
        "trainer.fit(model,spanish)\n"
      ],
      "metadata": {
        "id": "ieU8nBF9k-AK"
      },
      "execution_count": null,
      "outputs": []
    },
    {
      "cell_type": "code",
      "source": [
        "model = Trans().load_from_checkpoint(checkpoint_path='/content/drive/MyDrive/nlp_checkpoints/french_model-epoch=14-Validation_f1=0.44.ckpt')\n",
        "output = trainer.validate(model,french)"
      ],
      "metadata": {
        "colab": {
          "base_uri": "https://localhost:8080/",
          "height": 486,
          "referenced_widgets": [
            "749520fa70c24e0faa806e407b171af2",
            "d308180121524010b60aa64ee38d4675",
            "2e0caa65c5184a20af1b9a4b88fee1c4",
            "2bf25db02b96404d8f95697553300b61",
            "da7c0ae1225e44c6aeda72833e175ca8",
            "1ffac7634aa64899abf32c94cd808fe7",
            "de236b4bd3f940dbaa350c2778b7397d",
            "50e5ff049329417b8caf89a35a7117fb",
            "5b7801f0647844f3ac644af0d5c5e6ec",
            "a14cca10e99c4ba18d9ed52a50a12c9e",
            "98e6e055e8f14e7ba8cddd5e163d70b3"
          ]
        },
        "id": "UPZMcItmfs87",
        "outputId": "958b4461-abe4-46da-80cb-b22f03ca341f"
      },
      "execution_count": null,
      "outputs": [
        {
          "output_type": "stream",
          "name": "stderr",
          "text": [
            "Some weights of the model checkpoint at bert-base-multilingual-cased were not used when initializing BertModel: ['cls.predictions.decoder.weight', 'cls.predictions.transform.LayerNorm.bias', 'cls.predictions.transform.dense.weight', 'cls.predictions.transform.dense.bias', 'cls.seq_relationship.bias', 'cls.seq_relationship.weight', 'cls.predictions.transform.LayerNorm.weight', 'cls.predictions.bias']\n",
            "- This IS expected if you are initializing BertModel from the checkpoint of a model trained on another task or with another architecture (e.g. initializing a BertForSequenceClassification model from a BertForPreTraining model).\n",
            "- This IS NOT expected if you are initializing BertModel from the checkpoint of a model that you expect to be exactly identical (initializing a BertForSequenceClassification model from a BertForSequenceClassification model).\n",
            "Some weights of the model checkpoint at bert-base-multilingual-cased were not used when initializing BertModel: ['cls.predictions.decoder.weight', 'cls.predictions.transform.LayerNorm.bias', 'cls.predictions.transform.dense.weight', 'cls.predictions.transform.dense.bias', 'cls.seq_relationship.bias', 'cls.seq_relationship.weight', 'cls.predictions.transform.LayerNorm.weight', 'cls.predictions.bias']\n",
            "- This IS expected if you are initializing BertModel from the checkpoint of a model trained on another task or with another architecture (e.g. initializing a BertForSequenceClassification model from a BertForPreTraining model).\n",
            "- This IS NOT expected if you are initializing BertModel from the checkpoint of a model that you expect to be exactly identical (initializing a BertForSequenceClassification model from a BertForSequenceClassification model).\n",
            "LOCAL_RANK: 0 - CUDA_VISIBLE_DEVICES: [0]\n"
          ]
        },
        {
          "output_type": "display_data",
          "data": {
            "text/plain": [
              "Validation: 0it [00:00, ?it/s]"
            ],
            "application/vnd.jupyter.widget-view+json": {
              "version_major": 2,
              "version_minor": 0,
              "model_id": "749520fa70c24e0faa806e407b171af2"
            }
          },
          "metadata": {}
        },
        {
          "output_type": "stream",
          "name": "stdout",
          "text": [
            "────────────────────────────────────────────────────────────────────────────────────────────────────────────────────────\n",
            "             Validate metric                           DataLoader 0\n",
            "────────────────────────────────────────────────────────────────────────────────────────────────────────────────────────\n",
            "      Validation_classification_f1                  0.42899999022483826\n",
            "Validation_classification_false_negatives                 3107.0\n",
            "Validation_classification_false_positives                 1949.0\n",
            "   Validation_classification_precision              0.49300000071525574\n",
            "    Validation_classification_recall                0.3790000081062317\n",
            "Validation_classification_true_positives                  1896.0\n",
            "      Validation_identification_f1                  0.7289999723434448\n",
            "Validation_identification_false_negatives                 1776.0\n",
            "Validation_identification_false_positives                  618.0\n",
            "   Validation_identification_precision              0.8389999866485596\n",
            "    Validation_identification_recall                0.6449999809265137\n",
            "Validation_identification_true_positives                  3227.0\n",
            "          Validation_loss_epoch                     0.1235036849975586\n",
            "────────────────────────────────────────────────────────────────────────────────────────────────────────────────────────\n"
          ]
        }
      ]
    },
    {
      "cell_type": "code",
      "source": [
        "model = Trans().load_from_checkpoint(checkpoint_path='/content/drive/MyDrive/nlp_checkpoints/french_model_2-epoch=14-Validation_f1=0.66.ckpt')\n",
        "output = trainer.validate(model,french)"
      ],
      "metadata": {
        "colab": {
          "base_uri": "https://localhost:8080/",
          "height": 486,
          "referenced_widgets": [
            "afa8d87a3307433da7d30d96a1c731c0",
            "9592ec1f291f4880a32b1d35558b81f9",
            "69600ab646424d4bb790fcf4cb2579a5",
            "3bac000fcae140ccb54237154342b894",
            "bad826538f21461cb084957afd27797a",
            "3ad32c71b1f5407195636275b2c6989d",
            "47d6ff39cc644fbbb8b52adb274166c7",
            "29dd5f55c1e64985af719bd6c6118a29",
            "b0f9f84846374ed08bb986be7a510395",
            "259e377be70041f082b0f54140414a4d",
            "a7474745395b46be8a31baaf654bd2fa"
          ]
        },
        "id": "JGJKtBhCgRZS",
        "outputId": "7806392a-52d3-479e-b518-5a165eef4859"
      },
      "execution_count": null,
      "outputs": [
        {
          "output_type": "stream",
          "name": "stderr",
          "text": [
            "Some weights of the model checkpoint at bert-base-multilingual-cased were not used when initializing BertModel: ['cls.predictions.decoder.weight', 'cls.predictions.transform.LayerNorm.bias', 'cls.predictions.transform.dense.weight', 'cls.predictions.transform.dense.bias', 'cls.seq_relationship.bias', 'cls.seq_relationship.weight', 'cls.predictions.transform.LayerNorm.weight', 'cls.predictions.bias']\n",
            "- This IS expected if you are initializing BertModel from the checkpoint of a model trained on another task or with another architecture (e.g. initializing a BertForSequenceClassification model from a BertForPreTraining model).\n",
            "- This IS NOT expected if you are initializing BertModel from the checkpoint of a model that you expect to be exactly identical (initializing a BertForSequenceClassification model from a BertForSequenceClassification model).\n",
            "Some weights of the model checkpoint at bert-base-multilingual-cased were not used when initializing BertModel: ['cls.predictions.decoder.weight', 'cls.predictions.transform.LayerNorm.bias', 'cls.predictions.transform.dense.weight', 'cls.predictions.transform.dense.bias', 'cls.seq_relationship.bias', 'cls.seq_relationship.weight', 'cls.predictions.transform.LayerNorm.weight', 'cls.predictions.bias']\n",
            "- This IS expected if you are initializing BertModel from the checkpoint of a model trained on another task or with another architecture (e.g. initializing a BertForSequenceClassification model from a BertForPreTraining model).\n",
            "- This IS NOT expected if you are initializing BertModel from the checkpoint of a model that you expect to be exactly identical (initializing a BertForSequenceClassification model from a BertForSequenceClassification model).\n",
            "LOCAL_RANK: 0 - CUDA_VISIBLE_DEVICES: [0]\n"
          ]
        },
        {
          "output_type": "display_data",
          "data": {
            "text/plain": [
              "Validation: 0it [00:00, ?it/s]"
            ],
            "application/vnd.jupyter.widget-view+json": {
              "version_major": 2,
              "version_minor": 0,
              "model_id": "afa8d87a3307433da7d30d96a1c731c0"
            }
          },
          "metadata": {}
        },
        {
          "output_type": "stream",
          "name": "stdout",
          "text": [
            "────────────────────────────────────────────────────────────────────────────────────────────────────────────────────────\n",
            "             Validate metric                           DataLoader 0\n",
            "────────────────────────────────────────────────────────────────────────────────────────────────────────────────────────\n",
            "      Validation_classification_f1                  0.6620000004768372\n",
            "Validation_classification_false_negatives                 1794.0\n",
            "Validation_classification_false_positives                 1480.0\n",
            "   Validation_classification_precision              0.6840000152587891\n",
            "    Validation_classification_recall                 0.640999972820282\n",
            "Validation_classification_true_positives                  3209.0\n",
            "      Validation_identification_f1                  0.8489999771118164\n",
            "Validation_identification_false_negatives                  891.0\n",
            "Validation_identification_false_positives                  577.0\n",
            "   Validation_identification_precision              0.8769999742507935\n",
            "    Validation_identification_recall                0.8220000267028809\n",
            "Validation_identification_true_positives                  4112.0\n",
            "          Validation_loss_epoch                     0.07748046517372131\n",
            "────────────────────────────────────────────────────────────────────────────────────────────────────────────────────────\n"
          ]
        }
      ]
    },
    {
      "cell_type": "code",
      "source": [
        "model = Trans().load_from_checkpoint(checkpoint_path='/content/drive/MyDrive/nlp_checkpoints/spanish_model-epoch=14-Validation_f1=0.46.ckpt')\n",
        "output = trainer.validate(model,spanish)"
      ],
      "metadata": {
        "colab": {
          "base_uri": "https://localhost:8080/",
          "height": 486,
          "referenced_widgets": [
            "cd61033b9a8545f7a82b0d8f87ada2a6",
            "bff787d9a70b40b5bbe3211139896c3c",
            "6cc773fd765d45c39628315e1e030be5",
            "63ee74b0b12b4cd5b037118f5fff65be",
            "d0984951f0e24588a34881193b073103",
            "4265cace86e341e88c0e658f334c9aa5",
            "7fbb44514836499795c153f0766cfcb4",
            "d576b25ab7354b1bb8734462fe0945d4",
            "d139d3c7cd7e426faf5ff0bab4da754a",
            "87204bd5b2e94232ac46117005f066d7",
            "f7b48eebe7d44b98aab7a70ea9c95ffe"
          ]
        },
        "id": "hqKc6Tj2gUSS",
        "outputId": "e85cb16d-15e6-4466-c496-a97bd77f5b92"
      },
      "execution_count": null,
      "outputs": [
        {
          "output_type": "stream",
          "name": "stderr",
          "text": [
            "Some weights of the model checkpoint at bert-base-multilingual-cased were not used when initializing BertModel: ['cls.predictions.decoder.weight', 'cls.predictions.transform.LayerNorm.bias', 'cls.predictions.transform.dense.weight', 'cls.predictions.transform.dense.bias', 'cls.seq_relationship.bias', 'cls.seq_relationship.weight', 'cls.predictions.transform.LayerNorm.weight', 'cls.predictions.bias']\n",
            "- This IS expected if you are initializing BertModel from the checkpoint of a model trained on another task or with another architecture (e.g. initializing a BertForSequenceClassification model from a BertForPreTraining model).\n",
            "- This IS NOT expected if you are initializing BertModel from the checkpoint of a model that you expect to be exactly identical (initializing a BertForSequenceClassification model from a BertForSequenceClassification model).\n",
            "Some weights of the model checkpoint at bert-base-multilingual-cased were not used when initializing BertModel: ['cls.predictions.decoder.weight', 'cls.predictions.transform.LayerNorm.bias', 'cls.predictions.transform.dense.weight', 'cls.predictions.transform.dense.bias', 'cls.seq_relationship.bias', 'cls.seq_relationship.weight', 'cls.predictions.transform.LayerNorm.weight', 'cls.predictions.bias']\n",
            "- This IS expected if you are initializing BertModel from the checkpoint of a model trained on another task or with another architecture (e.g. initializing a BertForSequenceClassification model from a BertForPreTraining model).\n",
            "- This IS NOT expected if you are initializing BertModel from the checkpoint of a model that you expect to be exactly identical (initializing a BertForSequenceClassification model from a BertForSequenceClassification model).\n",
            "LOCAL_RANK: 0 - CUDA_VISIBLE_DEVICES: [0]\n"
          ]
        },
        {
          "output_type": "display_data",
          "data": {
            "text/plain": [
              "Validation: 0it [00:00, ?it/s]"
            ],
            "application/vnd.jupyter.widget-view+json": {
              "version_major": 2,
              "version_minor": 0,
              "model_id": "cd61033b9a8545f7a82b0d8f87ada2a6"
            }
          },
          "metadata": {}
        },
        {
          "output_type": "stream",
          "name": "stdout",
          "text": [
            "────────────────────────────────────────────────────────────────────────────────────────────────────────────────────────\n",
            "             Validate metric                           DataLoader 0\n",
            "────────────────────────────────────────────────────────────────────────────────────────────────────────────────────────\n",
            "      Validation_classification_f1                  0.4729999899864197\n",
            "Validation_classification_false_negatives                 2742.0\n",
            "Validation_classification_false_positives                 1733.0\n",
            "   Validation_classification_precision              0.5370000004768372\n",
            "    Validation_classification_recall                0.4230000078678131\n",
            "Validation_classification_true_positives                  2008.0\n",
            "      Validation_identification_f1                  0.7170000076293945\n",
            "Validation_identification_false_negatives                 1705.0\n",
            "Validation_identification_false_positives                  696.0\n",
            "   Validation_identification_precision              0.8140000104904175\n",
            "    Validation_identification_recall                 0.640999972820282\n",
            "Validation_identification_true_positives                  3045.0\n",
            "          Validation_loss_epoch                     0.12916496396064758\n",
            "────────────────────────────────────────────────────────────────────────────────────────────────────────────────────────\n"
          ]
        }
      ]
    },
    {
      "cell_type": "code",
      "source": [
        "model = Trans().load_from_checkpoint(checkpoint_path='/content/drive/MyDrive/nlp_checkpoints/spanish_model_2-epoch=14-Validation_f1=0.54.ckpt')\n",
        "output = trainer.validate(model,spanish)"
      ],
      "metadata": {
        "colab": {
          "base_uri": "https://localhost:8080/",
          "height": 486,
          "referenced_widgets": [
            "97426658971b4461afed638ab9186295",
            "54bc83b169d54d0880a318bc99e151f9",
            "7e59c28c6a7245ee98b13a886f97114d",
            "e22012e32aa54ae89052f8c271f4ea61",
            "3f4ed7de54894116adf5f2eac2d4e802",
            "b914f2fa4fa04669801c70e80e7bfd55",
            "40c6f464959a43178d41036db2b9ba45",
            "d0fb0109733c4779a2dba87fd4d5098f",
            "3abd2cdef561446a98f4f2d2d294a0e2",
            "697146c075844961a4dbe6d4cf6bd941",
            "375a79fb13c24e5ea134ba2c722aa9ed"
          ]
        },
        "id": "WKJsGOyOgWNV",
        "outputId": "cee892e6-0ce9-4588-9376-3d3cdd9cdb4d"
      },
      "execution_count": null,
      "outputs": [
        {
          "output_type": "stream",
          "name": "stderr",
          "text": [
            "Some weights of the model checkpoint at bert-base-multilingual-cased were not used when initializing BertModel: ['cls.predictions.decoder.weight', 'cls.predictions.transform.LayerNorm.bias', 'cls.predictions.transform.dense.weight', 'cls.predictions.transform.dense.bias', 'cls.seq_relationship.bias', 'cls.seq_relationship.weight', 'cls.predictions.transform.LayerNorm.weight', 'cls.predictions.bias']\n",
            "- This IS expected if you are initializing BertModel from the checkpoint of a model trained on another task or with another architecture (e.g. initializing a BertForSequenceClassification model from a BertForPreTraining model).\n",
            "- This IS NOT expected if you are initializing BertModel from the checkpoint of a model that you expect to be exactly identical (initializing a BertForSequenceClassification model from a BertForSequenceClassification model).\n",
            "Some weights of the model checkpoint at bert-base-multilingual-cased were not used when initializing BertModel: ['cls.predictions.decoder.weight', 'cls.predictions.transform.LayerNorm.bias', 'cls.predictions.transform.dense.weight', 'cls.predictions.transform.dense.bias', 'cls.seq_relationship.bias', 'cls.seq_relationship.weight', 'cls.predictions.transform.LayerNorm.weight', 'cls.predictions.bias']\n",
            "- This IS expected if you are initializing BertModel from the checkpoint of a model trained on another task or with another architecture (e.g. initializing a BertForSequenceClassification model from a BertForPreTraining model).\n",
            "- This IS NOT expected if you are initializing BertModel from the checkpoint of a model that you expect to be exactly identical (initializing a BertForSequenceClassification model from a BertForSequenceClassification model).\n",
            "LOCAL_RANK: 0 - CUDA_VISIBLE_DEVICES: [0]\n"
          ]
        },
        {
          "output_type": "display_data",
          "data": {
            "text/plain": [
              "Validation: 0it [00:00, ?it/s]"
            ],
            "application/vnd.jupyter.widget-view+json": {
              "version_major": 2,
              "version_minor": 0,
              "model_id": "97426658971b4461afed638ab9186295"
            }
          },
          "metadata": {}
        },
        {
          "output_type": "stream",
          "name": "stdout",
          "text": [
            "────────────────────────────────────────────────────────────────────────────────────────────────────────────────────────\n",
            "             Validate metric                           DataLoader 0\n",
            "────────────────────────────────────────────────────────────────────────────────────────────────────────────────────────\n",
            "      Validation_classification_f1                  0.5370000004768372\n",
            "Validation_classification_false_negatives                 2365.0\n",
            "Validation_classification_false_positives                 1740.0\n",
            "   Validation_classification_precision               0.578000009059906\n",
            "    Validation_classification_recall                0.5019999742507935\n",
            "Validation_classification_true_positives                  2385.0\n",
            "      Validation_identification_f1                  0.7789999842643738\n",
            "Validation_identification_false_negatives                 1293.0\n",
            "Validation_identification_false_positives                  668.0\n",
            "   Validation_identification_precision              0.8379999995231628\n",
            "    Validation_identification_recall                0.7279999852180481\n",
            "Validation_identification_true_positives                  3457.0\n",
            "          Validation_loss_epoch                     0.11621307581663132\n",
            "────────────────────────────────────────────────────────────────────────────────────────────────────────────────────────\n"
          ]
        }
      ]
    },
    {
      "cell_type": "code",
      "source": [
        "%reload_ext tensorboard\n",
        "%tensorboard --logdir lightning_logs/"
      ],
      "metadata": {
        "id": "cJzqCepVynAO"
      },
      "execution_count": null,
      "outputs": []
    },
    {
      "cell_type": "code",
      "source": [
        "results = trainer.test(model, module)"
      ],
      "metadata": {
        "id": "UkllWfs9pwMN"
      },
      "execution_count": null,
      "outputs": []
    },
    {
      "cell_type": "markdown",
      "source": [
        "## **Confustion matrix**"
      ],
      "metadata": {
        "id": "lixYIvRdT8id"
      }
    },
    {
      "cell_type": "code",
      "source": [
        "labels = [element for sublist in model.last_labels for element in sublist]\n",
        "preds = [element for sublist in model.last_preds for element in sublist]\n",
        "\n",
        "y_true = []\n",
        "y_pred = []\n",
        "null_label = '_'\n",
        "for t, p in zip(labels, preds):\n",
        "    if t != null_label and p != null_label:\n",
        "        y_true.append(t)\n",
        "        y_pred.append(p)\n",
        "\n",
        "data = confusion_matrix(y_true, y_pred)\n",
        "df_cm = pd.DataFrame(data, columns=np.unique(y_true), index = np.unique(y_true))\n",
        "df_cm.index.name = 'Actual'\n",
        "df_cm.columns.name = 'Predicted'\n",
        "plt.figure(figsize = (15,15))\n",
        "sns.set(font_scale=1.4)#for label size\n",
        "sns.color_palette(\"cubehelix\", as_cmap=True)\n",
        "sns.heatmap(df_cm, annot=False, annot_kws={\"size\": 15})# font size\n",
        "plt.savefig('dazed_and_confuzed_matrix.png')\n",
        "plt.show()"
      ],
      "metadata": {
        "id": "owQeUOFKUX1E",
        "colab": {
          "base_uri": "https://localhost:8080/",
          "height": 970
        },
        "outputId": "0729ee28-69d6-4a85-a9f5-b139afaa5606"
      },
      "execution_count": 33,
      "outputs": [
        {
          "output_type": "display_data",
          "data": {
            "text/plain": [
              "<Figure size 1080x1080 with 2 Axes>"
            ],
            "image/png": "[encoded data removed]"
          },
          "metadata": {
            "needs_background": "light"
          }
        }
      ]
    },
    {
      "cell_type": "code",
      "source": [
        "output = trainer.validate(model,module)"
      ],
      "metadata": {
        "id": "q4uTrmTZwIqN"
      },
      "execution_count": null,
      "outputs": []
    },
    {
      "cell_type": "code",
      "source": [
        "output"
      ],
      "metadata": {
        "colab": {
          "base_uri": "https://localhost:8080/"
        },
        "id": "rjxbqqN0-glF",
        "outputId": "045f1210-e517-4048-c55e-f753b727c332"
      },
      "execution_count": 77,
      "outputs": [
        {
          "output_type": "execute_result",
          "data": {
            "text/plain": [
              "[{'Validation_classification_f1': 0.8209999799728394,\n",
              "  'Validation_classification_false_negatives': 903.0,\n",
              "  'Validation_classification_false_positives': 887.0,\n",
              "  'Validation_classification_precision': 0.8220000267028809,\n",
              "  'Validation_classification_recall': 0.8199999928474426,\n",
              "  'Validation_classification_true_positives': 4110.0,\n",
              "  'Validation_identification_f1': 0.9010000228881836,\n",
              "  'Validation_identification_false_negatives': 503.0,\n",
              "  'Validation_identification_false_positives': 487.0,\n",
              "  'Validation_identification_precision': 0.902999997138977,\n",
              "  'Validation_identification_recall': 0.8999999761581421,\n",
              "  'Validation_identification_true_positives': 4510.0,\n",
              "  'Validation_loss_epoch': 0.059255219995975494}]"
            ]
          },
          "metadata": {},
          "execution_count": 77
        }
      ]
    },
    {
      "cell_type": "code",
      "source": [
        "new_dict = {}\n",
        "for key in roles_dict.keys():\n",
        "    new_dict[key] = (0,0)\n",
        "\n",
        "for t, p in zip(labels, preds):\n",
        "    x, y = new_dict[t]\n",
        "    if t == p:\n",
        "        new_dict[t] = (x + 1, y + 1)\n",
        "    else:\n",
        "        new_dict[t] = (x+1, y)\n",
        "\n",
        "for key, item in new_dict.items():\n",
        "    x, y = item\n",
        "    new_dict[key] = (x, y, round(y/x, 2))"
      ],
      "metadata": {
        "id": "yj-EHoJjxwnj"
      },
      "execution_count": 57,
      "outputs": []
    },
    {
      "cell_type": "code",
      "source": [
        "sum_1, sum_2 = 0, 0\n",
        "for key, item in new_dict.items():\n",
        "    print(key, '&' , item[0], '&', item[1], '&', round(item[2] * 100), \"\\%\")\n",
        "    sum_1 += item[0]\n",
        "    sum_2 += item[1]\n",
        "sum_3 = sum_2/sum_1\n",
        "print('Sum', '&' , sum_1, '&', sum_2, '&', round(sum_3 * 100), \"\\%\")"
      ],
      "metadata": {
        "id": "DNVV6qPlzhZF"
      },
      "execution_count": null,
      "outputs": []
    },
    {
      "cell_type": "code",
      "source": [
        "a =([new_dict['_'][1], 487],\n",
        "    [503, 4510])\n",
        "\n",
        "plt.title('Confusion matrix - Argument Identification')\n",
        "sns.heatmap(a, annot=a, fmt='', cmap='Blues')\n",
        "plt.ylabel('Actual')\n",
        "plt.xlabel('Predicted')\n",
        "plt.savefig('i.png')\n",
        "plt.show()"
      ],
      "metadata": {
        "colab": {
          "base_uri": "https://localhost:8080/",
          "height": 315
        },
        "id": "xAPRG6uW8XTu",
        "outputId": "ad3abd23-c86c-4248-90d3-0bf0ef04836e"
      },
      "execution_count": 115,
      "outputs": [
        {
          "output_type": "display_data",
          "data": {
            "text/plain": [
              "<Figure size 432x288 with 2 Axes>"
            ],
            "image/png": "[encoded data removed]"
          },
          "metadata": {}
        }
      ]
    },
    {
      "cell_type": "code",
      "source": [
        "a =([np.nan, 887],\n",
        "    [903, 4110])\n",
        "\n",
        "plt.title('Confusion matrix - Argument Classification')\n",
        "sns.heatmap(a, annot=a, fmt='', cmap='Blues')\n",
        "plt.ylabel('Actual')\n",
        "plt.xlabel('Predicted')\n",
        "plt.savefig('c.png')\n",
        "plt.show()"
      ],
      "metadata": {
        "colab": {
          "base_uri": "https://localhost:8080/",
          "height": 315
        },
        "id": "KWY8lSOkCf0e",
        "outputId": "f7b553d1-fcb1-40b9-c89e-fa84649a71d9"
      },
      "execution_count": 116,
      "outputs": [
        {
          "output_type": "display_data",
          "data": {
            "text/plain": [
              "<Figure size 432x288 with 2 Axes>"
            ],
            "image/png": "[encoded data removed]"
          },
          "metadata": {}
        }
      ]
    },
    {
      "cell_type": "markdown",
      "source": [
        "## Predict and decode"
      ],
      "metadata": {
        "id": "x-aNzd80uC4i"
      }
    },
    {
      "cell_type": "code",
      "source": [
        "output = trainer.predict(model, module)[0]"
      ],
      "metadata": {
        "id": "1Tv5jeWDzbm5"
      },
      "execution_count": null,
      "outputs": []
    },
    {
      "cell_type": "code",
      "source": [
        "def decode_output(output, batch):\n",
        "\n",
        "\n",
        "    output_argmax = torch.argmax(output.detach(), dim = 2).numpy()\n",
        "    \n",
        "    print(output_argmax[1])\n",
        "    \n",
        "    binary_mask = batch['binary_mask']  ### USE instead\n",
        "\n",
        "\n",
        "    decoded = []\n",
        "    for i in range(len(binary_mask)):\n",
        "        list_ = []\n",
        "        for j in range(len(binary_mask[0])):\n",
        "            if (binary_mask[i][j] == True):\n",
        "                pred = roles_[output_argmax[i][j]] # Correct??\n",
        "                list_.append(pred)\n",
        "        decoded.append(list_)\n",
        "        print(list_)\n",
        "\n",
        "    list_of_dicts = []\n",
        "\n",
        "    i = 0 \n",
        "    keys = batch['keys']\n",
        "    for num in batch['count_keys']:\n",
        "\n",
        "        dict_ = {}\n",
        "        for j in range(num):\n",
        "            dict_[keys[i]] = decoded[i]\n",
        "        \n",
        "            i += 1\n",
        "        list_of_dicts.append(dict_)\n",
        "\n",
        "    return list_of_dicts\n",
        "\n",
        "decoded_output = decode_output(output,batch)"
      ],
      "metadata": {
        "id": "kHZmovqYOhkA"
      },
      "execution_count": null,
      "outputs": []
    },
    {
      "cell_type": "markdown",
      "source": [
        "**Metrics cvs**"
      ],
      "metadata": {
        "id": "_pKDgYPYWBRb"
      }
    },
    {
      "cell_type": "code",
      "source": [
        "metrics = pd.read_csv('/content/metrics_1.csv')\n",
        "val_loss = metrics.Validation_loss_epoch.dropna().reset_index(drop = True)[:-1]\n",
        "train_loss = metrics.train_loss_epoch.dropna().reset_index(drop = True)\n",
        "v_f1 = metrics.Validation_f1.dropna().reset_index(drop = True)[:-1]\n",
        "t_f1 = metrics.Training_f1.dropna().reset_index(drop = True)\n"
      ],
      "metadata": {
        "id": "IJuNfkqkXW4X"
      },
      "execution_count": null,
      "outputs": []
    },
    {
      "cell_type": "code",
      "source": [
        "fig, ax = plt.subplots()\n",
        "ax.plot(v_f1, label = 'Validation f1 score')\n",
        "ax.plot(t_f1, label = 'Training f1 score')\n",
        "ax.legend()\n",
        "ax.set_title('F1 score development',)\n",
        "ax.set_xlabel('Epochs')\n",
        "ax.set_ylabel('F1 score')\n",
        "plt.savefig('f1.png')\n",
        "plt.show()"
      ],
      "metadata": {
        "colab": {
          "base_uri": "https://localhost:8080/",
          "height": 295
        },
        "id": "Ltt0cTtuY1aA",
        "outputId": "264658da-1abd-418f-aba8-9d7262b3e4fb"
      },
      "execution_count": null,
      "outputs": [
        {
          "output_type": "display_data",
          "data": {
            "text/plain": [
              "<Figure size 432x288 with 1 Axes>"
            ],
            "image/png": "[encoded data removed]"
          },
          "metadata": {
            "needs_background": "light"
          }
        }
      ]
    },
    {
      "cell_type": "code",
      "source": [
        "fig, ax = plt.subplots()\n",
        "ax.plot(val_loss, label = 'Validation loss')\n",
        "ax.plot(train_loss, label = 'Training loss')\n",
        "ax.legend()\n",
        "ax.set_title('Weighted cross entropy loss')\n",
        "ax.set_xlabel('Epochs')\n",
        "ax.set_ylabel('Loss')\n",
        "plt.savefig('loss_.png')\n",
        "plt.show()"
      ],
      "metadata": {
        "colab": {
          "base_uri": "https://localhost:8080/",
          "height": 295
        },
        "id": "wiKSBcbrYB_t",
        "outputId": "5fa04850-3612-4666-aafd-ef9526c0b59e"
      },
      "execution_count": null,
      "outputs": [
        {
          "output_type": "display_data",
          "data": {
            "text/plain": [
              "<Figure size 432x288 with 1 Axes>"
            ],
            "image/png": "[encoded data removed]"
          },
          "metadata": {
            "needs_background": "light"
          }
        }
      ]
    },
    {
      "cell_type": "markdown",
      "source": [
        "## **Training with recurrent layers**"
      ],
      "metadata": {
        "id": "07B31AJ-byr6"
      }
    },
    {
      "cell_type": "code",
      "source": [
        "logger = loggers.TensorBoardLogger('lightning_logs/', name=\"recurrent_model\")\n",
        "from pytorch_lightning.loggers import CSVLogger\n",
        "logger_cvs = CSVLogger('lightning_logs/', name=\"cvs_recurrent\")\n",
        "\n",
        "checkpoint_callback = ModelCheckpoint(\n",
        "    monitor='Validation_loss_epoch',\n",
        "    dirpath='/content/drive/MyDrive/nlp_checkpoints',\n",
        "    filename='Gru_bidir_5-{epoch:02d}-{Validation_f1:.2f}',\n",
        "    save_top_k=1,\n",
        "    mode = 'min'\n",
        "    )\n",
        "\n",
        "model = Trans().load_from_checkpoint(checkpoint_path = '/content/drive/MyDrive/nlp_checkpoints/Gru_bidir_5-epoch=03-Validation_f1=0.00.ckpt')\n",
        "\n",
        "trainer = Trainer(accelerator=\"auto\", max_epochs = 30, auto_lr_find= True, gradient_clip_val=0.5, logger = [logger,logger_cvs], callbacks=[checkpoint_callback])\n",
        "dev = Trainer(accelerator=\"auto\", max_epochs = 1, fast_dev_run=True, )\n",
        "\n",
        "\n",
        "module = MyDataModule(en, 16)"
      ],
      "metadata": {
        "id": "y7KOlnYnbxN3"
      },
      "execution_count": null,
      "outputs": []
    },
    {
      "cell_type": "code",
      "source": [
        "dev.fit(model, module)"
      ],
      "metadata": {
        "id": "mqApvv3oUam6"
      },
      "execution_count": null,
      "outputs": []
    },
    {
      "cell_type": "code",
      "source": [
        "trainer.fit(model, module)"
      ],
      "metadata": {
        "id": "mvpWCTGBdeqv"
      },
      "execution_count": null,
      "outputs": []
    },
    {
      "cell_type": "code",
      "source": [
        "output = trainer.validate(model,module)"
      ],
      "metadata": {
        "colab": {
          "base_uri": "https://localhost:8080/",
          "height": 362,
          "referenced_widgets": [
            "e09611f930a943a9806981d4d0cc4794",
            "ff53c4bfae9d4d6782f59ea31bd84c25",
            "1c2ea98e91ef4cddbecf29eaf6caa2cb",
            "7b46c4547be3400bb4863671846524f2",
            "f9857ceee5244ef38d404cbe6b14feeb",
            "d827e234c06a4d399ff561eff95001f8",
            "d7debccfef4347d1a49b82b925712874",
            "ee453787686d4f29b341b39e260aa9c5",
            "dc2335bd002647a3a38a4b73c6d2414c",
            "c55905c889ee4df98c061f0aa7c05da1",
            "7098bd9b856c4eb094f8c0e32295c188"
          ]
        },
        "id": "31c9BT54DwmE",
        "outputId": "a5f8252a-07e0-41e3-adb5-65c969d8ca4f"
      },
      "execution_count": null,
      "outputs": [
        {
          "output_type": "stream",
          "name": "stderr",
          "text": [
            "LOCAL_RANK: 0 - CUDA_VISIBLE_DEVICES: [0]\n"
          ]
        },
        {
          "output_type": "display_data",
          "data": {
            "text/plain": [
              "Validation: 0it [00:00, ?it/s]"
            ],
            "application/vnd.jupyter.widget-view+json": {
              "version_major": 2,
              "version_minor": 0,
              "model_id": "e09611f930a943a9806981d4d0cc4794"
            }
          },
          "metadata": {}
        },
        {
          "output_type": "stream",
          "name": "stdout",
          "text": [
            "────────────────────────────────────────────────────────────────────────────────────────────────────────────────────────\n",
            "             Validate metric                           DataLoader 0\n",
            "────────────────────────────────────────────────────────────────────────────────────────────────────────────────────────\n",
            "      Validation_classification_f1                  0.8100000023841858\n",
            "Validation_classification_false_negatives                  919.0\n",
            "Validation_classification_false_positives                  997.0\n",
            "   Validation_classification_precision              0.8040000200271606\n",
            "    Validation_classification_recall                0.8169999718666077\n",
            "Validation_classification_true_positives                  4094.0\n",
            "      Validation_identification_f1                  0.8989999890327454\n",
            "Validation_identification_false_negatives                  470.0\n",
            "Validation_identification_false_positives                  548.0\n",
            "   Validation_identification_precision              0.8920000195503235\n",
            "    Validation_identification_recall                 0.906000018119812\n",
            "Validation_identification_true_positives                  4543.0\n",
            "          Validation_loss_epoch                     0.06510019302368164\n",
            "────────────────────────────────────────────────────────────────────────────────────────────────────────────────────────\n"
          ]
        }
      ]
    },
    {
      "cell_type": "code",
      "source": [
        "metrics = pd.read_csv('/content/lightning_logs/cvs_recurrent/version_5/metrics.csv')\n",
        "val_loss = metrics.Validation_loss_epoch.dropna().reset_index(drop = True)[:-1]\n",
        "train_loss = metrics.train_loss_epoch.dropna().reset_index(drop = True)\n",
        "#v_f1 = metrics.Validation_f1.dropna().reset_index(drop = True)[:-1]\n",
        "#t_f1 = metrics.Training_f1.dropna().reset_index(drop = True)"
      ],
      "metadata": {
        "id": "dH_33vHxk92o"
      },
      "execution_count": null,
      "outputs": []
    },
    {
      "cell_type": "code",
      "source": [
        "fig, ax = plt.subplots()\n",
        "ax.plot(val_loss[2:], label = 'Validation loss')\n",
        "ax.plot(train_loss[2:], label = 'Training loss')\n",
        "ax.legend()\n",
        "ax.set_title('Weighted cross entropy loss - Recurrent Transformer')\n",
        "ax.set_xlabel('Epochs')\n",
        "ax.set_ylabel('Loss')\n",
        "plt.savefig('recurrent_loss.png')\n",
        "plt.show()"
      ],
      "metadata": {
        "colab": {
          "base_uri": "https://localhost:8080/",
          "height": 295
        },
        "id": "R6zHHuEZMR98",
        "outputId": "793d442c-6e6c-4274-d06d-40d98d59aec4"
      },
      "execution_count": null,
      "outputs": [
        {
          "output_type": "display_data",
          "data": {
            "text/plain": [
              "<Figure size 432x288 with 1 Axes>"
            ],
            "image/png": "[encoded data removed]"
          },
          "metadata": {
            "needs_background": "light"
          }
        }
      ]
    },
    {
      "cell_type": "markdown",
      "source": [
        "## Training with additional attention encoder"
      ],
      "metadata": {
        "id": "WqS0ZDKtFm4B"
      }
    },
    {
      "cell_type": "code",
      "source": [
        "logger = loggers.TensorBoardLogger('lightning_logs/', name=\"attention_model\")\n",
        "from pytorch_lightning.loggers import CSVLogger\n",
        "logger_cvs = CSVLogger('lightning_logs/', name=\"cvs_attention\")\n",
        "\n",
        "checkpoint_callback = ModelCheckpoint(\n",
        "    monitor='Validation_loss_epoch',\n",
        "    dirpath='/content/drive/MyDrive/nlp_checkpoints',\n",
        "    filename='attention-{epoch:02d}-{Validation_loss_epoch:.2f}',\n",
        "    save_top_k=1,\n",
        "    mode = 'min'\n",
        "    )\n",
        "\n",
        "model = Trans().load_from_checkpoint(checkpoint_path = '/content/drive/MyDrive/nlp_checkpoints/attention-epoch=17-Validation_loss_epoch=0.06.ckpt')\n",
        "\n",
        "trainer = Trainer(accelerator=\"auto\", max_epochs = 30, auto_lr_find= True, gradient_clip_val=0.5, logger = [logger,logger_cvs], callbacks=[checkpoint_callback])\n",
        "dev = Trainer(accelerator=\"auto\", max_epochs = 1, fast_dev_run=True, )\n",
        "\n",
        "\n",
        "module = MyDataModule(en, 16)"
      ],
      "metadata": {
        "id": "TdfywWsvHutp"
      },
      "execution_count": null,
      "outputs": []
    },
    {
      "cell_type": "code",
      "source": [
        "trainer.fit(model,module)"
      ],
      "metadata": {
        "id": "iJ9MFpgsIRX2"
      },
      "execution_count": null,
      "outputs": []
    },
    {
      "cell_type": "code",
      "source": [
        "output = trainer.validate(model, module)"
      ],
      "metadata": {
        "colab": {
          "base_uri": "https://localhost:8080/",
          "height": 362,
          "referenced_widgets": [
            "8068d8c6e31b4de381d9d83eadbfd244",
            "500b93f96184487fbb1f54dd76fb0bf3",
            "3dbf426291c044dca3a9ba57202d4976",
            "bbf4ded910054f819b8a1fc29144bf49",
            "373ce972e45b4d1686236beebe4a2563",
            "80131b3d58b04921b4b557abcf00abc6",
            "a9523ad182294a26ba3c4bd3416d7d18",
            "34bd474196424903bc8601d0bc01fc87",
            "a22bb11d32a544499bfd3b4727af18c0",
            "f9aa90631e4d45cabcc22763d2d3d4ee",
            "3c206e5c17354fa387609a3fc6ce75f2"
          ]
        },
        "id": "TlpfyNOpxTjT",
        "outputId": "b9211063-8ab8-4dcd-901f-8d332bdcfa92"
      },
      "execution_count": null,
      "outputs": [
        {
          "output_type": "stream",
          "name": "stderr",
          "text": [
            "LOCAL_RANK: 0 - CUDA_VISIBLE_DEVICES: [0]\n"
          ]
        },
        {
          "output_type": "display_data",
          "data": {
            "text/plain": [
              "Validation: 0it [00:00, ?it/s]"
            ],
            "application/vnd.jupyter.widget-view+json": {
              "version_major": 2,
              "version_minor": 0,
              "model_id": "8068d8c6e31b4de381d9d83eadbfd244"
            }
          },
          "metadata": {}
        },
        {
          "output_type": "stream",
          "name": "stdout",
          "text": [
            "────────────────────────────────────────────────────────────────────────────────────────────────────────────────────────\n",
            "             Validate metric                           DataLoader 0\n",
            "────────────────────────────────────────────────────────────────────────────────────────────────────────────────────────\n",
            "      Validation_classification_f1                  0.8270000219345093\n",
            "Validation_classification_false_negatives                  867.0\n",
            "Validation_classification_false_positives                  870.0\n",
            "   Validation_classification_precision              0.8270000219345093\n",
            "    Validation_classification_recall                0.8270000219345093\n",
            "Validation_classification_true_positives                  4146.0\n",
            "      Validation_identification_f1                  0.9010000228881836\n",
            "Validation_identification_false_negatives                  495.0\n",
            "Validation_identification_false_positives                  498.0\n",
            "   Validation_identification_precision              0.9010000228881836\n",
            "    Validation_identification_recall                0.9010000228881836\n",
            "Validation_identification_true_positives                  4518.0\n",
            "          Validation_loss_epoch                     0.05562625825405121\n",
            "────────────────────────────────────────────────────────────────────────────────────────────────────────────────────────\n"
          ]
        }
      ]
    },
    {
      "cell_type": "code",
      "source": [
        "metrics = pd.read_csv('/content/lightning_logs/cvs_attention/version_1/metrics.csv')\n",
        "val_loss = metrics.Validation_loss_epoch.dropna().reset_index(drop = True)[:-1]\n",
        "train_loss = metrics.train_loss_epoch.dropna().reset_index(drop = True)"
      ],
      "metadata": {
        "id": "FdzMHN9zQ_Ci"
      },
      "execution_count": null,
      "outputs": []
    },
    {
      "cell_type": "code",
      "source": [
        "fig, ax = plt.subplots()\n",
        "ax.plot(val_loss[2:], label = 'Validation loss')\n",
        "ax.plot(train_loss[2:], label = 'Training loss')\n",
        "ax.legend()\n",
        "ax.set_title('Weighted cross entropy loss - Additional attention head')\n",
        "ax.set_xlabel('Epochs')\n",
        "ax.set_ylabel('Loss')\n",
        "plt.savefig('attention_loss.png')\n",
        "plt.show()"
      ],
      "metadata": {
        "colab": {
          "base_uri": "https://localhost:8080/",
          "height": 295
        },
        "id": "1ww3wFjJRB4K",
        "outputId": "51da43e4-395d-4607-f809-5581739e4b63"
      },
      "execution_count": null,
      "outputs": [
        {
          "output_type": "display_data",
          "data": {
            "text/plain": [
              "<Figure size 432x288 with 1 Axes>"
            ],
            "image/png": "[encoded data removed]"
          },
          "metadata": {
            "needs_background": "light"
          }
        }
      ]
    }
  ]
}